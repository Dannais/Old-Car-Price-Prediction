{
  "nbformat": 4,
  "nbformat_minor": 0,
  "metadata": {
    "colab": {
      "provenance": [],
      "toc_visible": true,
      "authorship_tag": "ABX9TyPXugOkxmpcuJ7SgnQ1i/L6",
      "include_colab_link": true
    },
    "kernelspec": {
      "name": "python3",
      "display_name": "Python 3"
    },
    "language_info": {
      "name": "python"
    }
  },
  "cells": [
    {
      "cell_type": "markdown",
      "metadata": {
        "id": "view-in-github",
        "colab_type": "text"
      },
      "source": [
        "<a href=\"https://colab.research.google.com/github/Dannais/Old-Car-Price-Prediction/blob/main/Old_Car_Price_Prediction.ipynb\" target=\"_parent\"><img src=\"https://colab.research.google.com/assets/colab-badge.svg\" alt=\"Open In Colab\"/></a>"
      ]
    },
    {
      "cell_type": "code",
      "execution_count": 1,
      "metadata": {
        "colab": {
          "base_uri": "https://localhost:8080/"
        },
        "id": "upgr3LPpOED6",
        "outputId": "c026ccb6-38e5-4e8f-9d44-743eeba30a98"
      },
      "outputs": [
        {
          "output_type": "stream",
          "name": "stdout",
          "text": [
            "Mounted at /content/drive\n"
          ]
        }
      ],
      "source": [
        "from google.colab import drive\n",
        "drive.mount('/content/drive')"
      ]
    },
    {
      "cell_type": "code",
      "source": [
        "# Importar las bibliotecas\n",
        "import matplotlib.pyplot as plt\n",
        "import pandas as pd\n",
        "import numpy as np\n",
        "import seaborn as sns\n"
      ],
      "metadata": {
        "id": "qxdcGptvPHVb"
      },
      "execution_count": 28,
      "outputs": []
    },
    {
      "cell_type": "code",
      "source": [
        "# Cargar el conjunto de datos\n",
        "filename = '/content/drive/MyDrive/Cursos Data Science/Coding Dojo/2. Machine Learning/0. Fuente de Datos/car_price.csv'\n",
        "df = pd.read_csv(filename)\n",
        "df.head()"
      ],
      "metadata": {
        "colab": {
          "base_uri": "https://localhost:8080/",
          "height": 206
        },
        "id": "2wWZixITPLWc",
        "outputId": "11089e2f-564a-4bb1-c235-18585eb15bed"
      },
      "execution_count": 2,
      "outputs": [
        {
          "output_type": "execute_result",
          "data": {
            "text/plain": [
              "   Unnamed: 0                                car_name car_prices_in_rupee  \\\n",
              "0           0  Jeep Compass 2.0 Longitude Option BSIV          10.03 Lakh   \n",
              "1           1            Renault Duster RXZ Turbo CVT          12.83 Lakh   \n",
              "2           2                      Toyota Camry 2.5 G          16.40 Lakh   \n",
              "3           3                       Honda Jazz VX CVT           7.77 Lakh   \n",
              "4           4        Volkswagen Polo 1.2 MPI Highline           5.15 Lakh   \n",
              "\n",
              "   kms_driven fuel_type transmission  ownership  manufacture   engine    Seats  \n",
              "0  86,226 kms    Diesel       Manual  1st Owner         2017  1956 cc  5 Seats  \n",
              "1  13,248 kms    Petrol    Automatic  1st Owner         2021  1330 cc  5 Seats  \n",
              "2  60,343 kms    Petrol    Automatic  1st Owner         2016  2494 cc  5 Seats  \n",
              "3  26,696 kms    Petrol    Automatic  1st Owner         2018  1199 cc  5 Seats  \n",
              "4  69,414 kms    Petrol       Manual  1st Owner         2016  1199 cc  5 Seats  "
            ],
            "text/html": [
              "\n",
              "  <div id=\"df-33a92ca3-670b-434f-ba34-c3a5369f6a19\">\n",
              "    <div class=\"colab-df-container\">\n",
              "      <div>\n",
              "<style scoped>\n",
              "    .dataframe tbody tr th:only-of-type {\n",
              "        vertical-align: middle;\n",
              "    }\n",
              "\n",
              "    .dataframe tbody tr th {\n",
              "        vertical-align: top;\n",
              "    }\n",
              "\n",
              "    .dataframe thead th {\n",
              "        text-align: right;\n",
              "    }\n",
              "</style>\n",
              "<table border=\"1\" class=\"dataframe\">\n",
              "  <thead>\n",
              "    <tr style=\"text-align: right;\">\n",
              "      <th></th>\n",
              "      <th>Unnamed: 0</th>\n",
              "      <th>car_name</th>\n",
              "      <th>car_prices_in_rupee</th>\n",
              "      <th>kms_driven</th>\n",
              "      <th>fuel_type</th>\n",
              "      <th>transmission</th>\n",
              "      <th>ownership</th>\n",
              "      <th>manufacture</th>\n",
              "      <th>engine</th>\n",
              "      <th>Seats</th>\n",
              "    </tr>\n",
              "  </thead>\n",
              "  <tbody>\n",
              "    <tr>\n",
              "      <th>0</th>\n",
              "      <td>0</td>\n",
              "      <td>Jeep Compass 2.0 Longitude Option BSIV</td>\n",
              "      <td>10.03 Lakh</td>\n",
              "      <td>86,226 kms</td>\n",
              "      <td>Diesel</td>\n",
              "      <td>Manual</td>\n",
              "      <td>1st Owner</td>\n",
              "      <td>2017</td>\n",
              "      <td>1956 cc</td>\n",
              "      <td>5 Seats</td>\n",
              "    </tr>\n",
              "    <tr>\n",
              "      <th>1</th>\n",
              "      <td>1</td>\n",
              "      <td>Renault Duster RXZ Turbo CVT</td>\n",
              "      <td>12.83 Lakh</td>\n",
              "      <td>13,248 kms</td>\n",
              "      <td>Petrol</td>\n",
              "      <td>Automatic</td>\n",
              "      <td>1st Owner</td>\n",
              "      <td>2021</td>\n",
              "      <td>1330 cc</td>\n",
              "      <td>5 Seats</td>\n",
              "    </tr>\n",
              "    <tr>\n",
              "      <th>2</th>\n",
              "      <td>2</td>\n",
              "      <td>Toyota Camry 2.5 G</td>\n",
              "      <td>16.40 Lakh</td>\n",
              "      <td>60,343 kms</td>\n",
              "      <td>Petrol</td>\n",
              "      <td>Automatic</td>\n",
              "      <td>1st Owner</td>\n",
              "      <td>2016</td>\n",
              "      <td>2494 cc</td>\n",
              "      <td>5 Seats</td>\n",
              "    </tr>\n",
              "    <tr>\n",
              "      <th>3</th>\n",
              "      <td>3</td>\n",
              "      <td>Honda Jazz VX CVT</td>\n",
              "      <td>7.77 Lakh</td>\n",
              "      <td>26,696 kms</td>\n",
              "      <td>Petrol</td>\n",
              "      <td>Automatic</td>\n",
              "      <td>1st Owner</td>\n",
              "      <td>2018</td>\n",
              "      <td>1199 cc</td>\n",
              "      <td>5 Seats</td>\n",
              "    </tr>\n",
              "    <tr>\n",
              "      <th>4</th>\n",
              "      <td>4</td>\n",
              "      <td>Volkswagen Polo 1.2 MPI Highline</td>\n",
              "      <td>5.15 Lakh</td>\n",
              "      <td>69,414 kms</td>\n",
              "      <td>Petrol</td>\n",
              "      <td>Manual</td>\n",
              "      <td>1st Owner</td>\n",
              "      <td>2016</td>\n",
              "      <td>1199 cc</td>\n",
              "      <td>5 Seats</td>\n",
              "    </tr>\n",
              "  </tbody>\n",
              "</table>\n",
              "</div>\n",
              "      <button class=\"colab-df-convert\" onclick=\"convertToInteractive('df-33a92ca3-670b-434f-ba34-c3a5369f6a19')\"\n",
              "              title=\"Convert this dataframe to an interactive table.\"\n",
              "              style=\"display:none;\">\n",
              "        \n",
              "  <svg xmlns=\"http://www.w3.org/2000/svg\" height=\"24px\"viewBox=\"0 0 24 24\"\n",
              "       width=\"24px\">\n",
              "    <path d=\"M0 0h24v24H0V0z\" fill=\"none\"/>\n",
              "    <path d=\"M18.56 5.44l.94 2.06.94-2.06 2.06-.94-2.06-.94-.94-2.06-.94 2.06-2.06.94zm-11 1L8.5 8.5l.94-2.06 2.06-.94-2.06-.94L8.5 2.5l-.94 2.06-2.06.94zm10 10l.94 2.06.94-2.06 2.06-.94-2.06-.94-.94-2.06-.94 2.06-2.06.94z\"/><path d=\"M17.41 7.96l-1.37-1.37c-.4-.4-.92-.59-1.43-.59-.52 0-1.04.2-1.43.59L10.3 9.45l-7.72 7.72c-.78.78-.78 2.05 0 2.83L4 21.41c.39.39.9.59 1.41.59.51 0 1.02-.2 1.41-.59l7.78-7.78 2.81-2.81c.8-.78.8-2.07 0-2.86zM5.41 20L4 18.59l7.72-7.72 1.47 1.35L5.41 20z\"/>\n",
              "  </svg>\n",
              "      </button>\n",
              "      \n",
              "  <style>\n",
              "    .colab-df-container {\n",
              "      display:flex;\n",
              "      flex-wrap:wrap;\n",
              "      gap: 12px;\n",
              "    }\n",
              "\n",
              "    .colab-df-convert {\n",
              "      background-color: #E8F0FE;\n",
              "      border: none;\n",
              "      border-radius: 50%;\n",
              "      cursor: pointer;\n",
              "      display: none;\n",
              "      fill: #1967D2;\n",
              "      height: 32px;\n",
              "      padding: 0 0 0 0;\n",
              "      width: 32px;\n",
              "    }\n",
              "\n",
              "    .colab-df-convert:hover {\n",
              "      background-color: #E2EBFA;\n",
              "      box-shadow: 0px 1px 2px rgba(60, 64, 67, 0.3), 0px 1px 3px 1px rgba(60, 64, 67, 0.15);\n",
              "      fill: #174EA6;\n",
              "    }\n",
              "\n",
              "    [theme=dark] .colab-df-convert {\n",
              "      background-color: #3B4455;\n",
              "      fill: #D2E3FC;\n",
              "    }\n",
              "\n",
              "    [theme=dark] .colab-df-convert:hover {\n",
              "      background-color: #434B5C;\n",
              "      box-shadow: 0px 1px 3px 1px rgba(0, 0, 0, 0.15);\n",
              "      filter: drop-shadow(0px 1px 2px rgba(0, 0, 0, 0.3));\n",
              "      fill: #FFFFFF;\n",
              "    }\n",
              "  </style>\n",
              "\n",
              "      <script>\n",
              "        const buttonEl =\n",
              "          document.querySelector('#df-33a92ca3-670b-434f-ba34-c3a5369f6a19 button.colab-df-convert');\n",
              "        buttonEl.style.display =\n",
              "          google.colab.kernel.accessAllowed ? 'block' : 'none';\n",
              "\n",
              "        async function convertToInteractive(key) {\n",
              "          const element = document.querySelector('#df-33a92ca3-670b-434f-ba34-c3a5369f6a19');\n",
              "          const dataTable =\n",
              "            await google.colab.kernel.invokeFunction('convertToInteractive',\n",
              "                                                     [key], {});\n",
              "          if (!dataTable) return;\n",
              "\n",
              "          const docLinkHtml = 'Like what you see? Visit the ' +\n",
              "            '<a target=\"_blank\" href=https://colab.research.google.com/notebooks/data_table.ipynb>data table notebook</a>'\n",
              "            + ' to learn more about interactive tables.';\n",
              "          element.innerHTML = '';\n",
              "          dataTable['output_type'] = 'display_data';\n",
              "          await google.colab.output.renderOutput(dataTable, element);\n",
              "          const docLink = document.createElement('div');\n",
              "          docLink.innerHTML = docLinkHtml;\n",
              "          element.appendChild(docLink);\n",
              "        }\n",
              "      </script>\n",
              "    </div>\n",
              "  </div>\n",
              "  "
            ]
          },
          "metadata": {},
          "execution_count": 2
        }
      ]
    },
    {
      "cell_type": "markdown",
      "source": [
        "# **Detalle de la fuente de datos**\n",
        "\n",
        "**1) Fuente de datos**\n",
        "\n",
        "Se obtuvo la fuente mediante la plataforma Kaggle.\n",
        "\n",
        "Fuente: https://www.kaggle.com/datasets/milanvaddoriya/old-car-price-prediction\n",
        "\n",
        "**2) Breve descripción de datos**\n",
        "\n",
        "La fuente de datos contiene información a detalle de carros antiguos y su precio respectivo.\n",
        "\n",
        "**3) ¿Cuál es el objetivo?**\n",
        "\n",
        "* Analizar los datos de investigación.\n",
        "* Entrenar la fuente para obtener resultados valiosos\n",
        "\n",
        "**4) ¿Este es un problema de clasificación o regresión?**\n",
        "\n",
        "Es un problema de regresión, ya que necesitamos predecir los precios de los carros antiguos\n",
        "\n",
        "**5) ¿Cuántas características hay?**\n",
        "\n",
        "Hay 9 características. \n",
        "\n",
        "**6) ¿Cuántas filas de datos hay?**\n",
        "\n",
        "Hay 5512 filas\n",
        "\n",
        "**7) ¿Qué retos, si es que hay alguno, prevén en la limpieza, exploración o modelización con este conjunto de datos?**\n",
        "\n",
        "Se va a tener que eliminar las medidas estándar de los campos como, por ejemplo, 'kms' del campo kms_driven.\n"
      ],
      "metadata": {
        "id": "UWjO7pyfQc33"
      }
    },
    {
      "cell_type": "markdown",
      "source": [
        "# **Limpieza de Datos**"
      ],
      "metadata": {
        "id": "c5MaylCrZcYn"
      }
    },
    {
      "cell_type": "markdown",
      "source": [
        "## Eliminación de las columnas innecesarias"
      ],
      "metadata": {
        "id": "gl71H4HabE4w"
      }
    },
    {
      "cell_type": "code",
      "source": [
        "df = df.drop(columns=['Unnamed: 0'])\n",
        "df.head()"
      ],
      "metadata": {
        "colab": {
          "base_uri": "https://localhost:8080/",
          "height": 206
        },
        "id": "MFgrHEYAZj75",
        "outputId": "5e7a49bf-94c7-4a94-93cf-4faf56dcda11"
      },
      "execution_count": 3,
      "outputs": [
        {
          "output_type": "execute_result",
          "data": {
            "text/plain": [
              "                                 car_name car_prices_in_rupee  kms_driven  \\\n",
              "0  Jeep Compass 2.0 Longitude Option BSIV          10.03 Lakh  86,226 kms   \n",
              "1            Renault Duster RXZ Turbo CVT          12.83 Lakh  13,248 kms   \n",
              "2                      Toyota Camry 2.5 G          16.40 Lakh  60,343 kms   \n",
              "3                       Honda Jazz VX CVT           7.77 Lakh  26,696 kms   \n",
              "4        Volkswagen Polo 1.2 MPI Highline           5.15 Lakh  69,414 kms   \n",
              "\n",
              "  fuel_type transmission  ownership  manufacture   engine    Seats  \n",
              "0    Diesel       Manual  1st Owner         2017  1956 cc  5 Seats  \n",
              "1    Petrol    Automatic  1st Owner         2021  1330 cc  5 Seats  \n",
              "2    Petrol    Automatic  1st Owner         2016  2494 cc  5 Seats  \n",
              "3    Petrol    Automatic  1st Owner         2018  1199 cc  5 Seats  \n",
              "4    Petrol       Manual  1st Owner         2016  1199 cc  5 Seats  "
            ],
            "text/html": [
              "\n",
              "  <div id=\"df-bf348b25-5878-4c9d-9c0d-1a31f74a8f09\">\n",
              "    <div class=\"colab-df-container\">\n",
              "      <div>\n",
              "<style scoped>\n",
              "    .dataframe tbody tr th:only-of-type {\n",
              "        vertical-align: middle;\n",
              "    }\n",
              "\n",
              "    .dataframe tbody tr th {\n",
              "        vertical-align: top;\n",
              "    }\n",
              "\n",
              "    .dataframe thead th {\n",
              "        text-align: right;\n",
              "    }\n",
              "</style>\n",
              "<table border=\"1\" class=\"dataframe\">\n",
              "  <thead>\n",
              "    <tr style=\"text-align: right;\">\n",
              "      <th></th>\n",
              "      <th>car_name</th>\n",
              "      <th>car_prices_in_rupee</th>\n",
              "      <th>kms_driven</th>\n",
              "      <th>fuel_type</th>\n",
              "      <th>transmission</th>\n",
              "      <th>ownership</th>\n",
              "      <th>manufacture</th>\n",
              "      <th>engine</th>\n",
              "      <th>Seats</th>\n",
              "    </tr>\n",
              "  </thead>\n",
              "  <tbody>\n",
              "    <tr>\n",
              "      <th>0</th>\n",
              "      <td>Jeep Compass 2.0 Longitude Option BSIV</td>\n",
              "      <td>10.03 Lakh</td>\n",
              "      <td>86,226 kms</td>\n",
              "      <td>Diesel</td>\n",
              "      <td>Manual</td>\n",
              "      <td>1st Owner</td>\n",
              "      <td>2017</td>\n",
              "      <td>1956 cc</td>\n",
              "      <td>5 Seats</td>\n",
              "    </tr>\n",
              "    <tr>\n",
              "      <th>1</th>\n",
              "      <td>Renault Duster RXZ Turbo CVT</td>\n",
              "      <td>12.83 Lakh</td>\n",
              "      <td>13,248 kms</td>\n",
              "      <td>Petrol</td>\n",
              "      <td>Automatic</td>\n",
              "      <td>1st Owner</td>\n",
              "      <td>2021</td>\n",
              "      <td>1330 cc</td>\n",
              "      <td>5 Seats</td>\n",
              "    </tr>\n",
              "    <tr>\n",
              "      <th>2</th>\n",
              "      <td>Toyota Camry 2.5 G</td>\n",
              "      <td>16.40 Lakh</td>\n",
              "      <td>60,343 kms</td>\n",
              "      <td>Petrol</td>\n",
              "      <td>Automatic</td>\n",
              "      <td>1st Owner</td>\n",
              "      <td>2016</td>\n",
              "      <td>2494 cc</td>\n",
              "      <td>5 Seats</td>\n",
              "    </tr>\n",
              "    <tr>\n",
              "      <th>3</th>\n",
              "      <td>Honda Jazz VX CVT</td>\n",
              "      <td>7.77 Lakh</td>\n",
              "      <td>26,696 kms</td>\n",
              "      <td>Petrol</td>\n",
              "      <td>Automatic</td>\n",
              "      <td>1st Owner</td>\n",
              "      <td>2018</td>\n",
              "      <td>1199 cc</td>\n",
              "      <td>5 Seats</td>\n",
              "    </tr>\n",
              "    <tr>\n",
              "      <th>4</th>\n",
              "      <td>Volkswagen Polo 1.2 MPI Highline</td>\n",
              "      <td>5.15 Lakh</td>\n",
              "      <td>69,414 kms</td>\n",
              "      <td>Petrol</td>\n",
              "      <td>Manual</td>\n",
              "      <td>1st Owner</td>\n",
              "      <td>2016</td>\n",
              "      <td>1199 cc</td>\n",
              "      <td>5 Seats</td>\n",
              "    </tr>\n",
              "  </tbody>\n",
              "</table>\n",
              "</div>\n",
              "      <button class=\"colab-df-convert\" onclick=\"convertToInteractive('df-bf348b25-5878-4c9d-9c0d-1a31f74a8f09')\"\n",
              "              title=\"Convert this dataframe to an interactive table.\"\n",
              "              style=\"display:none;\">\n",
              "        \n",
              "  <svg xmlns=\"http://www.w3.org/2000/svg\" height=\"24px\"viewBox=\"0 0 24 24\"\n",
              "       width=\"24px\">\n",
              "    <path d=\"M0 0h24v24H0V0z\" fill=\"none\"/>\n",
              "    <path d=\"M18.56 5.44l.94 2.06.94-2.06 2.06-.94-2.06-.94-.94-2.06-.94 2.06-2.06.94zm-11 1L8.5 8.5l.94-2.06 2.06-.94-2.06-.94L8.5 2.5l-.94 2.06-2.06.94zm10 10l.94 2.06.94-2.06 2.06-.94-2.06-.94-.94-2.06-.94 2.06-2.06.94z\"/><path d=\"M17.41 7.96l-1.37-1.37c-.4-.4-.92-.59-1.43-.59-.52 0-1.04.2-1.43.59L10.3 9.45l-7.72 7.72c-.78.78-.78 2.05 0 2.83L4 21.41c.39.39.9.59 1.41.59.51 0 1.02-.2 1.41-.59l7.78-7.78 2.81-2.81c.8-.78.8-2.07 0-2.86zM5.41 20L4 18.59l7.72-7.72 1.47 1.35L5.41 20z\"/>\n",
              "  </svg>\n",
              "      </button>\n",
              "      \n",
              "  <style>\n",
              "    .colab-df-container {\n",
              "      display:flex;\n",
              "      flex-wrap:wrap;\n",
              "      gap: 12px;\n",
              "    }\n",
              "\n",
              "    .colab-df-convert {\n",
              "      background-color: #E8F0FE;\n",
              "      border: none;\n",
              "      border-radius: 50%;\n",
              "      cursor: pointer;\n",
              "      display: none;\n",
              "      fill: #1967D2;\n",
              "      height: 32px;\n",
              "      padding: 0 0 0 0;\n",
              "      width: 32px;\n",
              "    }\n",
              "\n",
              "    .colab-df-convert:hover {\n",
              "      background-color: #E2EBFA;\n",
              "      box-shadow: 0px 1px 2px rgba(60, 64, 67, 0.3), 0px 1px 3px 1px rgba(60, 64, 67, 0.15);\n",
              "      fill: #174EA6;\n",
              "    }\n",
              "\n",
              "    [theme=dark] .colab-df-convert {\n",
              "      background-color: #3B4455;\n",
              "      fill: #D2E3FC;\n",
              "    }\n",
              "\n",
              "    [theme=dark] .colab-df-convert:hover {\n",
              "      background-color: #434B5C;\n",
              "      box-shadow: 0px 1px 3px 1px rgba(0, 0, 0, 0.15);\n",
              "      filter: drop-shadow(0px 1px 2px rgba(0, 0, 0, 0.3));\n",
              "      fill: #FFFFFF;\n",
              "    }\n",
              "  </style>\n",
              "\n",
              "      <script>\n",
              "        const buttonEl =\n",
              "          document.querySelector('#df-bf348b25-5878-4c9d-9c0d-1a31f74a8f09 button.colab-df-convert');\n",
              "        buttonEl.style.display =\n",
              "          google.colab.kernel.accessAllowed ? 'block' : 'none';\n",
              "\n",
              "        async function convertToInteractive(key) {\n",
              "          const element = document.querySelector('#df-bf348b25-5878-4c9d-9c0d-1a31f74a8f09');\n",
              "          const dataTable =\n",
              "            await google.colab.kernel.invokeFunction('convertToInteractive',\n",
              "                                                     [key], {});\n",
              "          if (!dataTable) return;\n",
              "\n",
              "          const docLinkHtml = 'Like what you see? Visit the ' +\n",
              "            '<a target=\"_blank\" href=https://colab.research.google.com/notebooks/data_table.ipynb>data table notebook</a>'\n",
              "            + ' to learn more about interactive tables.';\n",
              "          element.innerHTML = '';\n",
              "          dataTable['output_type'] = 'display_data';\n",
              "          await google.colab.output.renderOutput(dataTable, element);\n",
              "          const docLink = document.createElement('div');\n",
              "          docLink.innerHTML = docLinkHtml;\n",
              "          element.appendChild(docLink);\n",
              "        }\n",
              "      </script>\n",
              "    </div>\n",
              "  </div>\n",
              "  "
            ]
          },
          "metadata": {},
          "execution_count": 3
        }
      ]
    },
    {
      "cell_type": "markdown",
      "source": [
        "## Revisión de existencias de filas duplicadas"
      ],
      "metadata": {
        "id": "_VaZLTF8bI_H"
      }
    },
    {
      "cell_type": "code",
      "source": [
        "df.duplicated().sum()"
      ],
      "metadata": {
        "colab": {
          "base_uri": "https://localhost:8080/"
        },
        "id": "9Ta7GOnLZuth",
        "outputId": "0e5ab215-7f9c-41de-bede-3b1c6fffd966"
      },
      "execution_count": 4,
      "outputs": [
        {
          "output_type": "execute_result",
          "data": {
            "text/plain": [
              "76"
            ]
          },
          "metadata": {},
          "execution_count": 4
        }
      ]
    },
    {
      "cell_type": "code",
      "source": [
        "# Eliminación de las filas duplicadas\n",
        "df = df.drop_duplicates()\n",
        "df.duplicated().sum()"
      ],
      "metadata": {
        "colab": {
          "base_uri": "https://localhost:8080/"
        },
        "id": "66jGPxooZ2Hs",
        "outputId": "d3fae6ee-403d-4c73-94a6-0bda0dddc353"
      },
      "execution_count": 5,
      "outputs": [
        {
          "output_type": "execute_result",
          "data": {
            "text/plain": [
              "0"
            ]
          },
          "metadata": {},
          "execution_count": 5
        }
      ]
    },
    {
      "cell_type": "markdown",
      "source": [
        "## Identificación de valores faltantes"
      ],
      "metadata": {
        "id": "8iltA_JhbMWJ"
      }
    },
    {
      "cell_type": "code",
      "source": [
        "df.info()"
      ],
      "metadata": {
        "colab": {
          "base_uri": "https://localhost:8080/"
        },
        "id": "pSklQHOTaDzE",
        "outputId": "a7c8a439-34fc-49eb-844c-a86c41b4a671"
      },
      "execution_count": 6,
      "outputs": [
        {
          "output_type": "stream",
          "name": "stdout",
          "text": [
            "<class 'pandas.core.frame.DataFrame'>\n",
            "Int64Index: 5436 entries, 0 to 5511\n",
            "Data columns (total 9 columns):\n",
            " #   Column               Non-Null Count  Dtype \n",
            "---  ------               --------------  ----- \n",
            " 0   car_name             5436 non-null   object\n",
            " 1   car_prices_in_rupee  5436 non-null   object\n",
            " 2   kms_driven           5436 non-null   object\n",
            " 3   fuel_type            5436 non-null   object\n",
            " 4   transmission         5436 non-null   object\n",
            " 5   ownership            5436 non-null   object\n",
            " 6   manufacture          5436 non-null   int64 \n",
            " 7   engine               5436 non-null   object\n",
            " 8   Seats                5436 non-null   object\n",
            "dtypes: int64(1), object(8)\n",
            "memory usage: 424.7+ KB\n"
          ]
        }
      ]
    },
    {
      "cell_type": "markdown",
      "source": [
        "> No hay datos faltantes en la fuente de datos para ningún campo"
      ],
      "metadata": {
        "id": "ttFXHZNeaN-H"
      }
    },
    {
      "cell_type": "markdown",
      "source": [
        "## Identificación y corrección de las inconsistencias en los datos para los valores categóricos"
      ],
      "metadata": {
        "id": "9sX4X2p4bP20"
      }
    },
    {
      "cell_type": "code",
      "source": [
        "# Revisión del campo 'transmission'\n",
        "df['transmission'].value_counts()"
      ],
      "metadata": {
        "colab": {
          "base_uri": "https://localhost:8080/"
        },
        "id": "PdJhx4tgaSlD",
        "outputId": "5d11de3e-3bac-4bf0-e941-1871287fd67a"
      },
      "execution_count": 7,
      "outputs": [
        {
          "output_type": "execute_result",
          "data": {
            "text/plain": [
              "Manual       3919\n",
              "Automatic    1517\n",
              "Name: transmission, dtype: int64"
            ]
          },
          "metadata": {},
          "execution_count": 7
        }
      ]
    },
    {
      "cell_type": "code",
      "source": [
        "# Revisión del campo 'fuel_type'\n",
        "df['fuel_type'].value_counts()"
      ],
      "metadata": {
        "colab": {
          "base_uri": "https://localhost:8080/"
        },
        "id": "3YjevZiHaTBR",
        "outputId": "acbc73ce-6dbc-4cfe-d1b6-1d90c5fd8566"
      },
      "execution_count": 8,
      "outputs": [
        {
          "output_type": "execute_result",
          "data": {
            "text/plain": [
              "Petrol      2933\n",
              "Diesel      2381\n",
              "Cng           80\n",
              "Lpg           28\n",
              "Electric      14\n",
              "Name: fuel_type, dtype: int64"
            ]
          },
          "metadata": {},
          "execution_count": 8
        }
      ]
    },
    {
      "cell_type": "code",
      "source": [
        "# Revisión del campo 'ownership'\n",
        "df['ownership'].value_counts()"
      ],
      "metadata": {
        "colab": {
          "base_uri": "https://localhost:8080/"
        },
        "id": "LyTNDzUvaS8y",
        "outputId": "906e70ae-363b-47f8-d313-8273292662ba"
      },
      "execution_count": 9,
      "outputs": [
        {
          "output_type": "execute_result",
          "data": {
            "text/plain": [
              "1st Owner    3678\n",
              "2nd Owner    1298\n",
              "3rd Owner     358\n",
              "4th Owner      84\n",
              "5th Owner      12\n",
              "0th Owner       6\n",
              "Name: ownership, dtype: int64"
            ]
          },
          "metadata": {},
          "execution_count": 9
        }
      ]
    },
    {
      "cell_type": "code",
      "source": [
        "# Revisión del campo 'Seats'\n",
        "df['Seats'].value_counts()"
      ],
      "metadata": {
        "colab": {
          "base_uri": "https://localhost:8080/"
        },
        "id": "ts3UJB-XaS5S",
        "outputId": "4d311721-ebde-4ad8-8042-ffc5d66ab04d"
      },
      "execution_count": 10,
      "outputs": [
        {
          "output_type": "execute_result",
          "data": {
            "text/plain": [
              "5 Seats    4603\n",
              "7 Seats     626\n",
              "4 Seats      88\n",
              "6 Seats      60\n",
              "8 Seats      54\n",
              "2 Seats       5\n",
              "Name: Seats, dtype: int64"
            ]
          },
          "metadata": {},
          "execution_count": 10
        }
      ]
    },
    {
      "cell_type": "markdown",
      "source": [
        "> Los campos categóricos de la fuente no necesitan ser corregidos, ya que ninguno presenta inconsistencias en la data"
      ],
      "metadata": {
        "id": "f4MAcN6MbRuX"
      }
    },
    {
      "cell_type": "markdown",
      "source": [
        "## Corrección de tipo de Datos\n"
      ],
      "metadata": {
        "id": "VWqiLaxQcd3L"
      }
    },
    {
      "cell_type": "code",
      "source": [
        "# Cambiar el tipo de datos de 'kms_driven' a númerico\n",
        "df['kms_driven']=df['kms_driven'].str.replace('kms','')\n",
        "df['kms_driven']=df['kms_driven'].str.replace(',','')\n",
        "df['kms_driven'] = df['kms_driven'].astype(int)\n",
        "df.info()"
      ],
      "metadata": {
        "colab": {
          "base_uri": "https://localhost:8080/"
        },
        "id": "sHCNeqO5c_Jp",
        "outputId": "0741f9e1-295f-42f6-a1dc-363edd837ed6"
      },
      "execution_count": 11,
      "outputs": [
        {
          "output_type": "stream",
          "name": "stdout",
          "text": [
            "<class 'pandas.core.frame.DataFrame'>\n",
            "Int64Index: 5436 entries, 0 to 5511\n",
            "Data columns (total 9 columns):\n",
            " #   Column               Non-Null Count  Dtype \n",
            "---  ------               --------------  ----- \n",
            " 0   car_name             5436 non-null   object\n",
            " 1   car_prices_in_rupee  5436 non-null   object\n",
            " 2   kms_driven           5436 non-null   int64 \n",
            " 3   fuel_type            5436 non-null   object\n",
            " 4   transmission         5436 non-null   object\n",
            " 5   ownership            5436 non-null   object\n",
            " 6   manufacture          5436 non-null   int64 \n",
            " 7   engine               5436 non-null   object\n",
            " 8   Seats                5436 non-null   object\n",
            "dtypes: int64(2), object(7)\n",
            "memory usage: 424.7+ KB\n"
          ]
        }
      ]
    },
    {
      "cell_type": "code",
      "source": [
        "# Cambiar el tipo de datos de 'engine' a númerico\n",
        "df['engine']=df['engine'].str.replace('cc','')\n",
        "df['engine'] = df['engine'].astype(int)\n",
        "df.info()"
      ],
      "metadata": {
        "colab": {
          "base_uri": "https://localhost:8080/"
        },
        "id": "xDwsNgS8cc-S",
        "outputId": "fbccde7c-69d4-4384-92d3-519898580889"
      },
      "execution_count": 12,
      "outputs": [
        {
          "output_type": "stream",
          "name": "stdout",
          "text": [
            "<class 'pandas.core.frame.DataFrame'>\n",
            "Int64Index: 5436 entries, 0 to 5511\n",
            "Data columns (total 9 columns):\n",
            " #   Column               Non-Null Count  Dtype \n",
            "---  ------               --------------  ----- \n",
            " 0   car_name             5436 non-null   object\n",
            " 1   car_prices_in_rupee  5436 non-null   object\n",
            " 2   kms_driven           5436 non-null   int64 \n",
            " 3   fuel_type            5436 non-null   object\n",
            " 4   transmission         5436 non-null   object\n",
            " 5   ownership            5436 non-null   object\n",
            " 6   manufacture          5436 non-null   int64 \n",
            " 7   engine               5436 non-null   int64 \n",
            " 8   Seats                5436 non-null   object\n",
            "dtypes: int64(3), object(6)\n",
            "memory usage: 424.7+ KB\n"
          ]
        }
      ]
    },
    {
      "cell_type": "code",
      "source": [
        "# Cambiar el tipo de datos de 'ownership' a númerico\n",
        "df['ownership']=df['ownership'].str.replace('Owner','')\n",
        "df['ownership']=df['ownership'].str.replace('st','')\n",
        "df['ownership']=df['ownership'].str.replace('nd','')\n",
        "df['ownership']=df['ownership'].str.replace('rd','')\n",
        "df['ownership']=df['ownership'].str.replace('th','')\n",
        "df['ownership'] = df['ownership'].astype(int)\n",
        "df.info()"
      ],
      "metadata": {
        "colab": {
          "base_uri": "https://localhost:8080/"
        },
        "id": "f_Z_ao0ndH5s",
        "outputId": "6efa5489-0680-4535-f1fc-19793f69e652"
      },
      "execution_count": 13,
      "outputs": [
        {
          "output_type": "stream",
          "name": "stdout",
          "text": [
            "<class 'pandas.core.frame.DataFrame'>\n",
            "Int64Index: 5436 entries, 0 to 5511\n",
            "Data columns (total 9 columns):\n",
            " #   Column               Non-Null Count  Dtype \n",
            "---  ------               --------------  ----- \n",
            " 0   car_name             5436 non-null   object\n",
            " 1   car_prices_in_rupee  5436 non-null   object\n",
            " 2   kms_driven           5436 non-null   int64 \n",
            " 3   fuel_type            5436 non-null   object\n",
            " 4   transmission         5436 non-null   object\n",
            " 5   ownership            5436 non-null   int64 \n",
            " 6   manufacture          5436 non-null   int64 \n",
            " 7   engine               5436 non-null   int64 \n",
            " 8   Seats                5436 non-null   object\n",
            "dtypes: int64(4), object(5)\n",
            "memory usage: 424.7+ KB\n"
          ]
        }
      ]
    },
    {
      "cell_type": "code",
      "source": [
        "# Cambiar el tipo de datos de 'car_prices_in_rupee' a númerico\n",
        "\n",
        "## Separar campos por el valor del precios y la moneda\n",
        "car_prices_in_rupee = df[\"car_prices_in_rupee\"].str.split(expand=True)\n",
        "car_prices_in_rupee.columns = ['price', 'moneda']\n",
        "\n",
        "## Añadir estos campos al df\n",
        "df = pd.concat([car_prices_in_rupee, df], axis=1)\n",
        "\n",
        "## Reemplazar los valores nulos de la columna 'moneda' con 'Rupee'\n",
        "df['moneda'].fillna('Rupee',inplace = True)\n",
        "\n",
        "## Reemplazar caracteres\n",
        "df['price'] = df['price'].str.replace(',','')\n",
        "\n",
        "## Cambiar el tipo de datos del campo 'price'\n",
        "df['price'] = df['price'].astype(float)\n",
        "\n",
        "df.head()"
      ],
      "metadata": {
        "colab": {
          "base_uri": "https://localhost:8080/",
          "height": 206
        },
        "id": "Om8MPe5pdx6V",
        "outputId": "9ef9a6e5-7fe6-4605-b657-a47330cef598"
      },
      "execution_count": 14,
      "outputs": [
        {
          "output_type": "execute_result",
          "data": {
            "text/plain": [
              "   price moneda                                car_name car_prices_in_rupee  \\\n",
              "0  10.03   Lakh  Jeep Compass 2.0 Longitude Option BSIV          10.03 Lakh   \n",
              "1  12.83   Lakh            Renault Duster RXZ Turbo CVT          12.83 Lakh   \n",
              "2  16.40   Lakh                      Toyota Camry 2.5 G          16.40 Lakh   \n",
              "3   7.77   Lakh                       Honda Jazz VX CVT           7.77 Lakh   \n",
              "4   5.15   Lakh        Volkswagen Polo 1.2 MPI Highline           5.15 Lakh   \n",
              "\n",
              "   kms_driven fuel_type transmission  ownership  manufacture  engine    Seats  \n",
              "0       86226    Diesel       Manual          1         2017    1956  5 Seats  \n",
              "1       13248    Petrol    Automatic          1         2021    1330  5 Seats  \n",
              "2       60343    Petrol    Automatic          1         2016    2494  5 Seats  \n",
              "3       26696    Petrol    Automatic          1         2018    1199  5 Seats  \n",
              "4       69414    Petrol       Manual          1         2016    1199  5 Seats  "
            ],
            "text/html": [
              "\n",
              "  <div id=\"df-eda7eee0-311a-4329-949a-ed27853320fc\">\n",
              "    <div class=\"colab-df-container\">\n",
              "      <div>\n",
              "<style scoped>\n",
              "    .dataframe tbody tr th:only-of-type {\n",
              "        vertical-align: middle;\n",
              "    }\n",
              "\n",
              "    .dataframe tbody tr th {\n",
              "        vertical-align: top;\n",
              "    }\n",
              "\n",
              "    .dataframe thead th {\n",
              "        text-align: right;\n",
              "    }\n",
              "</style>\n",
              "<table border=\"1\" class=\"dataframe\">\n",
              "  <thead>\n",
              "    <tr style=\"text-align: right;\">\n",
              "      <th></th>\n",
              "      <th>price</th>\n",
              "      <th>moneda</th>\n",
              "      <th>car_name</th>\n",
              "      <th>car_prices_in_rupee</th>\n",
              "      <th>kms_driven</th>\n",
              "      <th>fuel_type</th>\n",
              "      <th>transmission</th>\n",
              "      <th>ownership</th>\n",
              "      <th>manufacture</th>\n",
              "      <th>engine</th>\n",
              "      <th>Seats</th>\n",
              "    </tr>\n",
              "  </thead>\n",
              "  <tbody>\n",
              "    <tr>\n",
              "      <th>0</th>\n",
              "      <td>10.03</td>\n",
              "      <td>Lakh</td>\n",
              "      <td>Jeep Compass 2.0 Longitude Option BSIV</td>\n",
              "      <td>10.03 Lakh</td>\n",
              "      <td>86226</td>\n",
              "      <td>Diesel</td>\n",
              "      <td>Manual</td>\n",
              "      <td>1</td>\n",
              "      <td>2017</td>\n",
              "      <td>1956</td>\n",
              "      <td>5 Seats</td>\n",
              "    </tr>\n",
              "    <tr>\n",
              "      <th>1</th>\n",
              "      <td>12.83</td>\n",
              "      <td>Lakh</td>\n",
              "      <td>Renault Duster RXZ Turbo CVT</td>\n",
              "      <td>12.83 Lakh</td>\n",
              "      <td>13248</td>\n",
              "      <td>Petrol</td>\n",
              "      <td>Automatic</td>\n",
              "      <td>1</td>\n",
              "      <td>2021</td>\n",
              "      <td>1330</td>\n",
              "      <td>5 Seats</td>\n",
              "    </tr>\n",
              "    <tr>\n",
              "      <th>2</th>\n",
              "      <td>16.40</td>\n",
              "      <td>Lakh</td>\n",
              "      <td>Toyota Camry 2.5 G</td>\n",
              "      <td>16.40 Lakh</td>\n",
              "      <td>60343</td>\n",
              "      <td>Petrol</td>\n",
              "      <td>Automatic</td>\n",
              "      <td>1</td>\n",
              "      <td>2016</td>\n",
              "      <td>2494</td>\n",
              "      <td>5 Seats</td>\n",
              "    </tr>\n",
              "    <tr>\n",
              "      <th>3</th>\n",
              "      <td>7.77</td>\n",
              "      <td>Lakh</td>\n",
              "      <td>Honda Jazz VX CVT</td>\n",
              "      <td>7.77 Lakh</td>\n",
              "      <td>26696</td>\n",
              "      <td>Petrol</td>\n",
              "      <td>Automatic</td>\n",
              "      <td>1</td>\n",
              "      <td>2018</td>\n",
              "      <td>1199</td>\n",
              "      <td>5 Seats</td>\n",
              "    </tr>\n",
              "    <tr>\n",
              "      <th>4</th>\n",
              "      <td>5.15</td>\n",
              "      <td>Lakh</td>\n",
              "      <td>Volkswagen Polo 1.2 MPI Highline</td>\n",
              "      <td>5.15 Lakh</td>\n",
              "      <td>69414</td>\n",
              "      <td>Petrol</td>\n",
              "      <td>Manual</td>\n",
              "      <td>1</td>\n",
              "      <td>2016</td>\n",
              "      <td>1199</td>\n",
              "      <td>5 Seats</td>\n",
              "    </tr>\n",
              "  </tbody>\n",
              "</table>\n",
              "</div>\n",
              "      <button class=\"colab-df-convert\" onclick=\"convertToInteractive('df-eda7eee0-311a-4329-949a-ed27853320fc')\"\n",
              "              title=\"Convert this dataframe to an interactive table.\"\n",
              "              style=\"display:none;\">\n",
              "        \n",
              "  <svg xmlns=\"http://www.w3.org/2000/svg\" height=\"24px\"viewBox=\"0 0 24 24\"\n",
              "       width=\"24px\">\n",
              "    <path d=\"M0 0h24v24H0V0z\" fill=\"none\"/>\n",
              "    <path d=\"M18.56 5.44l.94 2.06.94-2.06 2.06-.94-2.06-.94-.94-2.06-.94 2.06-2.06.94zm-11 1L8.5 8.5l.94-2.06 2.06-.94-2.06-.94L8.5 2.5l-.94 2.06-2.06.94zm10 10l.94 2.06.94-2.06 2.06-.94-2.06-.94-.94-2.06-.94 2.06-2.06.94z\"/><path d=\"M17.41 7.96l-1.37-1.37c-.4-.4-.92-.59-1.43-.59-.52 0-1.04.2-1.43.59L10.3 9.45l-7.72 7.72c-.78.78-.78 2.05 0 2.83L4 21.41c.39.39.9.59 1.41.59.51 0 1.02-.2 1.41-.59l7.78-7.78 2.81-2.81c.8-.78.8-2.07 0-2.86zM5.41 20L4 18.59l7.72-7.72 1.47 1.35L5.41 20z\"/>\n",
              "  </svg>\n",
              "      </button>\n",
              "      \n",
              "  <style>\n",
              "    .colab-df-container {\n",
              "      display:flex;\n",
              "      flex-wrap:wrap;\n",
              "      gap: 12px;\n",
              "    }\n",
              "\n",
              "    .colab-df-convert {\n",
              "      background-color: #E8F0FE;\n",
              "      border: none;\n",
              "      border-radius: 50%;\n",
              "      cursor: pointer;\n",
              "      display: none;\n",
              "      fill: #1967D2;\n",
              "      height: 32px;\n",
              "      padding: 0 0 0 0;\n",
              "      width: 32px;\n",
              "    }\n",
              "\n",
              "    .colab-df-convert:hover {\n",
              "      background-color: #E2EBFA;\n",
              "      box-shadow: 0px 1px 2px rgba(60, 64, 67, 0.3), 0px 1px 3px 1px rgba(60, 64, 67, 0.15);\n",
              "      fill: #174EA6;\n",
              "    }\n",
              "\n",
              "    [theme=dark] .colab-df-convert {\n",
              "      background-color: #3B4455;\n",
              "      fill: #D2E3FC;\n",
              "    }\n",
              "\n",
              "    [theme=dark] .colab-df-convert:hover {\n",
              "      background-color: #434B5C;\n",
              "      box-shadow: 0px 1px 3px 1px rgba(0, 0, 0, 0.15);\n",
              "      filter: drop-shadow(0px 1px 2px rgba(0, 0, 0, 0.3));\n",
              "      fill: #FFFFFF;\n",
              "    }\n",
              "  </style>\n",
              "\n",
              "      <script>\n",
              "        const buttonEl =\n",
              "          document.querySelector('#df-eda7eee0-311a-4329-949a-ed27853320fc button.colab-df-convert');\n",
              "        buttonEl.style.display =\n",
              "          google.colab.kernel.accessAllowed ? 'block' : 'none';\n",
              "\n",
              "        async function convertToInteractive(key) {\n",
              "          const element = document.querySelector('#df-eda7eee0-311a-4329-949a-ed27853320fc');\n",
              "          const dataTable =\n",
              "            await google.colab.kernel.invokeFunction('convertToInteractive',\n",
              "                                                     [key], {});\n",
              "          if (!dataTable) return;\n",
              "\n",
              "          const docLinkHtml = 'Like what you see? Visit the ' +\n",
              "            '<a target=\"_blank\" href=https://colab.research.google.com/notebooks/data_table.ipynb>data table notebook</a>'\n",
              "            + ' to learn more about interactive tables.';\n",
              "          element.innerHTML = '';\n",
              "          dataTable['output_type'] = 'display_data';\n",
              "          await google.colab.output.renderOutput(dataTable, element);\n",
              "          const docLink = document.createElement('div');\n",
              "          docLink.innerHTML = docLinkHtml;\n",
              "          element.appendChild(docLink);\n",
              "        }\n",
              "      </script>\n",
              "    </div>\n",
              "  </div>\n",
              "  "
            ]
          },
          "metadata": {},
          "execution_count": 14
        }
      ]
    },
    {
      "cell_type": "code",
      "source": [
        "## Revisión de los datos en el campo 'Moneda'\n",
        "df['moneda'].value_counts()"
      ],
      "metadata": {
        "colab": {
          "base_uri": "https://localhost:8080/"
        },
        "id": "M775DuGDdx0p",
        "outputId": "f3c333b4-06cb-455e-8f35-f92d277e4805"
      },
      "execution_count": 15,
      "outputs": [
        {
          "output_type": "execute_result",
          "data": {
            "text/plain": [
              "Lakh     5258\n",
              "Rupee     123\n",
              "Crore      55\n",
              "Name: moneda, dtype: int64"
            ]
          },
          "metadata": {},
          "execution_count": 15
        }
      ]
    },
    {
      "cell_type": "code",
      "source": [
        "## Crear variables para la conversion\n",
        "## Conversiones\n",
        "moneda = [\n",
        "    (df['moneda']=='Lakh'),\n",
        "    (df['moneda']=='Rupee'),\n",
        "    (df['moneda']=='Crore')\n",
        "]\n",
        "Conversiones =[100000,1,10000000]\n",
        "\n",
        "## Crear una nueva columna de las conversiones por tipo de moneda\n",
        "df['Conversion'] = np.select(moneda, Conversiones)\n",
        "df['Conversion'].value_counts()"
      ],
      "metadata": {
        "colab": {
          "base_uri": "https://localhost:8080/"
        },
        "id": "h7Kk5EOhdxvJ",
        "outputId": "9025b985-692a-4c41-e9cd-e10acada69f6"
      },
      "execution_count": 16,
      "outputs": [
        {
          "output_type": "execute_result",
          "data": {
            "text/plain": [
              "100000      5258\n",
              "1            123\n",
              "10000000      55\n",
              "Name: Conversion, dtype: int64"
            ]
          },
          "metadata": {},
          "execution_count": 16
        }
      ]
    },
    {
      "cell_type": "code",
      "source": [
        "## Multiplicación del campo 'price' y su respectiva conversion por moneda\n",
        "df['car_prices_in_rupee'] = df['price'] * df['Conversion']\n",
        "df.head()"
      ],
      "metadata": {
        "colab": {
          "base_uri": "https://localhost:8080/",
          "height": 206
        },
        "id": "gKAPy8j5dKB2",
        "outputId": "10f13eee-9def-42b5-ee7b-fc27e244ba4c"
      },
      "execution_count": 17,
      "outputs": [
        {
          "output_type": "execute_result",
          "data": {
            "text/plain": [
              "   price moneda                                car_name  car_prices_in_rupee  \\\n",
              "0  10.03   Lakh  Jeep Compass 2.0 Longitude Option BSIV            1003000.0   \n",
              "1  12.83   Lakh            Renault Duster RXZ Turbo CVT            1283000.0   \n",
              "2  16.40   Lakh                      Toyota Camry 2.5 G            1640000.0   \n",
              "3   7.77   Lakh                       Honda Jazz VX CVT             777000.0   \n",
              "4   5.15   Lakh        Volkswagen Polo 1.2 MPI Highline             515000.0   \n",
              "\n",
              "   kms_driven fuel_type transmission  ownership  manufacture  engine    Seats  \\\n",
              "0       86226    Diesel       Manual          1         2017    1956  5 Seats   \n",
              "1       13248    Petrol    Automatic          1         2021    1330  5 Seats   \n",
              "2       60343    Petrol    Automatic          1         2016    2494  5 Seats   \n",
              "3       26696    Petrol    Automatic          1         2018    1199  5 Seats   \n",
              "4       69414    Petrol       Manual          1         2016    1199  5 Seats   \n",
              "\n",
              "   Conversion  \n",
              "0      100000  \n",
              "1      100000  \n",
              "2      100000  \n",
              "3      100000  \n",
              "4      100000  "
            ],
            "text/html": [
              "\n",
              "  <div id=\"df-fe22787f-2e85-43ed-891d-f0d445db0ea1\">\n",
              "    <div class=\"colab-df-container\">\n",
              "      <div>\n",
              "<style scoped>\n",
              "    .dataframe tbody tr th:only-of-type {\n",
              "        vertical-align: middle;\n",
              "    }\n",
              "\n",
              "    .dataframe tbody tr th {\n",
              "        vertical-align: top;\n",
              "    }\n",
              "\n",
              "    .dataframe thead th {\n",
              "        text-align: right;\n",
              "    }\n",
              "</style>\n",
              "<table border=\"1\" class=\"dataframe\">\n",
              "  <thead>\n",
              "    <tr style=\"text-align: right;\">\n",
              "      <th></th>\n",
              "      <th>price</th>\n",
              "      <th>moneda</th>\n",
              "      <th>car_name</th>\n",
              "      <th>car_prices_in_rupee</th>\n",
              "      <th>kms_driven</th>\n",
              "      <th>fuel_type</th>\n",
              "      <th>transmission</th>\n",
              "      <th>ownership</th>\n",
              "      <th>manufacture</th>\n",
              "      <th>engine</th>\n",
              "      <th>Seats</th>\n",
              "      <th>Conversion</th>\n",
              "    </tr>\n",
              "  </thead>\n",
              "  <tbody>\n",
              "    <tr>\n",
              "      <th>0</th>\n",
              "      <td>10.03</td>\n",
              "      <td>Lakh</td>\n",
              "      <td>Jeep Compass 2.0 Longitude Option BSIV</td>\n",
              "      <td>1003000.0</td>\n",
              "      <td>86226</td>\n",
              "      <td>Diesel</td>\n",
              "      <td>Manual</td>\n",
              "      <td>1</td>\n",
              "      <td>2017</td>\n",
              "      <td>1956</td>\n",
              "      <td>5 Seats</td>\n",
              "      <td>100000</td>\n",
              "    </tr>\n",
              "    <tr>\n",
              "      <th>1</th>\n",
              "      <td>12.83</td>\n",
              "      <td>Lakh</td>\n",
              "      <td>Renault Duster RXZ Turbo CVT</td>\n",
              "      <td>1283000.0</td>\n",
              "      <td>13248</td>\n",
              "      <td>Petrol</td>\n",
              "      <td>Automatic</td>\n",
              "      <td>1</td>\n",
              "      <td>2021</td>\n",
              "      <td>1330</td>\n",
              "      <td>5 Seats</td>\n",
              "      <td>100000</td>\n",
              "    </tr>\n",
              "    <tr>\n",
              "      <th>2</th>\n",
              "      <td>16.40</td>\n",
              "      <td>Lakh</td>\n",
              "      <td>Toyota Camry 2.5 G</td>\n",
              "      <td>1640000.0</td>\n",
              "      <td>60343</td>\n",
              "      <td>Petrol</td>\n",
              "      <td>Automatic</td>\n",
              "      <td>1</td>\n",
              "      <td>2016</td>\n",
              "      <td>2494</td>\n",
              "      <td>5 Seats</td>\n",
              "      <td>100000</td>\n",
              "    </tr>\n",
              "    <tr>\n",
              "      <th>3</th>\n",
              "      <td>7.77</td>\n",
              "      <td>Lakh</td>\n",
              "      <td>Honda Jazz VX CVT</td>\n",
              "      <td>777000.0</td>\n",
              "      <td>26696</td>\n",
              "      <td>Petrol</td>\n",
              "      <td>Automatic</td>\n",
              "      <td>1</td>\n",
              "      <td>2018</td>\n",
              "      <td>1199</td>\n",
              "      <td>5 Seats</td>\n",
              "      <td>100000</td>\n",
              "    </tr>\n",
              "    <tr>\n",
              "      <th>4</th>\n",
              "      <td>5.15</td>\n",
              "      <td>Lakh</td>\n",
              "      <td>Volkswagen Polo 1.2 MPI Highline</td>\n",
              "      <td>515000.0</td>\n",
              "      <td>69414</td>\n",
              "      <td>Petrol</td>\n",
              "      <td>Manual</td>\n",
              "      <td>1</td>\n",
              "      <td>2016</td>\n",
              "      <td>1199</td>\n",
              "      <td>5 Seats</td>\n",
              "      <td>100000</td>\n",
              "    </tr>\n",
              "  </tbody>\n",
              "</table>\n",
              "</div>\n",
              "      <button class=\"colab-df-convert\" onclick=\"convertToInteractive('df-fe22787f-2e85-43ed-891d-f0d445db0ea1')\"\n",
              "              title=\"Convert this dataframe to an interactive table.\"\n",
              "              style=\"display:none;\">\n",
              "        \n",
              "  <svg xmlns=\"http://www.w3.org/2000/svg\" height=\"24px\"viewBox=\"0 0 24 24\"\n",
              "       width=\"24px\">\n",
              "    <path d=\"M0 0h24v24H0V0z\" fill=\"none\"/>\n",
              "    <path d=\"M18.56 5.44l.94 2.06.94-2.06 2.06-.94-2.06-.94-.94-2.06-.94 2.06-2.06.94zm-11 1L8.5 8.5l.94-2.06 2.06-.94-2.06-.94L8.5 2.5l-.94 2.06-2.06.94zm10 10l.94 2.06.94-2.06 2.06-.94-2.06-.94-.94-2.06-.94 2.06-2.06.94z\"/><path d=\"M17.41 7.96l-1.37-1.37c-.4-.4-.92-.59-1.43-.59-.52 0-1.04.2-1.43.59L10.3 9.45l-7.72 7.72c-.78.78-.78 2.05 0 2.83L4 21.41c.39.39.9.59 1.41.59.51 0 1.02-.2 1.41-.59l7.78-7.78 2.81-2.81c.8-.78.8-2.07 0-2.86zM5.41 20L4 18.59l7.72-7.72 1.47 1.35L5.41 20z\"/>\n",
              "  </svg>\n",
              "      </button>\n",
              "      \n",
              "  <style>\n",
              "    .colab-df-container {\n",
              "      display:flex;\n",
              "      flex-wrap:wrap;\n",
              "      gap: 12px;\n",
              "    }\n",
              "\n",
              "    .colab-df-convert {\n",
              "      background-color: #E8F0FE;\n",
              "      border: none;\n",
              "      border-radius: 50%;\n",
              "      cursor: pointer;\n",
              "      display: none;\n",
              "      fill: #1967D2;\n",
              "      height: 32px;\n",
              "      padding: 0 0 0 0;\n",
              "      width: 32px;\n",
              "    }\n",
              "\n",
              "    .colab-df-convert:hover {\n",
              "      background-color: #E2EBFA;\n",
              "      box-shadow: 0px 1px 2px rgba(60, 64, 67, 0.3), 0px 1px 3px 1px rgba(60, 64, 67, 0.15);\n",
              "      fill: #174EA6;\n",
              "    }\n",
              "\n",
              "    [theme=dark] .colab-df-convert {\n",
              "      background-color: #3B4455;\n",
              "      fill: #D2E3FC;\n",
              "    }\n",
              "\n",
              "    [theme=dark] .colab-df-convert:hover {\n",
              "      background-color: #434B5C;\n",
              "      box-shadow: 0px 1px 3px 1px rgba(0, 0, 0, 0.15);\n",
              "      filter: drop-shadow(0px 1px 2px rgba(0, 0, 0, 0.3));\n",
              "      fill: #FFFFFF;\n",
              "    }\n",
              "  </style>\n",
              "\n",
              "      <script>\n",
              "        const buttonEl =\n",
              "          document.querySelector('#df-fe22787f-2e85-43ed-891d-f0d445db0ea1 button.colab-df-convert');\n",
              "        buttonEl.style.display =\n",
              "          google.colab.kernel.accessAllowed ? 'block' : 'none';\n",
              "\n",
              "        async function convertToInteractive(key) {\n",
              "          const element = document.querySelector('#df-fe22787f-2e85-43ed-891d-f0d445db0ea1');\n",
              "          const dataTable =\n",
              "            await google.colab.kernel.invokeFunction('convertToInteractive',\n",
              "                                                     [key], {});\n",
              "          if (!dataTable) return;\n",
              "\n",
              "          const docLinkHtml = 'Like what you see? Visit the ' +\n",
              "            '<a target=\"_blank\" href=https://colab.research.google.com/notebooks/data_table.ipynb>data table notebook</a>'\n",
              "            + ' to learn more about interactive tables.';\n",
              "          element.innerHTML = '';\n",
              "          dataTable['output_type'] = 'display_data';\n",
              "          await google.colab.output.renderOutput(dataTable, element);\n",
              "          const docLink = document.createElement('div');\n",
              "          docLink.innerHTML = docLinkHtml;\n",
              "          element.appendChild(docLink);\n",
              "        }\n",
              "      </script>\n",
              "    </div>\n",
              "  </div>\n",
              "  "
            ]
          },
          "metadata": {},
          "execution_count": 17
        }
      ]
    },
    {
      "cell_type": "code",
      "source": [
        "## Eliminar campos creados innecesarios\n",
        "df = df.drop(columns=['price','moneda','Conversion'])\n",
        "df.head()"
      ],
      "metadata": {
        "colab": {
          "base_uri": "https://localhost:8080/",
          "height": 206
        },
        "id": "CnEw1gyWshIM",
        "outputId": "c7aee71a-a03b-4100-8bc7-0b3a4a42e7b9"
      },
      "execution_count": 18,
      "outputs": [
        {
          "output_type": "execute_result",
          "data": {
            "text/plain": [
              "                                 car_name  car_prices_in_rupee  kms_driven  \\\n",
              "0  Jeep Compass 2.0 Longitude Option BSIV            1003000.0       86226   \n",
              "1            Renault Duster RXZ Turbo CVT            1283000.0       13248   \n",
              "2                      Toyota Camry 2.5 G            1640000.0       60343   \n",
              "3                       Honda Jazz VX CVT             777000.0       26696   \n",
              "4        Volkswagen Polo 1.2 MPI Highline             515000.0       69414   \n",
              "\n",
              "  fuel_type transmission  ownership  manufacture  engine    Seats  \n",
              "0    Diesel       Manual          1         2017    1956  5 Seats  \n",
              "1    Petrol    Automatic          1         2021    1330  5 Seats  \n",
              "2    Petrol    Automatic          1         2016    2494  5 Seats  \n",
              "3    Petrol    Automatic          1         2018    1199  5 Seats  \n",
              "4    Petrol       Manual          1         2016    1199  5 Seats  "
            ],
            "text/html": [
              "\n",
              "  <div id=\"df-5b7d2939-dc9c-4c80-85fd-be2f0789af47\">\n",
              "    <div class=\"colab-df-container\">\n",
              "      <div>\n",
              "<style scoped>\n",
              "    .dataframe tbody tr th:only-of-type {\n",
              "        vertical-align: middle;\n",
              "    }\n",
              "\n",
              "    .dataframe tbody tr th {\n",
              "        vertical-align: top;\n",
              "    }\n",
              "\n",
              "    .dataframe thead th {\n",
              "        text-align: right;\n",
              "    }\n",
              "</style>\n",
              "<table border=\"1\" class=\"dataframe\">\n",
              "  <thead>\n",
              "    <tr style=\"text-align: right;\">\n",
              "      <th></th>\n",
              "      <th>car_name</th>\n",
              "      <th>car_prices_in_rupee</th>\n",
              "      <th>kms_driven</th>\n",
              "      <th>fuel_type</th>\n",
              "      <th>transmission</th>\n",
              "      <th>ownership</th>\n",
              "      <th>manufacture</th>\n",
              "      <th>engine</th>\n",
              "      <th>Seats</th>\n",
              "    </tr>\n",
              "  </thead>\n",
              "  <tbody>\n",
              "    <tr>\n",
              "      <th>0</th>\n",
              "      <td>Jeep Compass 2.0 Longitude Option BSIV</td>\n",
              "      <td>1003000.0</td>\n",
              "      <td>86226</td>\n",
              "      <td>Diesel</td>\n",
              "      <td>Manual</td>\n",
              "      <td>1</td>\n",
              "      <td>2017</td>\n",
              "      <td>1956</td>\n",
              "      <td>5 Seats</td>\n",
              "    </tr>\n",
              "    <tr>\n",
              "      <th>1</th>\n",
              "      <td>Renault Duster RXZ Turbo CVT</td>\n",
              "      <td>1283000.0</td>\n",
              "      <td>13248</td>\n",
              "      <td>Petrol</td>\n",
              "      <td>Automatic</td>\n",
              "      <td>1</td>\n",
              "      <td>2021</td>\n",
              "      <td>1330</td>\n",
              "      <td>5 Seats</td>\n",
              "    </tr>\n",
              "    <tr>\n",
              "      <th>2</th>\n",
              "      <td>Toyota Camry 2.5 G</td>\n",
              "      <td>1640000.0</td>\n",
              "      <td>60343</td>\n",
              "      <td>Petrol</td>\n",
              "      <td>Automatic</td>\n",
              "      <td>1</td>\n",
              "      <td>2016</td>\n",
              "      <td>2494</td>\n",
              "      <td>5 Seats</td>\n",
              "    </tr>\n",
              "    <tr>\n",
              "      <th>3</th>\n",
              "      <td>Honda Jazz VX CVT</td>\n",
              "      <td>777000.0</td>\n",
              "      <td>26696</td>\n",
              "      <td>Petrol</td>\n",
              "      <td>Automatic</td>\n",
              "      <td>1</td>\n",
              "      <td>2018</td>\n",
              "      <td>1199</td>\n",
              "      <td>5 Seats</td>\n",
              "    </tr>\n",
              "    <tr>\n",
              "      <th>4</th>\n",
              "      <td>Volkswagen Polo 1.2 MPI Highline</td>\n",
              "      <td>515000.0</td>\n",
              "      <td>69414</td>\n",
              "      <td>Petrol</td>\n",
              "      <td>Manual</td>\n",
              "      <td>1</td>\n",
              "      <td>2016</td>\n",
              "      <td>1199</td>\n",
              "      <td>5 Seats</td>\n",
              "    </tr>\n",
              "  </tbody>\n",
              "</table>\n",
              "</div>\n",
              "      <button class=\"colab-df-convert\" onclick=\"convertToInteractive('df-5b7d2939-dc9c-4c80-85fd-be2f0789af47')\"\n",
              "              title=\"Convert this dataframe to an interactive table.\"\n",
              "              style=\"display:none;\">\n",
              "        \n",
              "  <svg xmlns=\"http://www.w3.org/2000/svg\" height=\"24px\"viewBox=\"0 0 24 24\"\n",
              "       width=\"24px\">\n",
              "    <path d=\"M0 0h24v24H0V0z\" fill=\"none\"/>\n",
              "    <path d=\"M18.56 5.44l.94 2.06.94-2.06 2.06-.94-2.06-.94-.94-2.06-.94 2.06-2.06.94zm-11 1L8.5 8.5l.94-2.06 2.06-.94-2.06-.94L8.5 2.5l-.94 2.06-2.06.94zm10 10l.94 2.06.94-2.06 2.06-.94-2.06-.94-.94-2.06-.94 2.06-2.06.94z\"/><path d=\"M17.41 7.96l-1.37-1.37c-.4-.4-.92-.59-1.43-.59-.52 0-1.04.2-1.43.59L10.3 9.45l-7.72 7.72c-.78.78-.78 2.05 0 2.83L4 21.41c.39.39.9.59 1.41.59.51 0 1.02-.2 1.41-.59l7.78-7.78 2.81-2.81c.8-.78.8-2.07 0-2.86zM5.41 20L4 18.59l7.72-7.72 1.47 1.35L5.41 20z\"/>\n",
              "  </svg>\n",
              "      </button>\n",
              "      \n",
              "  <style>\n",
              "    .colab-df-container {\n",
              "      display:flex;\n",
              "      flex-wrap:wrap;\n",
              "      gap: 12px;\n",
              "    }\n",
              "\n",
              "    .colab-df-convert {\n",
              "      background-color: #E8F0FE;\n",
              "      border: none;\n",
              "      border-radius: 50%;\n",
              "      cursor: pointer;\n",
              "      display: none;\n",
              "      fill: #1967D2;\n",
              "      height: 32px;\n",
              "      padding: 0 0 0 0;\n",
              "      width: 32px;\n",
              "    }\n",
              "\n",
              "    .colab-df-convert:hover {\n",
              "      background-color: #E2EBFA;\n",
              "      box-shadow: 0px 1px 2px rgba(60, 64, 67, 0.3), 0px 1px 3px 1px rgba(60, 64, 67, 0.15);\n",
              "      fill: #174EA6;\n",
              "    }\n",
              "\n",
              "    [theme=dark] .colab-df-convert {\n",
              "      background-color: #3B4455;\n",
              "      fill: #D2E3FC;\n",
              "    }\n",
              "\n",
              "    [theme=dark] .colab-df-convert:hover {\n",
              "      background-color: #434B5C;\n",
              "      box-shadow: 0px 1px 3px 1px rgba(0, 0, 0, 0.15);\n",
              "      filter: drop-shadow(0px 1px 2px rgba(0, 0, 0, 0.3));\n",
              "      fill: #FFFFFF;\n",
              "    }\n",
              "  </style>\n",
              "\n",
              "      <script>\n",
              "        const buttonEl =\n",
              "          document.querySelector('#df-5b7d2939-dc9c-4c80-85fd-be2f0789af47 button.colab-df-convert');\n",
              "        buttonEl.style.display =\n",
              "          google.colab.kernel.accessAllowed ? 'block' : 'none';\n",
              "\n",
              "        async function convertToInteractive(key) {\n",
              "          const element = document.querySelector('#df-5b7d2939-dc9c-4c80-85fd-be2f0789af47');\n",
              "          const dataTable =\n",
              "            await google.colab.kernel.invokeFunction('convertToInteractive',\n",
              "                                                     [key], {});\n",
              "          if (!dataTable) return;\n",
              "\n",
              "          const docLinkHtml = 'Like what you see? Visit the ' +\n",
              "            '<a target=\"_blank\" href=https://colab.research.google.com/notebooks/data_table.ipynb>data table notebook</a>'\n",
              "            + ' to learn more about interactive tables.';\n",
              "          element.innerHTML = '';\n",
              "          dataTable['output_type'] = 'display_data';\n",
              "          await google.colab.output.renderOutput(dataTable, element);\n",
              "          const docLink = document.createElement('div');\n",
              "          docLink.innerHTML = docLinkHtml;\n",
              "          element.appendChild(docLink);\n",
              "        }\n",
              "      </script>\n",
              "    </div>\n",
              "  </div>\n",
              "  "
            ]
          },
          "metadata": {},
          "execution_count": 18
        }
      ]
    },
    {
      "cell_type": "code",
      "source": [
        "# Cambiar el tipo de datos de 'Seats' a númerico\n",
        "df['Seats']=df['Seats'].str.replace('Seats','')\n",
        "df['Seats'] = df['Seats'].astype(int)\n",
        "df.info()"
      ],
      "metadata": {
        "colab": {
          "base_uri": "https://localhost:8080/"
        },
        "id": "eiRVXe6xtFpl",
        "outputId": "c10f3d09-76c5-4846-d903-e80f93c6c67e"
      },
      "execution_count": 19,
      "outputs": [
        {
          "output_type": "stream",
          "name": "stdout",
          "text": [
            "<class 'pandas.core.frame.DataFrame'>\n",
            "Int64Index: 5436 entries, 0 to 5511\n",
            "Data columns (total 9 columns):\n",
            " #   Column               Non-Null Count  Dtype  \n",
            "---  ------               --------------  -----  \n",
            " 0   car_name             5436 non-null   object \n",
            " 1   car_prices_in_rupee  5436 non-null   float64\n",
            " 2   kms_driven           5436 non-null   int64  \n",
            " 3   fuel_type            5436 non-null   object \n",
            " 4   transmission         5436 non-null   object \n",
            " 5   ownership            5436 non-null   int64  \n",
            " 6   manufacture          5436 non-null   int64  \n",
            " 7   engine               5436 non-null   int64  \n",
            " 8   Seats                5436 non-null   int64  \n",
            "dtypes: float64(1), int64(5), object(3)\n",
            "memory usage: 424.7+ KB\n"
          ]
        }
      ]
    },
    {
      "cell_type": "markdown",
      "source": [
        "# Exploración de datos\n",
        "\n",
        "Producir visuales univariantes para el objetivo y todas las características"
      ],
      "metadata": {
        "id": "x520nRSrbzHW"
      }
    },
    {
      "cell_type": "code",
      "source": [
        "# Histograma de precios\n",
        "plt.figure(figsize=[13,8])\n",
        "df['car_prices_in_rupee'].hist(bins = 30,\n",
        "                               edgecolor = 'black')\n",
        "\n",
        "plt.ticklabel_format(useOffset=False, style='plain')\n",
        "plt.xticks(rotation = 45)\n",
        "plt.show()"
      ],
      "metadata": {
        "colab": {
          "base_uri": "https://localhost:8080/",
          "height": 515
        },
        "id": "rrO7Mt_gb6XD",
        "outputId": "8d85a7a1-6e80-46cc-bf95-9bf180a61daf"
      },
      "execution_count": 27,
      "outputs": [
        {
          "output_type": "display_data",
          "data": {
            "text/plain": [
              "<Figure size 936x576 with 1 Axes>"
            ],
            "image/png": "[encoded data removed]"
          },
          "metadata": {
            "needs_background": "light"
          }
        }
      ]
    },
    {
      "cell_type": "markdown",
      "source": [
        ">Podemos observar que la mayor cantidad de datos de los precios de autos antiguos son menores que 2,500,000 rupias."
      ],
      "metadata": {
        "id": "V5WmIec9uABL"
      }
    },
    {
      "cell_type": "markdown",
      "source": [
        "Tendencia del precio promedio por año manufacturado"
      ],
      "metadata": {
        "id": "Qf_jkRMVw7ZO"
      }
    },
    {
      "cell_type": "code",
      "source": [
        "# Precio promedio por año manufacturado\n",
        "price_manufactureYear = df.groupby(['manufacture'])['car_prices_in_rupee'].mean()\n",
        "price_manufactureYear"
      ],
      "metadata": {
        "colab": {
          "base_uri": "https://localhost:8080/"
        },
        "id": "wtrksSnSxz8j",
        "outputId": "bd69d160-4ea4-4bc3-f632-2a1ad3969570"
      },
      "execution_count": 43,
      "outputs": [
        {
          "output_type": "execute_result",
          "data": {
            "text/plain": [
              "manufacture\n",
              "1995    2.600000e+05\n",
              "1998    8.500000e+04\n",
              "1999    3.500000e+04\n",
              "2000    4.725000e+04\n",
              "2001    1.275000e+05\n",
              "2002    1.303077e+05\n",
              "2003    9.467162e+04\n",
              "2004    1.600000e+05\n",
              "2005    1.472335e+05\n",
              "2006    1.793266e+05\n",
              "2007    2.065699e+05\n",
              "2008    1.600935e+05\n",
              "2009    1.990563e+05\n",
              "2010    2.764685e+05\n",
              "2011    3.737840e+05\n",
              "2012    4.172893e+05\n",
              "2013    5.933659e+05\n",
              "2014    6.914497e+05\n",
              "2015    8.099363e+05\n",
              "2016    9.599041e+05\n",
              "2017    1.180891e+06\n",
              "2018    1.452321e+06\n",
              "2019    2.210981e+06\n",
              "2020    2.295810e+06\n",
              "2021    2.378293e+06\n",
              "2022    2.608803e+06\n",
              "Name: car_prices_in_rupee, dtype: float64"
            ]
          },
          "metadata": {},
          "execution_count": 43
        }
      ]
    },
    {
      "cell_type": "code",
      "source": [
        "manufactureYears = list(price_manufactureYear.index)\n",
        "manufactureYears"
      ],
      "metadata": {
        "colab": {
          "base_uri": "https://localhost:8080/"
        },
        "id": "rLGy5FRzyCLh",
        "outputId": "2ec6ef02-7d92-4b8a-cff7-8cfb647238c8"
      },
      "execution_count": 44,
      "outputs": [
        {
          "output_type": "execute_result",
          "data": {
            "text/plain": [
              "[1995,\n",
              " 1998,\n",
              " 1999,\n",
              " 2000,\n",
              " 2001,\n",
              " 2002,\n",
              " 2003,\n",
              " 2004,\n",
              " 2005,\n",
              " 2006,\n",
              " 2007,\n",
              " 2008,\n",
              " 2009,\n",
              " 2010,\n",
              " 2011,\n",
              " 2012,\n",
              " 2013,\n",
              " 2014,\n",
              " 2015,\n",
              " 2016,\n",
              " 2017,\n",
              " 2018,\n",
              " 2019,\n",
              " 2020,\n",
              " 2021,\n",
              " 2022]"
            ]
          },
          "metadata": {},
          "execution_count": 44
        }
      ]
    },
    {
      "cell_type": "code",
      "source": [
        "price_prom = list(price_manufactureYear.values)\n",
        "price_prom"
      ],
      "metadata": {
        "colab": {
          "base_uri": "https://localhost:8080/"
        },
        "id": "C6OwEWRayE-n",
        "outputId": "a3becc55-3e44-4904-d32e-049ef940b59b"
      },
      "execution_count": 45,
      "outputs": [
        {
          "output_type": "execute_result",
          "data": {
            "text/plain": [
              "[260000.0,\n",
              " 85000.0,\n",
              " 35000.0,\n",
              " 47250.0,\n",
              " 127500.0,\n",
              " 130307.69230769231,\n",
              " 94671.625,\n",
              " 160000.0,\n",
              " 147233.4642857143,\n",
              " 179326.61904761905,\n",
              " 206569.93333333332,\n",
              " 160093.45132743364,\n",
              " 199056.3409090909,\n",
              " 276468.50230414746,\n",
              " 373783.9612403101,\n",
              " 417289.2976588629,\n",
              " 593365.8505434783,\n",
              " 691449.6783369803,\n",
              " 809936.3141762452,\n",
              " 959904.1394335512,\n",
              " 1180891.4473684211,\n",
              " 1452321.083172147,\n",
              " 2210981.4814814813,\n",
              " 2295810.495626822,\n",
              " 2378292.899408284,\n",
              " 2608802.8169014086]"
            ]
          },
          "metadata": {},
          "execution_count": 45
        }
      ]
    },
    {
      "cell_type": "code",
      "source": [
        "plt.style.use('seaborn')\n",
        "plt.plot(manufactureYears, price_prom)\n",
        "plt.xlabel('Año Manufacturado')\n",
        "plt.ylabel('Precio Promedio')\n",
        "plt.title('Precio promedio por Año manufacturado del carro \\n')\n",
        "plt.show()"
      ],
      "metadata": {
        "colab": {
          "base_uri": "https://localhost:8080/",
          "height": 390
        },
        "id": "00SQGUj9w7Fb",
        "outputId": "18e89978-eb27-4f5f-b4ff-b2bb67c6c411"
      },
      "execution_count": 48,
      "outputs": [
        {
          "output_type": "display_data",
          "data": {
            "text/plain": [
              "<Figure size 576x396 with 1 Axes>"
            ],
            "image/png": "[encoded data removed]"
          },
          "metadata": {}
        }
      ]
    },
    {
      "cell_type": "markdown",
      "source": [
        "> Hay una tendencia incremental del promedio del precio de los autos. Mientras más nuevo sea el carro mantiene un mayor precio que el resto "
      ],
      "metadata": {
        "id": "x7LdUEciy_4h"
      }
    },
    {
      "cell_type": "markdown",
      "source": [
        "Revisión de Outliers"
      ],
      "metadata": {
        "id": "7_vRc-D2vcgq"
      }
    },
    {
      "cell_type": "code",
      "source": [
        "malignant = df.loc[df['transmission']=='Manual','car_prices_in_rupee']\n",
        "benign = df.loc[df['transmission']=='Automatic','car_prices_in_rupee']\n",
        "fig, axes = plt.subplots(nrows = 1, ncols = 1, figsize = (18,15))\n",
        "boxplots = axes.boxplot([malignant,benign],\n",
        "           notch = True,\n",
        "           labels=['Manual', 'Automatic'],\n",
        "           widths = .7, \n",
        "           patch_artist=True, \n",
        "           medianprops = dict(linestyle='-',\n",
        "                              linewidth=2, \n",
        "                              color='Yellow'),\n",
        "           boxprops = dict(linestyle='--', linewidth=2, color='blue', facecolor = 'black', alpha = .4)\n",
        "          );\n",
        "# The more you understand any library, the more you can do\n",
        "boxplot1 = boxplots['boxes'][0]\n",
        "boxplot1.set_facecolor('red')\n",
        "plt.xlabel('Transmission', fontsize = 20)\n",
        "plt.ylabel('Precio', fontsize = 20)\n",
        "plt.xticks(fontsize = 16)\n",
        "plt.yticks(fontsize = 16)\n",
        "plt.show()"
      ],
      "metadata": {
        "colab": {
          "base_uri": "https://localhost:8080/",
          "height": 959
        },
        "id": "hX6Z874mbCQU",
        "outputId": "6708bd0b-dbe0-465f-95f1-d44555536023"
      },
      "execution_count": 36,
      "outputs": [
        {
          "output_type": "stream",
          "name": "stderr",
          "text": [
            "/usr/local/lib/python3.8/dist-packages/matplotlib/cbook/__init__.py:1376: VisibleDeprecationWarning: Creating an ndarray from ragged nested sequences (which is a list-or-tuple of lists-or-tuples-or ndarrays with different lengths or shapes) is deprecated. If you meant to do this, you must specify 'dtype=object' when creating the ndarray.\n",
            "  X = np.atleast_1d(X.T if isinstance(X, np.ndarray) else np.asarray(X))\n"
          ]
        },
        {
          "output_type": "display_data",
          "data": {
            "text/plain": [
              "<Figure size 1296x1080 with 1 Axes>"
            ],
            "image/png": "[encoded data removed]"
          },
          "metadata": {
            "needs_background": "light"
          }
        }
      ]
    },
    {
      "cell_type": "markdown",
      "source": [
        "> De acuerdo con la gráfica, tenemos varios precios por encima de la gráfica como datos átipicos, es decir, que son precios muy elevados frente a la mayoría de datos"
      ],
      "metadata": {
        "id": "k73kMqe3we_p"
      }
    },
    {
      "cell_type": "code",
      "source": [],
      "metadata": {
        "id": "BmvK8OBpbCMj"
      },
      "execution_count": null,
      "outputs": []
    },
    {
      "cell_type": "code",
      "source": [],
      "metadata": {
        "id": "5mjfonycbCJZ"
      },
      "execution_count": null,
      "outputs": []
    },
    {
      "cell_type": "code",
      "source": [],
      "metadata": {
        "id": "k2un0FzObCGe"
      },
      "execution_count": null,
      "outputs": []
    },
    {
      "cell_type": "code",
      "source": [],
      "metadata": {
        "id": "1T_VuXq3bCCZ"
      },
      "execution_count": null,
      "outputs": []
    },
    {
      "cell_type": "code",
      "source": [],
      "metadata": {
        "id": "yhAkv8_RbB_j"
      },
      "execution_count": null,
      "outputs": []
    },
    {
      "cell_type": "markdown",
      "source": [
        "Gráfica de correlación"
      ],
      "metadata": {
        "id": "ne0fOamLuUq7"
      }
    },
    {
      "cell_type": "code",
      "source": [
        "corr = df.corr()\n",
        "sns.heatmap(corr, \n",
        "            cmap = 'Oranges',\n",
        "            annot = True\n",
        "            )\n",
        "plt.show()"
      ],
      "metadata": {
        "colab": {
          "base_uri": "https://localhost:8080/",
          "height": 358
        },
        "id": "y-wyr6qQuX2X",
        "outputId": "e20e279f-afe0-4a75-ff5e-806b565103b0"
      },
      "execution_count": 32,
      "outputs": [
        {
          "output_type": "display_data",
          "data": {
            "text/plain": [
              "<Figure size 432x288 with 2 Axes>"
            ],
            "image/png": "[encoded data removed]"
          },
          "metadata": {
            "needs_background": "light"
          }
        }
      ]
    },
    {
      "cell_type": "markdown",
      "source": [
        ">Según el gráfico tenemos que mientras tenga mayor cantidad de dueños, el kilometraje del auto es mayor.\n",
        ">\n",
        ">También, se observa que hay una fuerte correlación entre el precio del carro y el año que se ha manufacturado el carro.\n"
      ],
      "metadata": {
        "id": "M98rBUzGutmd"
      }
    },
    {
      "cell_type": "code",
      "source": [],
      "metadata": {
        "id": "7DTCbJFdufAt"
      },
      "execution_count": null,
      "outputs": []
    }
  ]
}