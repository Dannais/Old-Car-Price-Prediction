{
  "nbformat": 4,
  "nbformat_minor": 0,
  "metadata": {
    "colab": {
      "provenance": [],
      "toc_visible": true,
      "authorship_tag": "ABX9TyMdLBleK+bYZ4AqMhUSjwq9",
      "include_colab_link": true
    },
    "kernelspec": {
      "name": "python3",
      "display_name": "Python 3"
    },
    "language_info": {
      "name": "python"
    }
  },
  "cells": [
    {
      "cell_type": "markdown",
      "metadata": {
        "id": "view-in-github",
        "colab_type": "text"
      },
      "source": [
        "<a href=\"https://colab.research.google.com/github/Dannais/Old-Car-Price-Prediction/blob/main/Old_Car_Price_Prediction.ipynb\" target=\"_parent\"><img src=\"https://colab.research.google.com/assets/colab-badge.svg\" alt=\"Open In Colab\"/></a>"
      ]
    },
    {
      "cell_type": "code",
      "execution_count": 1,
      "metadata": {
        "colab": {
          "base_uri": "https://localhost:8080/"
        },
        "id": "upgr3LPpOED6",
        "outputId": "584ada1f-0524-4fe1-c1d0-c45e6bb8704a"
      },
      "outputs": [
        {
          "output_type": "stream",
          "name": "stdout",
          "text": [
            "Mounted at /content/drive\n"
          ]
        }
      ],
      "source": [
        "from google.colab import drive\n",
        "drive.mount('/content/drive')"
      ]
    },
    {
      "cell_type": "markdown",
      "source": [
        "## Importar bibliotecas y Carga de datos"
      ],
      "metadata": {
        "id": "L5GW_2ej4zh6"
      }
    },
    {
      "cell_type": "code",
      "source": [
        "# Importar las bibliotecas\n",
        "import matplotlib.pyplot as plt\n",
        "import pandas as pd\n",
        "import numpy as np\n",
        "import seaborn as sns\n",
        "\n",
        "from sklearn.model_selection import train_test_split\n",
        "from sklearn.metrics import r2_score, mean_absolute_error, mean_squared_error\n",
        "from sklearn.linear_model import LinearRegression\n",
        "from sklearn.tree import DecisionTreeRegressor\n",
        "from sklearn.ensemble import BaggingRegressor\n",
        "from sklearn.ensemble import RandomForestRegressor"
      ],
      "metadata": {
        "id": "qxdcGptvPHVb"
      },
      "execution_count": 40,
      "outputs": []
    },
    {
      "cell_type": "code",
      "source": [
        "# Cargar el conjunto de datos\n",
        "filename = '/content/drive/MyDrive/Cursos Data Science/Coding Dojo/2. Machine Learning/0. Fuente de Datos/car_price.csv'\n",
        "df = pd.read_csv(filename)\n",
        "df.head()"
      ],
      "metadata": {
        "colab": {
          "base_uri": "https://localhost:8080/",
          "height": 206
        },
        "id": "2wWZixITPLWc",
        "outputId": "84729780-8096-41f9-82b8-e223663bc60b"
      },
      "execution_count": 3,
      "outputs": [
        {
          "output_type": "execute_result",
          "data": {
            "text/plain": [
              "   Unnamed: 0                                car_name car_prices_in_rupee  \\\n",
              "0           0  Jeep Compass 2.0 Longitude Option BSIV          10.03 Lakh   \n",
              "1           1            Renault Duster RXZ Turbo CVT          12.83 Lakh   \n",
              "2           2                      Toyota Camry 2.5 G          16.40 Lakh   \n",
              "3           3                       Honda Jazz VX CVT           7.77 Lakh   \n",
              "4           4        Volkswagen Polo 1.2 MPI Highline           5.15 Lakh   \n",
              "\n",
              "   kms_driven fuel_type transmission  ownership  manufacture   engine    Seats  \n",
              "0  86,226 kms    Diesel       Manual  1st Owner         2017  1956 cc  5 Seats  \n",
              "1  13,248 kms    Petrol    Automatic  1st Owner         2021  1330 cc  5 Seats  \n",
              "2  60,343 kms    Petrol    Automatic  1st Owner         2016  2494 cc  5 Seats  \n",
              "3  26,696 kms    Petrol    Automatic  1st Owner         2018  1199 cc  5 Seats  \n",
              "4  69,414 kms    Petrol       Manual  1st Owner         2016  1199 cc  5 Seats  "
            ],
            "text/html": [
              "\n",
              "  <div id=\"df-b62b395f-0323-4832-b6e3-27575a830b8a\">\n",
              "    <div class=\"colab-df-container\">\n",
              "      <div>\n",
              "<style scoped>\n",
              "    .dataframe tbody tr th:only-of-type {\n",
              "        vertical-align: middle;\n",
              "    }\n",
              "\n",
              "    .dataframe tbody tr th {\n",
              "        vertical-align: top;\n",
              "    }\n",
              "\n",
              "    .dataframe thead th {\n",
              "        text-align: right;\n",
              "    }\n",
              "</style>\n",
              "<table border=\"1\" class=\"dataframe\">\n",
              "  <thead>\n",
              "    <tr style=\"text-align: right;\">\n",
              "      <th></th>\n",
              "      <th>Unnamed: 0</th>\n",
              "      <th>car_name</th>\n",
              "      <th>car_prices_in_rupee</th>\n",
              "      <th>kms_driven</th>\n",
              "      <th>fuel_type</th>\n",
              "      <th>transmission</th>\n",
              "      <th>ownership</th>\n",
              "      <th>manufacture</th>\n",
              "      <th>engine</th>\n",
              "      <th>Seats</th>\n",
              "    </tr>\n",
              "  </thead>\n",
              "  <tbody>\n",
              "    <tr>\n",
              "      <th>0</th>\n",
              "      <td>0</td>\n",
              "      <td>Jeep Compass 2.0 Longitude Option BSIV</td>\n",
              "      <td>10.03 Lakh</td>\n",
              "      <td>86,226 kms</td>\n",
              "      <td>Diesel</td>\n",
              "      <td>Manual</td>\n",
              "      <td>1st Owner</td>\n",
              "      <td>2017</td>\n",
              "      <td>1956 cc</td>\n",
              "      <td>5 Seats</td>\n",
              "    </tr>\n",
              "    <tr>\n",
              "      <th>1</th>\n",
              "      <td>1</td>\n",
              "      <td>Renault Duster RXZ Turbo CVT</td>\n",
              "      <td>12.83 Lakh</td>\n",
              "      <td>13,248 kms</td>\n",
              "      <td>Petrol</td>\n",
              "      <td>Automatic</td>\n",
              "      <td>1st Owner</td>\n",
              "      <td>2021</td>\n",
              "      <td>1330 cc</td>\n",
              "      <td>5 Seats</td>\n",
              "    </tr>\n",
              "    <tr>\n",
              "      <th>2</th>\n",
              "      <td>2</td>\n",
              "      <td>Toyota Camry 2.5 G</td>\n",
              "      <td>16.40 Lakh</td>\n",
              "      <td>60,343 kms</td>\n",
              "      <td>Petrol</td>\n",
              "      <td>Automatic</td>\n",
              "      <td>1st Owner</td>\n",
              "      <td>2016</td>\n",
              "      <td>2494 cc</td>\n",
              "      <td>5 Seats</td>\n",
              "    </tr>\n",
              "    <tr>\n",
              "      <th>3</th>\n",
              "      <td>3</td>\n",
              "      <td>Honda Jazz VX CVT</td>\n",
              "      <td>7.77 Lakh</td>\n",
              "      <td>26,696 kms</td>\n",
              "      <td>Petrol</td>\n",
              "      <td>Automatic</td>\n",
              "      <td>1st Owner</td>\n",
              "      <td>2018</td>\n",
              "      <td>1199 cc</td>\n",
              "      <td>5 Seats</td>\n",
              "    </tr>\n",
              "    <tr>\n",
              "      <th>4</th>\n",
              "      <td>4</td>\n",
              "      <td>Volkswagen Polo 1.2 MPI Highline</td>\n",
              "      <td>5.15 Lakh</td>\n",
              "      <td>69,414 kms</td>\n",
              "      <td>Petrol</td>\n",
              "      <td>Manual</td>\n",
              "      <td>1st Owner</td>\n",
              "      <td>2016</td>\n",
              "      <td>1199 cc</td>\n",
              "      <td>5 Seats</td>\n",
              "    </tr>\n",
              "  </tbody>\n",
              "</table>\n",
              "</div>\n",
              "      <button class=\"colab-df-convert\" onclick=\"convertToInteractive('df-b62b395f-0323-4832-b6e3-27575a830b8a')\"\n",
              "              title=\"Convert this dataframe to an interactive table.\"\n",
              "              style=\"display:none;\">\n",
              "        \n",
              "  <svg xmlns=\"http://www.w3.org/2000/svg\" height=\"24px\"viewBox=\"0 0 24 24\"\n",
              "       width=\"24px\">\n",
              "    <path d=\"M0 0h24v24H0V0z\" fill=\"none\"/>\n",
              "    <path d=\"M18.56 5.44l.94 2.06.94-2.06 2.06-.94-2.06-.94-.94-2.06-.94 2.06-2.06.94zm-11 1L8.5 8.5l.94-2.06 2.06-.94-2.06-.94L8.5 2.5l-.94 2.06-2.06.94zm10 10l.94 2.06.94-2.06 2.06-.94-2.06-.94-.94-2.06-.94 2.06-2.06.94z\"/><path d=\"M17.41 7.96l-1.37-1.37c-.4-.4-.92-.59-1.43-.59-.52 0-1.04.2-1.43.59L10.3 9.45l-7.72 7.72c-.78.78-.78 2.05 0 2.83L4 21.41c.39.39.9.59 1.41.59.51 0 1.02-.2 1.41-.59l7.78-7.78 2.81-2.81c.8-.78.8-2.07 0-2.86zM5.41 20L4 18.59l7.72-7.72 1.47 1.35L5.41 20z\"/>\n",
              "  </svg>\n",
              "      </button>\n",
              "      \n",
              "  <style>\n",
              "    .colab-df-container {\n",
              "      display:flex;\n",
              "      flex-wrap:wrap;\n",
              "      gap: 12px;\n",
              "    }\n",
              "\n",
              "    .colab-df-convert {\n",
              "      background-color: #E8F0FE;\n",
              "      border: none;\n",
              "      border-radius: 50%;\n",
              "      cursor: pointer;\n",
              "      display: none;\n",
              "      fill: #1967D2;\n",
              "      height: 32px;\n",
              "      padding: 0 0 0 0;\n",
              "      width: 32px;\n",
              "    }\n",
              "\n",
              "    .colab-df-convert:hover {\n",
              "      background-color: #E2EBFA;\n",
              "      box-shadow: 0px 1px 2px rgba(60, 64, 67, 0.3), 0px 1px 3px 1px rgba(60, 64, 67, 0.15);\n",
              "      fill: #174EA6;\n",
              "    }\n",
              "\n",
              "    [theme=dark] .colab-df-convert {\n",
              "      background-color: #3B4455;\n",
              "      fill: #D2E3FC;\n",
              "    }\n",
              "\n",
              "    [theme=dark] .colab-df-convert:hover {\n",
              "      background-color: #434B5C;\n",
              "      box-shadow: 0px 1px 3px 1px rgba(0, 0, 0, 0.15);\n",
              "      filter: drop-shadow(0px 1px 2px rgba(0, 0, 0, 0.3));\n",
              "      fill: #FFFFFF;\n",
              "    }\n",
              "  </style>\n",
              "\n",
              "      <script>\n",
              "        const buttonEl =\n",
              "          document.querySelector('#df-b62b395f-0323-4832-b6e3-27575a830b8a button.colab-df-convert');\n",
              "        buttonEl.style.display =\n",
              "          google.colab.kernel.accessAllowed ? 'block' : 'none';\n",
              "\n",
              "        async function convertToInteractive(key) {\n",
              "          const element = document.querySelector('#df-b62b395f-0323-4832-b6e3-27575a830b8a');\n",
              "          const dataTable =\n",
              "            await google.colab.kernel.invokeFunction('convertToInteractive',\n",
              "                                                     [key], {});\n",
              "          if (!dataTable) return;\n",
              "\n",
              "          const docLinkHtml = 'Like what you see? Visit the ' +\n",
              "            '<a target=\"_blank\" href=https://colab.research.google.com/notebooks/data_table.ipynb>data table notebook</a>'\n",
              "            + ' to learn more about interactive tables.';\n",
              "          element.innerHTML = '';\n",
              "          dataTable['output_type'] = 'display_data';\n",
              "          await google.colab.output.renderOutput(dataTable, element);\n",
              "          const docLink = document.createElement('div');\n",
              "          docLink.innerHTML = docLinkHtml;\n",
              "          element.appendChild(docLink);\n",
              "        }\n",
              "      </script>\n",
              "    </div>\n",
              "  </div>\n",
              "  "
            ]
          },
          "metadata": {},
          "execution_count": 3
        }
      ]
    },
    {
      "cell_type": "markdown",
      "source": [
        "# **Detalle de la fuente de datos**\n",
        "\n",
        "**1) Fuente de datos**\n",
        "\n",
        "Se obtuvo la fuente mediante la plataforma Kaggle.\n",
        "\n",
        "Fuente: https://www.kaggle.com/datasets/milanvaddoriya/old-car-price-prediction\n",
        "\n",
        "**2) Breve descripción de datos**\n",
        "\n",
        "La fuente de datos contiene información a detalle de carros antiguos y su precio respectivo.\n",
        "\n",
        "**3) ¿Cuál es el objetivo?**\n",
        "\n",
        "* Analizar los datos de investigación.\n",
        "* Entrenar la fuente para obtener resultados valiosos\n",
        "\n",
        "**4) ¿Este es un problema de clasificación o regresión?**\n",
        "\n",
        "Es un problema de regresión, ya que necesitamos predecir los precios de los carros antiguos\n",
        "\n",
        "**5) ¿Cuántas características hay?**\n",
        "\n",
        "Hay 9 características. \n",
        "\n",
        "**6) ¿Cuántas filas de datos hay?**\n",
        "\n",
        "Hay 5512 filas\n",
        "\n",
        "**7) ¿Qué retos, si es que hay alguno, prevén en la limpieza, exploración o modelización con este conjunto de datos?**\n",
        "\n",
        "Se va a tener que eliminar las medidas estándar de los campos como, por ejemplo, 'kms' del campo kms_driven.\n"
      ],
      "metadata": {
        "id": "UWjO7pyfQc33"
      }
    },
    {
      "cell_type": "markdown",
      "source": [
        "# **Limpieza de Datos**"
      ],
      "metadata": {
        "id": "c5MaylCrZcYn"
      }
    },
    {
      "cell_type": "markdown",
      "source": [
        "## Eliminación de las columnas innecesarias"
      ],
      "metadata": {
        "id": "gl71H4HabE4w"
      }
    },
    {
      "cell_type": "code",
      "source": [
        "df = df.drop(columns=['Unnamed: 0'])\n",
        "df.head()"
      ],
      "metadata": {
        "colab": {
          "base_uri": "https://localhost:8080/",
          "height": 206
        },
        "id": "MFgrHEYAZj75",
        "outputId": "f2c2cbae-3544-4b2d-f9f8-780b406e031b"
      },
      "execution_count": 4,
      "outputs": [
        {
          "output_type": "execute_result",
          "data": {
            "text/plain": [
              "                                 car_name car_prices_in_rupee  kms_driven  \\\n",
              "0  Jeep Compass 2.0 Longitude Option BSIV          10.03 Lakh  86,226 kms   \n",
              "1            Renault Duster RXZ Turbo CVT          12.83 Lakh  13,248 kms   \n",
              "2                      Toyota Camry 2.5 G          16.40 Lakh  60,343 kms   \n",
              "3                       Honda Jazz VX CVT           7.77 Lakh  26,696 kms   \n",
              "4        Volkswagen Polo 1.2 MPI Highline           5.15 Lakh  69,414 kms   \n",
              "\n",
              "  fuel_type transmission  ownership  manufacture   engine    Seats  \n",
              "0    Diesel       Manual  1st Owner         2017  1956 cc  5 Seats  \n",
              "1    Petrol    Automatic  1st Owner         2021  1330 cc  5 Seats  \n",
              "2    Petrol    Automatic  1st Owner         2016  2494 cc  5 Seats  \n",
              "3    Petrol    Automatic  1st Owner         2018  1199 cc  5 Seats  \n",
              "4    Petrol       Manual  1st Owner         2016  1199 cc  5 Seats  "
            ],
            "text/html": [
              "\n",
              "  <div id=\"df-8c92b737-ccbc-4b63-9478-92520f059a64\">\n",
              "    <div class=\"colab-df-container\">\n",
              "      <div>\n",
              "<style scoped>\n",
              "    .dataframe tbody tr th:only-of-type {\n",
              "        vertical-align: middle;\n",
              "    }\n",
              "\n",
              "    .dataframe tbody tr th {\n",
              "        vertical-align: top;\n",
              "    }\n",
              "\n",
              "    .dataframe thead th {\n",
              "        text-align: right;\n",
              "    }\n",
              "</style>\n",
              "<table border=\"1\" class=\"dataframe\">\n",
              "  <thead>\n",
              "    <tr style=\"text-align: right;\">\n",
              "      <th></th>\n",
              "      <th>car_name</th>\n",
              "      <th>car_prices_in_rupee</th>\n",
              "      <th>kms_driven</th>\n",
              "      <th>fuel_type</th>\n",
              "      <th>transmission</th>\n",
              "      <th>ownership</th>\n",
              "      <th>manufacture</th>\n",
              "      <th>engine</th>\n",
              "      <th>Seats</th>\n",
              "    </tr>\n",
              "  </thead>\n",
              "  <tbody>\n",
              "    <tr>\n",
              "      <th>0</th>\n",
              "      <td>Jeep Compass 2.0 Longitude Option BSIV</td>\n",
              "      <td>10.03 Lakh</td>\n",
              "      <td>86,226 kms</td>\n",
              "      <td>Diesel</td>\n",
              "      <td>Manual</td>\n",
              "      <td>1st Owner</td>\n",
              "      <td>2017</td>\n",
              "      <td>1956 cc</td>\n",
              "      <td>5 Seats</td>\n",
              "    </tr>\n",
              "    <tr>\n",
              "      <th>1</th>\n",
              "      <td>Renault Duster RXZ Turbo CVT</td>\n",
              "      <td>12.83 Lakh</td>\n",
              "      <td>13,248 kms</td>\n",
              "      <td>Petrol</td>\n",
              "      <td>Automatic</td>\n",
              "      <td>1st Owner</td>\n",
              "      <td>2021</td>\n",
              "      <td>1330 cc</td>\n",
              "      <td>5 Seats</td>\n",
              "    </tr>\n",
              "    <tr>\n",
              "      <th>2</th>\n",
              "      <td>Toyota Camry 2.5 G</td>\n",
              "      <td>16.40 Lakh</td>\n",
              "      <td>60,343 kms</td>\n",
              "      <td>Petrol</td>\n",
              "      <td>Automatic</td>\n",
              "      <td>1st Owner</td>\n",
              "      <td>2016</td>\n",
              "      <td>2494 cc</td>\n",
              "      <td>5 Seats</td>\n",
              "    </tr>\n",
              "    <tr>\n",
              "      <th>3</th>\n",
              "      <td>Honda Jazz VX CVT</td>\n",
              "      <td>7.77 Lakh</td>\n",
              "      <td>26,696 kms</td>\n",
              "      <td>Petrol</td>\n",
              "      <td>Automatic</td>\n",
              "      <td>1st Owner</td>\n",
              "      <td>2018</td>\n",
              "      <td>1199 cc</td>\n",
              "      <td>5 Seats</td>\n",
              "    </tr>\n",
              "    <tr>\n",
              "      <th>4</th>\n",
              "      <td>Volkswagen Polo 1.2 MPI Highline</td>\n",
              "      <td>5.15 Lakh</td>\n",
              "      <td>69,414 kms</td>\n",
              "      <td>Petrol</td>\n",
              "      <td>Manual</td>\n",
              "      <td>1st Owner</td>\n",
              "      <td>2016</td>\n",
              "      <td>1199 cc</td>\n",
              "      <td>5 Seats</td>\n",
              "    </tr>\n",
              "  </tbody>\n",
              "</table>\n",
              "</div>\n",
              "      <button class=\"colab-df-convert\" onclick=\"convertToInteractive('df-8c92b737-ccbc-4b63-9478-92520f059a64')\"\n",
              "              title=\"Convert this dataframe to an interactive table.\"\n",
              "              style=\"display:none;\">\n",
              "        \n",
              "  <svg xmlns=\"http://www.w3.org/2000/svg\" height=\"24px\"viewBox=\"0 0 24 24\"\n",
              "       width=\"24px\">\n",
              "    <path d=\"M0 0h24v24H0V0z\" fill=\"none\"/>\n",
              "    <path d=\"M18.56 5.44l.94 2.06.94-2.06 2.06-.94-2.06-.94-.94-2.06-.94 2.06-2.06.94zm-11 1L8.5 8.5l.94-2.06 2.06-.94-2.06-.94L8.5 2.5l-.94 2.06-2.06.94zm10 10l.94 2.06.94-2.06 2.06-.94-2.06-.94-.94-2.06-.94 2.06-2.06.94z\"/><path d=\"M17.41 7.96l-1.37-1.37c-.4-.4-.92-.59-1.43-.59-.52 0-1.04.2-1.43.59L10.3 9.45l-7.72 7.72c-.78.78-.78 2.05 0 2.83L4 21.41c.39.39.9.59 1.41.59.51 0 1.02-.2 1.41-.59l7.78-7.78 2.81-2.81c.8-.78.8-2.07 0-2.86zM5.41 20L4 18.59l7.72-7.72 1.47 1.35L5.41 20z\"/>\n",
              "  </svg>\n",
              "      </button>\n",
              "      \n",
              "  <style>\n",
              "    .colab-df-container {\n",
              "      display:flex;\n",
              "      flex-wrap:wrap;\n",
              "      gap: 12px;\n",
              "    }\n",
              "\n",
              "    .colab-df-convert {\n",
              "      background-color: #E8F0FE;\n",
              "      border: none;\n",
              "      border-radius: 50%;\n",
              "      cursor: pointer;\n",
              "      display: none;\n",
              "      fill: #1967D2;\n",
              "      height: 32px;\n",
              "      padding: 0 0 0 0;\n",
              "      width: 32px;\n",
              "    }\n",
              "\n",
              "    .colab-df-convert:hover {\n",
              "      background-color: #E2EBFA;\n",
              "      box-shadow: 0px 1px 2px rgba(60, 64, 67, 0.3), 0px 1px 3px 1px rgba(60, 64, 67, 0.15);\n",
              "      fill: #174EA6;\n",
              "    }\n",
              "\n",
              "    [theme=dark] .colab-df-convert {\n",
              "      background-color: #3B4455;\n",
              "      fill: #D2E3FC;\n",
              "    }\n",
              "\n",
              "    [theme=dark] .colab-df-convert:hover {\n",
              "      background-color: #434B5C;\n",
              "      box-shadow: 0px 1px 3px 1px rgba(0, 0, 0, 0.15);\n",
              "      filter: drop-shadow(0px 1px 2px rgba(0, 0, 0, 0.3));\n",
              "      fill: #FFFFFF;\n",
              "    }\n",
              "  </style>\n",
              "\n",
              "      <script>\n",
              "        const buttonEl =\n",
              "          document.querySelector('#df-8c92b737-ccbc-4b63-9478-92520f059a64 button.colab-df-convert');\n",
              "        buttonEl.style.display =\n",
              "          google.colab.kernel.accessAllowed ? 'block' : 'none';\n",
              "\n",
              "        async function convertToInteractive(key) {\n",
              "          const element = document.querySelector('#df-8c92b737-ccbc-4b63-9478-92520f059a64');\n",
              "          const dataTable =\n",
              "            await google.colab.kernel.invokeFunction('convertToInteractive',\n",
              "                                                     [key], {});\n",
              "          if (!dataTable) return;\n",
              "\n",
              "          const docLinkHtml = 'Like what you see? Visit the ' +\n",
              "            '<a target=\"_blank\" href=https://colab.research.google.com/notebooks/data_table.ipynb>data table notebook</a>'\n",
              "            + ' to learn more about interactive tables.';\n",
              "          element.innerHTML = '';\n",
              "          dataTable['output_type'] = 'display_data';\n",
              "          await google.colab.output.renderOutput(dataTable, element);\n",
              "          const docLink = document.createElement('div');\n",
              "          docLink.innerHTML = docLinkHtml;\n",
              "          element.appendChild(docLink);\n",
              "        }\n",
              "      </script>\n",
              "    </div>\n",
              "  </div>\n",
              "  "
            ]
          },
          "metadata": {},
          "execution_count": 4
        }
      ]
    },
    {
      "cell_type": "markdown",
      "source": [
        "## Revisión de existencias de filas duplicadas"
      ],
      "metadata": {
        "id": "_VaZLTF8bI_H"
      }
    },
    {
      "cell_type": "code",
      "source": [
        "df.duplicated().sum()"
      ],
      "metadata": {
        "colab": {
          "base_uri": "https://localhost:8080/"
        },
        "id": "9Ta7GOnLZuth",
        "outputId": "3dad54ab-e8a0-4cc2-ded0-d3c7e1c14e53"
      },
      "execution_count": 5,
      "outputs": [
        {
          "output_type": "execute_result",
          "data": {
            "text/plain": [
              "76"
            ]
          },
          "metadata": {},
          "execution_count": 5
        }
      ]
    },
    {
      "cell_type": "code",
      "source": [
        "# Eliminación de las filas duplicadas\n",
        "df = df.drop_duplicates()\n",
        "df.duplicated().sum()"
      ],
      "metadata": {
        "colab": {
          "base_uri": "https://localhost:8080/"
        },
        "id": "66jGPxooZ2Hs",
        "outputId": "ca3d7db8-5618-4987-edf2-987db84a5318"
      },
      "execution_count": 6,
      "outputs": [
        {
          "output_type": "execute_result",
          "data": {
            "text/plain": [
              "0"
            ]
          },
          "metadata": {},
          "execution_count": 6
        }
      ]
    },
    {
      "cell_type": "markdown",
      "source": [
        "## Identificación de valores faltantes"
      ],
      "metadata": {
        "id": "8iltA_JhbMWJ"
      }
    },
    {
      "cell_type": "code",
      "source": [
        "df.info()"
      ],
      "metadata": {
        "colab": {
          "base_uri": "https://localhost:8080/"
        },
        "id": "pSklQHOTaDzE",
        "outputId": "5e44eab2-285a-4ed7-a1bc-7932070bb08a"
      },
      "execution_count": 7,
      "outputs": [
        {
          "output_type": "stream",
          "name": "stdout",
          "text": [
            "<class 'pandas.core.frame.DataFrame'>\n",
            "Int64Index: 5436 entries, 0 to 5511\n",
            "Data columns (total 9 columns):\n",
            " #   Column               Non-Null Count  Dtype \n",
            "---  ------               --------------  ----- \n",
            " 0   car_name             5436 non-null   object\n",
            " 1   car_prices_in_rupee  5436 non-null   object\n",
            " 2   kms_driven           5436 non-null   object\n",
            " 3   fuel_type            5436 non-null   object\n",
            " 4   transmission         5436 non-null   object\n",
            " 5   ownership            5436 non-null   object\n",
            " 6   manufacture          5436 non-null   int64 \n",
            " 7   engine               5436 non-null   object\n",
            " 8   Seats                5436 non-null   object\n",
            "dtypes: int64(1), object(8)\n",
            "memory usage: 424.7+ KB\n"
          ]
        }
      ]
    },
    {
      "cell_type": "markdown",
      "source": [
        "> No hay datos faltantes en la fuente de datos para ningún campo"
      ],
      "metadata": {
        "id": "ttFXHZNeaN-H"
      }
    },
    {
      "cell_type": "markdown",
      "source": [
        "## Identificación y corrección de las inconsistencias en los datos para los valores categóricos"
      ],
      "metadata": {
        "id": "9sX4X2p4bP20"
      }
    },
    {
      "cell_type": "code",
      "source": [
        "# Revisión del campo 'transmission'\n",
        "df['transmission'].value_counts()"
      ],
      "metadata": {
        "colab": {
          "base_uri": "https://localhost:8080/"
        },
        "id": "PdJhx4tgaSlD",
        "outputId": "06acc9b4-01dc-46ac-d3f1-bab94fcde5be"
      },
      "execution_count": 8,
      "outputs": [
        {
          "output_type": "execute_result",
          "data": {
            "text/plain": [
              "Manual       3919\n",
              "Automatic    1517\n",
              "Name: transmission, dtype: int64"
            ]
          },
          "metadata": {},
          "execution_count": 8
        }
      ]
    },
    {
      "cell_type": "code",
      "source": [
        "# Revisión del campo 'fuel_type'\n",
        "df['fuel_type'].value_counts()"
      ],
      "metadata": {
        "colab": {
          "base_uri": "https://localhost:8080/"
        },
        "id": "3YjevZiHaTBR",
        "outputId": "abb74c8a-72f0-42b5-c7b9-ce5e6980ee03"
      },
      "execution_count": 9,
      "outputs": [
        {
          "output_type": "execute_result",
          "data": {
            "text/plain": [
              "Petrol      2933\n",
              "Diesel      2381\n",
              "Cng           80\n",
              "Lpg           28\n",
              "Electric      14\n",
              "Name: fuel_type, dtype: int64"
            ]
          },
          "metadata": {},
          "execution_count": 9
        }
      ]
    },
    {
      "cell_type": "code",
      "source": [
        "# Revisión del campo 'ownership'\n",
        "df['ownership'].value_counts()"
      ],
      "metadata": {
        "colab": {
          "base_uri": "https://localhost:8080/"
        },
        "id": "LyTNDzUvaS8y",
        "outputId": "4619d944-4656-4c45-c751-41052986aadc"
      },
      "execution_count": 10,
      "outputs": [
        {
          "output_type": "execute_result",
          "data": {
            "text/plain": [
              "1st Owner    3678\n",
              "2nd Owner    1298\n",
              "3rd Owner     358\n",
              "4th Owner      84\n",
              "5th Owner      12\n",
              "0th Owner       6\n",
              "Name: ownership, dtype: int64"
            ]
          },
          "metadata": {},
          "execution_count": 10
        }
      ]
    },
    {
      "cell_type": "code",
      "source": [
        "# Revisión del campo 'Seats'\n",
        "df['Seats'].value_counts()"
      ],
      "metadata": {
        "colab": {
          "base_uri": "https://localhost:8080/"
        },
        "id": "ts3UJB-XaS5S",
        "outputId": "99488fa8-54b0-406a-c585-cea4544b6b0b"
      },
      "execution_count": 11,
      "outputs": [
        {
          "output_type": "execute_result",
          "data": {
            "text/plain": [
              "5 Seats    4603\n",
              "7 Seats     626\n",
              "4 Seats      88\n",
              "6 Seats      60\n",
              "8 Seats      54\n",
              "2 Seats       5\n",
              "Name: Seats, dtype: int64"
            ]
          },
          "metadata": {},
          "execution_count": 11
        }
      ]
    },
    {
      "cell_type": "markdown",
      "source": [
        "> Los campos categóricos de la fuente no necesitan ser corregidos, ya que ninguno presenta inconsistencias en la data"
      ],
      "metadata": {
        "id": "f4MAcN6MbRuX"
      }
    },
    {
      "cell_type": "markdown",
      "source": [
        "## Corrección de tipo de Datos\n"
      ],
      "metadata": {
        "id": "VWqiLaxQcd3L"
      }
    },
    {
      "cell_type": "code",
      "source": [
        "# Cambiar el tipo de datos de 'kms_driven' a númerico\n",
        "df['kms_driven']=df['kms_driven'].str.replace('kms','')\n",
        "df['kms_driven']=df['kms_driven'].str.replace(',','')\n",
        "df['kms_driven'] = df['kms_driven'].astype(int)\n",
        "df.info()"
      ],
      "metadata": {
        "colab": {
          "base_uri": "https://localhost:8080/"
        },
        "id": "sHCNeqO5c_Jp",
        "outputId": "86d97257-3bad-458d-a141-396850cb1ac3"
      },
      "execution_count": 12,
      "outputs": [
        {
          "output_type": "stream",
          "name": "stdout",
          "text": [
            "<class 'pandas.core.frame.DataFrame'>\n",
            "Int64Index: 5436 entries, 0 to 5511\n",
            "Data columns (total 9 columns):\n",
            " #   Column               Non-Null Count  Dtype \n",
            "---  ------               --------------  ----- \n",
            " 0   car_name             5436 non-null   object\n",
            " 1   car_prices_in_rupee  5436 non-null   object\n",
            " 2   kms_driven           5436 non-null   int64 \n",
            " 3   fuel_type            5436 non-null   object\n",
            " 4   transmission         5436 non-null   object\n",
            " 5   ownership            5436 non-null   object\n",
            " 6   manufacture          5436 non-null   int64 \n",
            " 7   engine               5436 non-null   object\n",
            " 8   Seats                5436 non-null   object\n",
            "dtypes: int64(2), object(7)\n",
            "memory usage: 424.7+ KB\n"
          ]
        }
      ]
    },
    {
      "cell_type": "code",
      "source": [
        "# Cambiar el tipo de datos de 'engine' a númerico\n",
        "df['engine']=df['engine'].str.replace('cc','')\n",
        "df['engine'] = df['engine'].astype(int)\n",
        "df.info()"
      ],
      "metadata": {
        "colab": {
          "base_uri": "https://localhost:8080/"
        },
        "id": "xDwsNgS8cc-S",
        "outputId": "b3051aa9-6562-42c7-fe46-8f8daaaf7bba"
      },
      "execution_count": 13,
      "outputs": [
        {
          "output_type": "stream",
          "name": "stdout",
          "text": [
            "<class 'pandas.core.frame.DataFrame'>\n",
            "Int64Index: 5436 entries, 0 to 5511\n",
            "Data columns (total 9 columns):\n",
            " #   Column               Non-Null Count  Dtype \n",
            "---  ------               --------------  ----- \n",
            " 0   car_name             5436 non-null   object\n",
            " 1   car_prices_in_rupee  5436 non-null   object\n",
            " 2   kms_driven           5436 non-null   int64 \n",
            " 3   fuel_type            5436 non-null   object\n",
            " 4   transmission         5436 non-null   object\n",
            " 5   ownership            5436 non-null   object\n",
            " 6   manufacture          5436 non-null   int64 \n",
            " 7   engine               5436 non-null   int64 \n",
            " 8   Seats                5436 non-null   object\n",
            "dtypes: int64(3), object(6)\n",
            "memory usage: 424.7+ KB\n"
          ]
        }
      ]
    },
    {
      "cell_type": "code",
      "source": [
        "# Cambiar el tipo de datos de 'ownership' a númerico\n",
        "df['ownership']=df['ownership'].str.replace('Owner','')\n",
        "df['ownership']=df['ownership'].str.replace('st','')\n",
        "df['ownership']=df['ownership'].str.replace('nd','')\n",
        "df['ownership']=df['ownership'].str.replace('rd','')\n",
        "df['ownership']=df['ownership'].str.replace('th','')\n",
        "df['ownership'] = df['ownership'].astype(int)\n",
        "df.info()"
      ],
      "metadata": {
        "colab": {
          "base_uri": "https://localhost:8080/"
        },
        "id": "f_Z_ao0ndH5s",
        "outputId": "7b2c2bff-14fb-492d-9166-a6eeb29cbc78"
      },
      "execution_count": 14,
      "outputs": [
        {
          "output_type": "stream",
          "name": "stdout",
          "text": [
            "<class 'pandas.core.frame.DataFrame'>\n",
            "Int64Index: 5436 entries, 0 to 5511\n",
            "Data columns (total 9 columns):\n",
            " #   Column               Non-Null Count  Dtype \n",
            "---  ------               --------------  ----- \n",
            " 0   car_name             5436 non-null   object\n",
            " 1   car_prices_in_rupee  5436 non-null   object\n",
            " 2   kms_driven           5436 non-null   int64 \n",
            " 3   fuel_type            5436 non-null   object\n",
            " 4   transmission         5436 non-null   object\n",
            " 5   ownership            5436 non-null   int64 \n",
            " 6   manufacture          5436 non-null   int64 \n",
            " 7   engine               5436 non-null   int64 \n",
            " 8   Seats                5436 non-null   object\n",
            "dtypes: int64(4), object(5)\n",
            "memory usage: 424.7+ KB\n"
          ]
        }
      ]
    },
    {
      "cell_type": "code",
      "source": [
        "# Cambiar el tipo de datos de 'car_prices_in_rupee' a númerico\n",
        "\n",
        "## Separar campos por el valor del precios y la moneda\n",
        "car_prices_in_rupee = df[\"car_prices_in_rupee\"].str.split(expand=True)\n",
        "car_prices_in_rupee.columns = ['price', 'moneda']\n",
        "\n",
        "## Añadir estos campos al df\n",
        "df = pd.concat([car_prices_in_rupee, df], axis=1)\n",
        "\n",
        "## Reemplazar los valores nulos de la columna 'moneda' con 'Rupee'\n",
        "df['moneda'].fillna('Rupee',inplace = True)\n",
        "\n",
        "## Reemplazar caracteres\n",
        "df['price'] = df['price'].str.replace(',','')\n",
        "\n",
        "## Cambiar el tipo de datos del campo 'price'\n",
        "df['price'] = df['price'].astype(float)\n",
        "\n",
        "df.head()"
      ],
      "metadata": {
        "colab": {
          "base_uri": "https://localhost:8080/",
          "height": 206
        },
        "id": "Om8MPe5pdx6V",
        "outputId": "dfd52c36-3772-43bc-b063-299676d2a8b5"
      },
      "execution_count": 15,
      "outputs": [
        {
          "output_type": "execute_result",
          "data": {
            "text/plain": [
              "   price moneda                                car_name car_prices_in_rupee  \\\n",
              "0  10.03   Lakh  Jeep Compass 2.0 Longitude Option BSIV          10.03 Lakh   \n",
              "1  12.83   Lakh            Renault Duster RXZ Turbo CVT          12.83 Lakh   \n",
              "2  16.40   Lakh                      Toyota Camry 2.5 G          16.40 Lakh   \n",
              "3   7.77   Lakh                       Honda Jazz VX CVT           7.77 Lakh   \n",
              "4   5.15   Lakh        Volkswagen Polo 1.2 MPI Highline           5.15 Lakh   \n",
              "\n",
              "   kms_driven fuel_type transmission  ownership  manufacture  engine    Seats  \n",
              "0       86226    Diesel       Manual          1         2017    1956  5 Seats  \n",
              "1       13248    Petrol    Automatic          1         2021    1330  5 Seats  \n",
              "2       60343    Petrol    Automatic          1         2016    2494  5 Seats  \n",
              "3       26696    Petrol    Automatic          1         2018    1199  5 Seats  \n",
              "4       69414    Petrol       Manual          1         2016    1199  5 Seats  "
            ],
            "text/html": [
              "\n",
              "  <div id=\"df-6567a8d4-1bac-42b9-a36e-168e002c4296\">\n",
              "    <div class=\"colab-df-container\">\n",
              "      <div>\n",
              "<style scoped>\n",
              "    .dataframe tbody tr th:only-of-type {\n",
              "        vertical-align: middle;\n",
              "    }\n",
              "\n",
              "    .dataframe tbody tr th {\n",
              "        vertical-align: top;\n",
              "    }\n",
              "\n",
              "    .dataframe thead th {\n",
              "        text-align: right;\n",
              "    }\n",
              "</style>\n",
              "<table border=\"1\" class=\"dataframe\">\n",
              "  <thead>\n",
              "    <tr style=\"text-align: right;\">\n",
              "      <th></th>\n",
              "      <th>price</th>\n",
              "      <th>moneda</th>\n",
              "      <th>car_name</th>\n",
              "      <th>car_prices_in_rupee</th>\n",
              "      <th>kms_driven</th>\n",
              "      <th>fuel_type</th>\n",
              "      <th>transmission</th>\n",
              "      <th>ownership</th>\n",
              "      <th>manufacture</th>\n",
              "      <th>engine</th>\n",
              "      <th>Seats</th>\n",
              "    </tr>\n",
              "  </thead>\n",
              "  <tbody>\n",
              "    <tr>\n",
              "      <th>0</th>\n",
              "      <td>10.03</td>\n",
              "      <td>Lakh</td>\n",
              "      <td>Jeep Compass 2.0 Longitude Option BSIV</td>\n",
              "      <td>10.03 Lakh</td>\n",
              "      <td>86226</td>\n",
              "      <td>Diesel</td>\n",
              "      <td>Manual</td>\n",
              "      <td>1</td>\n",
              "      <td>2017</td>\n",
              "      <td>1956</td>\n",
              "      <td>5 Seats</td>\n",
              "    </tr>\n",
              "    <tr>\n",
              "      <th>1</th>\n",
              "      <td>12.83</td>\n",
              "      <td>Lakh</td>\n",
              "      <td>Renault Duster RXZ Turbo CVT</td>\n",
              "      <td>12.83 Lakh</td>\n",
              "      <td>13248</td>\n",
              "      <td>Petrol</td>\n",
              "      <td>Automatic</td>\n",
              "      <td>1</td>\n",
              "      <td>2021</td>\n",
              "      <td>1330</td>\n",
              "      <td>5 Seats</td>\n",
              "    </tr>\n",
              "    <tr>\n",
              "      <th>2</th>\n",
              "      <td>16.40</td>\n",
              "      <td>Lakh</td>\n",
              "      <td>Toyota Camry 2.5 G</td>\n",
              "      <td>16.40 Lakh</td>\n",
              "      <td>60343</td>\n",
              "      <td>Petrol</td>\n",
              "      <td>Automatic</td>\n",
              "      <td>1</td>\n",
              "      <td>2016</td>\n",
              "      <td>2494</td>\n",
              "      <td>5 Seats</td>\n",
              "    </tr>\n",
              "    <tr>\n",
              "      <th>3</th>\n",
              "      <td>7.77</td>\n",
              "      <td>Lakh</td>\n",
              "      <td>Honda Jazz VX CVT</td>\n",
              "      <td>7.77 Lakh</td>\n",
              "      <td>26696</td>\n",
              "      <td>Petrol</td>\n",
              "      <td>Automatic</td>\n",
              "      <td>1</td>\n",
              "      <td>2018</td>\n",
              "      <td>1199</td>\n",
              "      <td>5 Seats</td>\n",
              "    </tr>\n",
              "    <tr>\n",
              "      <th>4</th>\n",
              "      <td>5.15</td>\n",
              "      <td>Lakh</td>\n",
              "      <td>Volkswagen Polo 1.2 MPI Highline</td>\n",
              "      <td>5.15 Lakh</td>\n",
              "      <td>69414</td>\n",
              "      <td>Petrol</td>\n",
              "      <td>Manual</td>\n",
              "      <td>1</td>\n",
              "      <td>2016</td>\n",
              "      <td>1199</td>\n",
              "      <td>5 Seats</td>\n",
              "    </tr>\n",
              "  </tbody>\n",
              "</table>\n",
              "</div>\n",
              "      <button class=\"colab-df-convert\" onclick=\"convertToInteractive('df-6567a8d4-1bac-42b9-a36e-168e002c4296')\"\n",
              "              title=\"Convert this dataframe to an interactive table.\"\n",
              "              style=\"display:none;\">\n",
              "        \n",
              "  <svg xmlns=\"http://www.w3.org/2000/svg\" height=\"24px\"viewBox=\"0 0 24 24\"\n",
              "       width=\"24px\">\n",
              "    <path d=\"M0 0h24v24H0V0z\" fill=\"none\"/>\n",
              "    <path d=\"M18.56 5.44l.94 2.06.94-2.06 2.06-.94-2.06-.94-.94-2.06-.94 2.06-2.06.94zm-11 1L8.5 8.5l.94-2.06 2.06-.94-2.06-.94L8.5 2.5l-.94 2.06-2.06.94zm10 10l.94 2.06.94-2.06 2.06-.94-2.06-.94-.94-2.06-.94 2.06-2.06.94z\"/><path d=\"M17.41 7.96l-1.37-1.37c-.4-.4-.92-.59-1.43-.59-.52 0-1.04.2-1.43.59L10.3 9.45l-7.72 7.72c-.78.78-.78 2.05 0 2.83L4 21.41c.39.39.9.59 1.41.59.51 0 1.02-.2 1.41-.59l7.78-7.78 2.81-2.81c.8-.78.8-2.07 0-2.86zM5.41 20L4 18.59l7.72-7.72 1.47 1.35L5.41 20z\"/>\n",
              "  </svg>\n",
              "      </button>\n",
              "      \n",
              "  <style>\n",
              "    .colab-df-container {\n",
              "      display:flex;\n",
              "      flex-wrap:wrap;\n",
              "      gap: 12px;\n",
              "    }\n",
              "\n",
              "    .colab-df-convert {\n",
              "      background-color: #E8F0FE;\n",
              "      border: none;\n",
              "      border-radius: 50%;\n",
              "      cursor: pointer;\n",
              "      display: none;\n",
              "      fill: #1967D2;\n",
              "      height: 32px;\n",
              "      padding: 0 0 0 0;\n",
              "      width: 32px;\n",
              "    }\n",
              "\n",
              "    .colab-df-convert:hover {\n",
              "      background-color: #E2EBFA;\n",
              "      box-shadow: 0px 1px 2px rgba(60, 64, 67, 0.3), 0px 1px 3px 1px rgba(60, 64, 67, 0.15);\n",
              "      fill: #174EA6;\n",
              "    }\n",
              "\n",
              "    [theme=dark] .colab-df-convert {\n",
              "      background-color: #3B4455;\n",
              "      fill: #D2E3FC;\n",
              "    }\n",
              "\n",
              "    [theme=dark] .colab-df-convert:hover {\n",
              "      background-color: #434B5C;\n",
              "      box-shadow: 0px 1px 3px 1px rgba(0, 0, 0, 0.15);\n",
              "      filter: drop-shadow(0px 1px 2px rgba(0, 0, 0, 0.3));\n",
              "      fill: #FFFFFF;\n",
              "    }\n",
              "  </style>\n",
              "\n",
              "      <script>\n",
              "        const buttonEl =\n",
              "          document.querySelector('#df-6567a8d4-1bac-42b9-a36e-168e002c4296 button.colab-df-convert');\n",
              "        buttonEl.style.display =\n",
              "          google.colab.kernel.accessAllowed ? 'block' : 'none';\n",
              "\n",
              "        async function convertToInteractive(key) {\n",
              "          const element = document.querySelector('#df-6567a8d4-1bac-42b9-a36e-168e002c4296');\n",
              "          const dataTable =\n",
              "            await google.colab.kernel.invokeFunction('convertToInteractive',\n",
              "                                                     [key], {});\n",
              "          if (!dataTable) return;\n",
              "\n",
              "          const docLinkHtml = 'Like what you see? Visit the ' +\n",
              "            '<a target=\"_blank\" href=https://colab.research.google.com/notebooks/data_table.ipynb>data table notebook</a>'\n",
              "            + ' to learn more about interactive tables.';\n",
              "          element.innerHTML = '';\n",
              "          dataTable['output_type'] = 'display_data';\n",
              "          await google.colab.output.renderOutput(dataTable, element);\n",
              "          const docLink = document.createElement('div');\n",
              "          docLink.innerHTML = docLinkHtml;\n",
              "          element.appendChild(docLink);\n",
              "        }\n",
              "      </script>\n",
              "    </div>\n",
              "  </div>\n",
              "  "
            ]
          },
          "metadata": {},
          "execution_count": 15
        }
      ]
    },
    {
      "cell_type": "code",
      "source": [
        "## Revisión de los datos en el campo 'Moneda'\n",
        "df['moneda'].value_counts()"
      ],
      "metadata": {
        "colab": {
          "base_uri": "https://localhost:8080/"
        },
        "id": "M775DuGDdx0p",
        "outputId": "5cc47d87-0d17-41e9-e5c4-b364595fe72b"
      },
      "execution_count": 16,
      "outputs": [
        {
          "output_type": "execute_result",
          "data": {
            "text/plain": [
              "Lakh     5258\n",
              "Rupee     123\n",
              "Crore      55\n",
              "Name: moneda, dtype: int64"
            ]
          },
          "metadata": {},
          "execution_count": 16
        }
      ]
    },
    {
      "cell_type": "code",
      "source": [
        "## Crear variables para la conversion\n",
        "## Conversiones\n",
        "moneda = [\n",
        "    (df['moneda']=='Lakh'),\n",
        "    (df['moneda']=='Rupee'),\n",
        "    (df['moneda']=='Crore')\n",
        "]\n",
        "Conversiones =[100000,1,10000000]\n",
        "\n",
        "## Crear una nueva columna de las conversiones por tipo de moneda\n",
        "df['Conversion'] = np.select(moneda, Conversiones)\n",
        "df['Conversion'].value_counts()"
      ],
      "metadata": {
        "colab": {
          "base_uri": "https://localhost:8080/"
        },
        "id": "h7Kk5EOhdxvJ",
        "outputId": "b5135657-4476-4da2-c97e-489756cb35b6"
      },
      "execution_count": 17,
      "outputs": [
        {
          "output_type": "execute_result",
          "data": {
            "text/plain": [
              "100000      5258\n",
              "1            123\n",
              "10000000      55\n",
              "Name: Conversion, dtype: int64"
            ]
          },
          "metadata": {},
          "execution_count": 17
        }
      ]
    },
    {
      "cell_type": "code",
      "source": [
        "## Multiplicación del campo 'price' y su respectiva conversion por moneda\n",
        "df['car_prices_in_rupee'] = df['price'] * df['Conversion']\n",
        "df.head()"
      ],
      "metadata": {
        "colab": {
          "base_uri": "https://localhost:8080/",
          "height": 206
        },
        "id": "gKAPy8j5dKB2",
        "outputId": "c5511960-bee8-41f3-a66e-87b2ebb92382"
      },
      "execution_count": 18,
      "outputs": [
        {
          "output_type": "execute_result",
          "data": {
            "text/plain": [
              "   price moneda                                car_name  car_prices_in_rupee  \\\n",
              "0  10.03   Lakh  Jeep Compass 2.0 Longitude Option BSIV            1003000.0   \n",
              "1  12.83   Lakh            Renault Duster RXZ Turbo CVT            1283000.0   \n",
              "2  16.40   Lakh                      Toyota Camry 2.5 G            1640000.0   \n",
              "3   7.77   Lakh                       Honda Jazz VX CVT             777000.0   \n",
              "4   5.15   Lakh        Volkswagen Polo 1.2 MPI Highline             515000.0   \n",
              "\n",
              "   kms_driven fuel_type transmission  ownership  manufacture  engine    Seats  \\\n",
              "0       86226    Diesel       Manual          1         2017    1956  5 Seats   \n",
              "1       13248    Petrol    Automatic          1         2021    1330  5 Seats   \n",
              "2       60343    Petrol    Automatic          1         2016    2494  5 Seats   \n",
              "3       26696    Petrol    Automatic          1         2018    1199  5 Seats   \n",
              "4       69414    Petrol       Manual          1         2016    1199  5 Seats   \n",
              "\n",
              "   Conversion  \n",
              "0      100000  \n",
              "1      100000  \n",
              "2      100000  \n",
              "3      100000  \n",
              "4      100000  "
            ],
            "text/html": [
              "\n",
              "  <div id=\"df-e573b014-d288-4c55-b64f-16e342dc8853\">\n",
              "    <div class=\"colab-df-container\">\n",
              "      <div>\n",
              "<style scoped>\n",
              "    .dataframe tbody tr th:only-of-type {\n",
              "        vertical-align: middle;\n",
              "    }\n",
              "\n",
              "    .dataframe tbody tr th {\n",
              "        vertical-align: top;\n",
              "    }\n",
              "\n",
              "    .dataframe thead th {\n",
              "        text-align: right;\n",
              "    }\n",
              "</style>\n",
              "<table border=\"1\" class=\"dataframe\">\n",
              "  <thead>\n",
              "    <tr style=\"text-align: right;\">\n",
              "      <th></th>\n",
              "      <th>price</th>\n",
              "      <th>moneda</th>\n",
              "      <th>car_name</th>\n",
              "      <th>car_prices_in_rupee</th>\n",
              "      <th>kms_driven</th>\n",
              "      <th>fuel_type</th>\n",
              "      <th>transmission</th>\n",
              "      <th>ownership</th>\n",
              "      <th>manufacture</th>\n",
              "      <th>engine</th>\n",
              "      <th>Seats</th>\n",
              "      <th>Conversion</th>\n",
              "    </tr>\n",
              "  </thead>\n",
              "  <tbody>\n",
              "    <tr>\n",
              "      <th>0</th>\n",
              "      <td>10.03</td>\n",
              "      <td>Lakh</td>\n",
              "      <td>Jeep Compass 2.0 Longitude Option BSIV</td>\n",
              "      <td>1003000.0</td>\n",
              "      <td>86226</td>\n",
              "      <td>Diesel</td>\n",
              "      <td>Manual</td>\n",
              "      <td>1</td>\n",
              "      <td>2017</td>\n",
              "      <td>1956</td>\n",
              "      <td>5 Seats</td>\n",
              "      <td>100000</td>\n",
              "    </tr>\n",
              "    <tr>\n",
              "      <th>1</th>\n",
              "      <td>12.83</td>\n",
              "      <td>Lakh</td>\n",
              "      <td>Renault Duster RXZ Turbo CVT</td>\n",
              "      <td>1283000.0</td>\n",
              "      <td>13248</td>\n",
              "      <td>Petrol</td>\n",
              "      <td>Automatic</td>\n",
              "      <td>1</td>\n",
              "      <td>2021</td>\n",
              "      <td>1330</td>\n",
              "      <td>5 Seats</td>\n",
              "      <td>100000</td>\n",
              "    </tr>\n",
              "    <tr>\n",
              "      <th>2</th>\n",
              "      <td>16.40</td>\n",
              "      <td>Lakh</td>\n",
              "      <td>Toyota Camry 2.5 G</td>\n",
              "      <td>1640000.0</td>\n",
              "      <td>60343</td>\n",
              "      <td>Petrol</td>\n",
              "      <td>Automatic</td>\n",
              "      <td>1</td>\n",
              "      <td>2016</td>\n",
              "      <td>2494</td>\n",
              "      <td>5 Seats</td>\n",
              "      <td>100000</td>\n",
              "    </tr>\n",
              "    <tr>\n",
              "      <th>3</th>\n",
              "      <td>7.77</td>\n",
              "      <td>Lakh</td>\n",
              "      <td>Honda Jazz VX CVT</td>\n",
              "      <td>777000.0</td>\n",
              "      <td>26696</td>\n",
              "      <td>Petrol</td>\n",
              "      <td>Automatic</td>\n",
              "      <td>1</td>\n",
              "      <td>2018</td>\n",
              "      <td>1199</td>\n",
              "      <td>5 Seats</td>\n",
              "      <td>100000</td>\n",
              "    </tr>\n",
              "    <tr>\n",
              "      <th>4</th>\n",
              "      <td>5.15</td>\n",
              "      <td>Lakh</td>\n",
              "      <td>Volkswagen Polo 1.2 MPI Highline</td>\n",
              "      <td>515000.0</td>\n",
              "      <td>69414</td>\n",
              "      <td>Petrol</td>\n",
              "      <td>Manual</td>\n",
              "      <td>1</td>\n",
              "      <td>2016</td>\n",
              "      <td>1199</td>\n",
              "      <td>5 Seats</td>\n",
              "      <td>100000</td>\n",
              "    </tr>\n",
              "  </tbody>\n",
              "</table>\n",
              "</div>\n",
              "      <button class=\"colab-df-convert\" onclick=\"convertToInteractive('df-e573b014-d288-4c55-b64f-16e342dc8853')\"\n",
              "              title=\"Convert this dataframe to an interactive table.\"\n",
              "              style=\"display:none;\">\n",
              "        \n",
              "  <svg xmlns=\"http://www.w3.org/2000/svg\" height=\"24px\"viewBox=\"0 0 24 24\"\n",
              "       width=\"24px\">\n",
              "    <path d=\"M0 0h24v24H0V0z\" fill=\"none\"/>\n",
              "    <path d=\"M18.56 5.44l.94 2.06.94-2.06 2.06-.94-2.06-.94-.94-2.06-.94 2.06-2.06.94zm-11 1L8.5 8.5l.94-2.06 2.06-.94-2.06-.94L8.5 2.5l-.94 2.06-2.06.94zm10 10l.94 2.06.94-2.06 2.06-.94-2.06-.94-.94-2.06-.94 2.06-2.06.94z\"/><path d=\"M17.41 7.96l-1.37-1.37c-.4-.4-.92-.59-1.43-.59-.52 0-1.04.2-1.43.59L10.3 9.45l-7.72 7.72c-.78.78-.78 2.05 0 2.83L4 21.41c.39.39.9.59 1.41.59.51 0 1.02-.2 1.41-.59l7.78-7.78 2.81-2.81c.8-.78.8-2.07 0-2.86zM5.41 20L4 18.59l7.72-7.72 1.47 1.35L5.41 20z\"/>\n",
              "  </svg>\n",
              "      </button>\n",
              "      \n",
              "  <style>\n",
              "    .colab-df-container {\n",
              "      display:flex;\n",
              "      flex-wrap:wrap;\n",
              "      gap: 12px;\n",
              "    }\n",
              "\n",
              "    .colab-df-convert {\n",
              "      background-color: #E8F0FE;\n",
              "      border: none;\n",
              "      border-radius: 50%;\n",
              "      cursor: pointer;\n",
              "      display: none;\n",
              "      fill: #1967D2;\n",
              "      height: 32px;\n",
              "      padding: 0 0 0 0;\n",
              "      width: 32px;\n",
              "    }\n",
              "\n",
              "    .colab-df-convert:hover {\n",
              "      background-color: #E2EBFA;\n",
              "      box-shadow: 0px 1px 2px rgba(60, 64, 67, 0.3), 0px 1px 3px 1px rgba(60, 64, 67, 0.15);\n",
              "      fill: #174EA6;\n",
              "    }\n",
              "\n",
              "    [theme=dark] .colab-df-convert {\n",
              "      background-color: #3B4455;\n",
              "      fill: #D2E3FC;\n",
              "    }\n",
              "\n",
              "    [theme=dark] .colab-df-convert:hover {\n",
              "      background-color: #434B5C;\n",
              "      box-shadow: 0px 1px 3px 1px rgba(0, 0, 0, 0.15);\n",
              "      filter: drop-shadow(0px 1px 2px rgba(0, 0, 0, 0.3));\n",
              "      fill: #FFFFFF;\n",
              "    }\n",
              "  </style>\n",
              "\n",
              "      <script>\n",
              "        const buttonEl =\n",
              "          document.querySelector('#df-e573b014-d288-4c55-b64f-16e342dc8853 button.colab-df-convert');\n",
              "        buttonEl.style.display =\n",
              "          google.colab.kernel.accessAllowed ? 'block' : 'none';\n",
              "\n",
              "        async function convertToInteractive(key) {\n",
              "          const element = document.querySelector('#df-e573b014-d288-4c55-b64f-16e342dc8853');\n",
              "          const dataTable =\n",
              "            await google.colab.kernel.invokeFunction('convertToInteractive',\n",
              "                                                     [key], {});\n",
              "          if (!dataTable) return;\n",
              "\n",
              "          const docLinkHtml = 'Like what you see? Visit the ' +\n",
              "            '<a target=\"_blank\" href=https://colab.research.google.com/notebooks/data_table.ipynb>data table notebook</a>'\n",
              "            + ' to learn more about interactive tables.';\n",
              "          element.innerHTML = '';\n",
              "          dataTable['output_type'] = 'display_data';\n",
              "          await google.colab.output.renderOutput(dataTable, element);\n",
              "          const docLink = document.createElement('div');\n",
              "          docLink.innerHTML = docLinkHtml;\n",
              "          element.appendChild(docLink);\n",
              "        }\n",
              "      </script>\n",
              "    </div>\n",
              "  </div>\n",
              "  "
            ]
          },
          "metadata": {},
          "execution_count": 18
        }
      ]
    },
    {
      "cell_type": "code",
      "source": [
        "## Eliminar campos creados innecesarios\n",
        "df = df.drop(columns=['price','moneda','Conversion'])\n",
        "df.head()"
      ],
      "metadata": {
        "colab": {
          "base_uri": "https://localhost:8080/",
          "height": 206
        },
        "id": "CnEw1gyWshIM",
        "outputId": "1231aadf-7f18-4e4d-8b58-df1809c7e1e8"
      },
      "execution_count": 19,
      "outputs": [
        {
          "output_type": "execute_result",
          "data": {
            "text/plain": [
              "                                 car_name  car_prices_in_rupee  kms_driven  \\\n",
              "0  Jeep Compass 2.0 Longitude Option BSIV            1003000.0       86226   \n",
              "1            Renault Duster RXZ Turbo CVT            1283000.0       13248   \n",
              "2                      Toyota Camry 2.5 G            1640000.0       60343   \n",
              "3                       Honda Jazz VX CVT             777000.0       26696   \n",
              "4        Volkswagen Polo 1.2 MPI Highline             515000.0       69414   \n",
              "\n",
              "  fuel_type transmission  ownership  manufacture  engine    Seats  \n",
              "0    Diesel       Manual          1         2017    1956  5 Seats  \n",
              "1    Petrol    Automatic          1         2021    1330  5 Seats  \n",
              "2    Petrol    Automatic          1         2016    2494  5 Seats  \n",
              "3    Petrol    Automatic          1         2018    1199  5 Seats  \n",
              "4    Petrol       Manual          1         2016    1199  5 Seats  "
            ],
            "text/html": [
              "\n",
              "  <div id=\"df-ce99e6c6-cf4e-438e-aeed-462723d1da42\">\n",
              "    <div class=\"colab-df-container\">\n",
              "      <div>\n",
              "<style scoped>\n",
              "    .dataframe tbody tr th:only-of-type {\n",
              "        vertical-align: middle;\n",
              "    }\n",
              "\n",
              "    .dataframe tbody tr th {\n",
              "        vertical-align: top;\n",
              "    }\n",
              "\n",
              "    .dataframe thead th {\n",
              "        text-align: right;\n",
              "    }\n",
              "</style>\n",
              "<table border=\"1\" class=\"dataframe\">\n",
              "  <thead>\n",
              "    <tr style=\"text-align: right;\">\n",
              "      <th></th>\n",
              "      <th>car_name</th>\n",
              "      <th>car_prices_in_rupee</th>\n",
              "      <th>kms_driven</th>\n",
              "      <th>fuel_type</th>\n",
              "      <th>transmission</th>\n",
              "      <th>ownership</th>\n",
              "      <th>manufacture</th>\n",
              "      <th>engine</th>\n",
              "      <th>Seats</th>\n",
              "    </tr>\n",
              "  </thead>\n",
              "  <tbody>\n",
              "    <tr>\n",
              "      <th>0</th>\n",
              "      <td>Jeep Compass 2.0 Longitude Option BSIV</td>\n",
              "      <td>1003000.0</td>\n",
              "      <td>86226</td>\n",
              "      <td>Diesel</td>\n",
              "      <td>Manual</td>\n",
              "      <td>1</td>\n",
              "      <td>2017</td>\n",
              "      <td>1956</td>\n",
              "      <td>5 Seats</td>\n",
              "    </tr>\n",
              "    <tr>\n",
              "      <th>1</th>\n",
              "      <td>Renault Duster RXZ Turbo CVT</td>\n",
              "      <td>1283000.0</td>\n",
              "      <td>13248</td>\n",
              "      <td>Petrol</td>\n",
              "      <td>Automatic</td>\n",
              "      <td>1</td>\n",
              "      <td>2021</td>\n",
              "      <td>1330</td>\n",
              "      <td>5 Seats</td>\n",
              "    </tr>\n",
              "    <tr>\n",
              "      <th>2</th>\n",
              "      <td>Toyota Camry 2.5 G</td>\n",
              "      <td>1640000.0</td>\n",
              "      <td>60343</td>\n",
              "      <td>Petrol</td>\n",
              "      <td>Automatic</td>\n",
              "      <td>1</td>\n",
              "      <td>2016</td>\n",
              "      <td>2494</td>\n",
              "      <td>5 Seats</td>\n",
              "    </tr>\n",
              "    <tr>\n",
              "      <th>3</th>\n",
              "      <td>Honda Jazz VX CVT</td>\n",
              "      <td>777000.0</td>\n",
              "      <td>26696</td>\n",
              "      <td>Petrol</td>\n",
              "      <td>Automatic</td>\n",
              "      <td>1</td>\n",
              "      <td>2018</td>\n",
              "      <td>1199</td>\n",
              "      <td>5 Seats</td>\n",
              "    </tr>\n",
              "    <tr>\n",
              "      <th>4</th>\n",
              "      <td>Volkswagen Polo 1.2 MPI Highline</td>\n",
              "      <td>515000.0</td>\n",
              "      <td>69414</td>\n",
              "      <td>Petrol</td>\n",
              "      <td>Manual</td>\n",
              "      <td>1</td>\n",
              "      <td>2016</td>\n",
              "      <td>1199</td>\n",
              "      <td>5 Seats</td>\n",
              "    </tr>\n",
              "  </tbody>\n",
              "</table>\n",
              "</div>\n",
              "      <button class=\"colab-df-convert\" onclick=\"convertToInteractive('df-ce99e6c6-cf4e-438e-aeed-462723d1da42')\"\n",
              "              title=\"Convert this dataframe to an interactive table.\"\n",
              "              style=\"display:none;\">\n",
              "        \n",
              "  <svg xmlns=\"http://www.w3.org/2000/svg\" height=\"24px\"viewBox=\"0 0 24 24\"\n",
              "       width=\"24px\">\n",
              "    <path d=\"M0 0h24v24H0V0z\" fill=\"none\"/>\n",
              "    <path d=\"M18.56 5.44l.94 2.06.94-2.06 2.06-.94-2.06-.94-.94-2.06-.94 2.06-2.06.94zm-11 1L8.5 8.5l.94-2.06 2.06-.94-2.06-.94L8.5 2.5l-.94 2.06-2.06.94zm10 10l.94 2.06.94-2.06 2.06-.94-2.06-.94-.94-2.06-.94 2.06-2.06.94z\"/><path d=\"M17.41 7.96l-1.37-1.37c-.4-.4-.92-.59-1.43-.59-.52 0-1.04.2-1.43.59L10.3 9.45l-7.72 7.72c-.78.78-.78 2.05 0 2.83L4 21.41c.39.39.9.59 1.41.59.51 0 1.02-.2 1.41-.59l7.78-7.78 2.81-2.81c.8-.78.8-2.07 0-2.86zM5.41 20L4 18.59l7.72-7.72 1.47 1.35L5.41 20z\"/>\n",
              "  </svg>\n",
              "      </button>\n",
              "      \n",
              "  <style>\n",
              "    .colab-df-container {\n",
              "      display:flex;\n",
              "      flex-wrap:wrap;\n",
              "      gap: 12px;\n",
              "    }\n",
              "\n",
              "    .colab-df-convert {\n",
              "      background-color: #E8F0FE;\n",
              "      border: none;\n",
              "      border-radius: 50%;\n",
              "      cursor: pointer;\n",
              "      display: none;\n",
              "      fill: #1967D2;\n",
              "      height: 32px;\n",
              "      padding: 0 0 0 0;\n",
              "      width: 32px;\n",
              "    }\n",
              "\n",
              "    .colab-df-convert:hover {\n",
              "      background-color: #E2EBFA;\n",
              "      box-shadow: 0px 1px 2px rgba(60, 64, 67, 0.3), 0px 1px 3px 1px rgba(60, 64, 67, 0.15);\n",
              "      fill: #174EA6;\n",
              "    }\n",
              "\n",
              "    [theme=dark] .colab-df-convert {\n",
              "      background-color: #3B4455;\n",
              "      fill: #D2E3FC;\n",
              "    }\n",
              "\n",
              "    [theme=dark] .colab-df-convert:hover {\n",
              "      background-color: #434B5C;\n",
              "      box-shadow: 0px 1px 3px 1px rgba(0, 0, 0, 0.15);\n",
              "      filter: drop-shadow(0px 1px 2px rgba(0, 0, 0, 0.3));\n",
              "      fill: #FFFFFF;\n",
              "    }\n",
              "  </style>\n",
              "\n",
              "      <script>\n",
              "        const buttonEl =\n",
              "          document.querySelector('#df-ce99e6c6-cf4e-438e-aeed-462723d1da42 button.colab-df-convert');\n",
              "        buttonEl.style.display =\n",
              "          google.colab.kernel.accessAllowed ? 'block' : 'none';\n",
              "\n",
              "        async function convertToInteractive(key) {\n",
              "          const element = document.querySelector('#df-ce99e6c6-cf4e-438e-aeed-462723d1da42');\n",
              "          const dataTable =\n",
              "            await google.colab.kernel.invokeFunction('convertToInteractive',\n",
              "                                                     [key], {});\n",
              "          if (!dataTable) return;\n",
              "\n",
              "          const docLinkHtml = 'Like what you see? Visit the ' +\n",
              "            '<a target=\"_blank\" href=https://colab.research.google.com/notebooks/data_table.ipynb>data table notebook</a>'\n",
              "            + ' to learn more about interactive tables.';\n",
              "          element.innerHTML = '';\n",
              "          dataTable['output_type'] = 'display_data';\n",
              "          await google.colab.output.renderOutput(dataTable, element);\n",
              "          const docLink = document.createElement('div');\n",
              "          docLink.innerHTML = docLinkHtml;\n",
              "          element.appendChild(docLink);\n",
              "        }\n",
              "      </script>\n",
              "    </div>\n",
              "  </div>\n",
              "  "
            ]
          },
          "metadata": {},
          "execution_count": 19
        }
      ]
    },
    {
      "cell_type": "code",
      "source": [
        "# Cambiar el tipo de datos de 'Seats' a númerico\n",
        "df['Seats']=df['Seats'].str.replace('Seats','')\n",
        "df['Seats'] = df['Seats'].astype(int)\n",
        "df.info()"
      ],
      "metadata": {
        "colab": {
          "base_uri": "https://localhost:8080/"
        },
        "id": "eiRVXe6xtFpl",
        "outputId": "b6e06b9a-e523-4b5f-8d50-e950054b0cb1"
      },
      "execution_count": 20,
      "outputs": [
        {
          "output_type": "stream",
          "name": "stdout",
          "text": [
            "<class 'pandas.core.frame.DataFrame'>\n",
            "Int64Index: 5436 entries, 0 to 5511\n",
            "Data columns (total 9 columns):\n",
            " #   Column               Non-Null Count  Dtype  \n",
            "---  ------               --------------  -----  \n",
            " 0   car_name             5436 non-null   object \n",
            " 1   car_prices_in_rupee  5436 non-null   float64\n",
            " 2   kms_driven           5436 non-null   int64  \n",
            " 3   fuel_type            5436 non-null   object \n",
            " 4   transmission         5436 non-null   object \n",
            " 5   ownership            5436 non-null   int64  \n",
            " 6   manufacture          5436 non-null   int64  \n",
            " 7   engine               5436 non-null   int64  \n",
            " 8   Seats                5436 non-null   int64  \n",
            "dtypes: float64(1), int64(5), object(3)\n",
            "memory usage: 424.7+ KB\n"
          ]
        }
      ]
    },
    {
      "cell_type": "markdown",
      "source": [
        "# **Exploración de datos**\n",
        "\n",
        "Producir visuales univariantes para el objetivo y todas las características"
      ],
      "metadata": {
        "id": "x520nRSrbzHW"
      }
    },
    {
      "cell_type": "code",
      "source": [
        "# Histograma de precios\n",
        "plt.figure(figsize=[13,8])\n",
        "df['car_prices_in_rupee'].hist(bins = 30,\n",
        "                               edgecolor = 'black')\n",
        "\n",
        "plt.ticklabel_format(useOffset=False, style='plain')\n",
        "plt.xticks(rotation = 45)\n",
        "plt.show()"
      ],
      "metadata": {
        "colab": {
          "base_uri": "https://localhost:8080/",
          "height": 512
        },
        "id": "rrO7Mt_gb6XD",
        "outputId": "5a86f71b-a72a-4a8f-9b61-73ed3aaee634"
      },
      "execution_count": 27,
      "outputs": [
        {
          "output_type": "display_data",
          "data": {
            "text/plain": [
              "<Figure size 936x576 with 1 Axes>"
            ],
            "image/png": "[encoded data removed]"
          },
          "metadata": {}
        }
      ]
    },
    {
      "cell_type": "markdown",
      "source": [
        ">Podemos observar que la mayor cantidad de datos de los precios de autos antiguos son menores que 2,500,000 rupias."
      ],
      "metadata": {
        "id": "V5WmIec9uABL"
      }
    },
    {
      "cell_type": "markdown",
      "source": [
        "Tendencia del precio promedio por año manufacturado"
      ],
      "metadata": {
        "id": "Qf_jkRMVw7ZO"
      }
    },
    {
      "cell_type": "code",
      "source": [
        "# Precio promedio por año manufacturado\n",
        "price_manufactureYear = df.groupby(['manufacture'])['car_prices_in_rupee'].mean()\n",
        "price_manufactureYear"
      ],
      "metadata": {
        "colab": {
          "base_uri": "https://localhost:8080/"
        },
        "id": "wtrksSnSxz8j",
        "outputId": "27fab322-635a-4425-ef51-88e3043b42b1"
      },
      "execution_count": 22,
      "outputs": [
        {
          "output_type": "execute_result",
          "data": {
            "text/plain": [
              "manufacture\n",
              "1995    2.600000e+05\n",
              "1998    8.500000e+04\n",
              "1999    3.500000e+04\n",
              "2000    4.725000e+04\n",
              "2001    1.275000e+05\n",
              "2002    1.303077e+05\n",
              "2003    9.467162e+04\n",
              "2004    1.600000e+05\n",
              "2005    1.472335e+05\n",
              "2006    1.793266e+05\n",
              "2007    2.065699e+05\n",
              "2008    1.600935e+05\n",
              "2009    1.990563e+05\n",
              "2010    2.764685e+05\n",
              "2011    3.737840e+05\n",
              "2012    4.172893e+05\n",
              "2013    5.933659e+05\n",
              "2014    6.914497e+05\n",
              "2015    8.099363e+05\n",
              "2016    9.599041e+05\n",
              "2017    1.180891e+06\n",
              "2018    1.452321e+06\n",
              "2019    2.210981e+06\n",
              "2020    2.295810e+06\n",
              "2021    2.378293e+06\n",
              "2022    2.608803e+06\n",
              "Name: car_prices_in_rupee, dtype: float64"
            ]
          },
          "metadata": {},
          "execution_count": 22
        }
      ]
    },
    {
      "cell_type": "code",
      "source": [
        "manufactureYears = list(price_manufactureYear.index)\n",
        "manufactureYears"
      ],
      "metadata": {
        "colab": {
          "base_uri": "https://localhost:8080/"
        },
        "id": "rLGy5FRzyCLh",
        "outputId": "97dabe0d-7cfd-4593-c9a2-ad97d91ab106"
      },
      "execution_count": 23,
      "outputs": [
        {
          "output_type": "execute_result",
          "data": {
            "text/plain": [
              "[1995,\n",
              " 1998,\n",
              " 1999,\n",
              " 2000,\n",
              " 2001,\n",
              " 2002,\n",
              " 2003,\n",
              " 2004,\n",
              " 2005,\n",
              " 2006,\n",
              " 2007,\n",
              " 2008,\n",
              " 2009,\n",
              " 2010,\n",
              " 2011,\n",
              " 2012,\n",
              " 2013,\n",
              " 2014,\n",
              " 2015,\n",
              " 2016,\n",
              " 2017,\n",
              " 2018,\n",
              " 2019,\n",
              " 2020,\n",
              " 2021,\n",
              " 2022]"
            ]
          },
          "metadata": {},
          "execution_count": 23
        }
      ]
    },
    {
      "cell_type": "code",
      "source": [
        "price_prom = list(price_manufactureYear.values)\n",
        "price_prom"
      ],
      "metadata": {
        "colab": {
          "base_uri": "https://localhost:8080/"
        },
        "id": "C6OwEWRayE-n",
        "outputId": "907005e9-9b6c-4716-ff5e-91a3db04ec07"
      },
      "execution_count": 24,
      "outputs": [
        {
          "output_type": "execute_result",
          "data": {
            "text/plain": [
              "[260000.0,\n",
              " 85000.0,\n",
              " 35000.0,\n",
              " 47250.0,\n",
              " 127500.0,\n",
              " 130307.69230769231,\n",
              " 94671.625,\n",
              " 160000.0,\n",
              " 147233.4642857143,\n",
              " 179326.61904761905,\n",
              " 206569.93333333332,\n",
              " 160093.45132743364,\n",
              " 199056.3409090909,\n",
              " 276468.50230414746,\n",
              " 373783.9612403101,\n",
              " 417289.2976588629,\n",
              " 593365.8505434783,\n",
              " 691449.6783369803,\n",
              " 809936.3141762452,\n",
              " 959904.1394335512,\n",
              " 1180891.4473684211,\n",
              " 1452321.083172147,\n",
              " 2210981.4814814813,\n",
              " 2295810.495626822,\n",
              " 2378292.899408284,\n",
              " 2608802.8169014086]"
            ]
          },
          "metadata": {},
          "execution_count": 24
        }
      ]
    },
    {
      "cell_type": "code",
      "source": [
        "plt.style.use('seaborn')\n",
        "plt.plot(manufactureYears, price_prom)\n",
        "plt.xlabel('Año Manufacturado')\n",
        "plt.ylabel('Precio Promedio')\n",
        "plt.title('Precio promedio por Año manufacturado del carro \\n')\n",
        "plt.show()"
      ],
      "metadata": {
        "colab": {
          "base_uri": "https://localhost:8080/",
          "height": 390
        },
        "id": "00SQGUj9w7Fb",
        "outputId": "64d731a6-d806-4c96-f979-93a2a3dfb02b"
      },
      "execution_count": 25,
      "outputs": [
        {
          "output_type": "display_data",
          "data": {
            "text/plain": [
              "<Figure size 576x396 with 1 Axes>"
            ],
            "image/png": "[encoded data removed]"
          },
          "metadata": {}
        }
      ]
    },
    {
      "cell_type": "markdown",
      "source": [
        "> Hay una tendencia incremental del promedio del precio de los autos. Mientras más nuevo sea el carro mantiene un mayor precio que el resto "
      ],
      "metadata": {
        "id": "x7LdUEciy_4h"
      }
    },
    {
      "cell_type": "markdown",
      "source": [
        "Revisión de Outliers"
      ],
      "metadata": {
        "id": "7_vRc-D2vcgq"
      }
    },
    {
      "cell_type": "code",
      "source": [
        "malignant = df.loc[df['transmission']=='Manual','car_prices_in_rupee']\n",
        "benign = df.loc[df['transmission']=='Automatic','car_prices_in_rupee']\n",
        "fig, axes = plt.subplots(nrows = 1, ncols = 1, figsize = (18,15))\n",
        "boxplots = axes.boxplot([malignant,benign],\n",
        "           notch = True,\n",
        "           labels=['Manual', 'Automatic'],\n",
        "           widths = .7, \n",
        "           patch_artist=True, \n",
        "           medianprops = dict(linestyle='-',\n",
        "                              linewidth=2, \n",
        "                              color='Yellow'),\n",
        "           boxprops = dict(linestyle='--', linewidth=2, color='blue', facecolor = 'black', alpha = .4)\n",
        "          );\n",
        "# The more you understand any library, the more you can do\n",
        "boxplot1 = boxplots['boxes'][0]\n",
        "boxplot1.set_facecolor('red')\n",
        "plt.xlabel('Transmission', fontsize = 20)\n",
        "plt.ylabel('Precio', fontsize = 20)\n",
        "plt.xticks(fontsize = 16)\n",
        "plt.yticks(fontsize = 16)\n",
        "plt.show()"
      ],
      "metadata": {
        "colab": {
          "base_uri": "https://localhost:8080/",
          "height": 959
        },
        "id": "hX6Z874mbCQU",
        "outputId": "ee6204d0-b8f1-4e32-e2ef-a7b7c4605ed6"
      },
      "execution_count": 26,
      "outputs": [
        {
          "output_type": "stream",
          "name": "stderr",
          "text": [
            "/usr/local/lib/python3.8/dist-packages/matplotlib/cbook/__init__.py:1376: VisibleDeprecationWarning: Creating an ndarray from ragged nested sequences (which is a list-or-tuple of lists-or-tuples-or ndarrays with different lengths or shapes) is deprecated. If you meant to do this, you must specify 'dtype=object' when creating the ndarray.\n",
            "  X = np.atleast_1d(X.T if isinstance(X, np.ndarray) else np.asarray(X))\n"
          ]
        },
        {
          "output_type": "display_data",
          "data": {
            "text/plain": [
              "<Figure size 1296x1080 with 1 Axes>"
            ],
            "image/png": "[encoded data removed]"
          },
          "metadata": {}
        }
      ]
    },
    {
      "cell_type": "markdown",
      "source": [
        "> De acuerdo con la gráfica, tenemos varios precios por encima de la gráfica como datos átipicos, es decir, que son precios muy elevados frente a la mayoría de datos"
      ],
      "metadata": {
        "id": "k73kMqe3we_p"
      }
    },
    {
      "cell_type": "markdown",
      "source": [
        "# **Preprocesamiento de Data**"
      ],
      "metadata": {
        "id": "EzxSaeTF39wd"
      }
    },
    {
      "cell_type": "code",
      "source": [
        "# Manejo de variables categóricas\n",
        "df_clean = pd.get_dummies(df,drop_first=True)\n",
        "df_clean.head()"
      ],
      "metadata": {
        "colab": {
          "base_uri": "https://localhost:8080/",
          "height": 351
        },
        "id": "g2sS8w4q4BHT",
        "outputId": "72f46ea6-cefd-45c2-abee-b0927fe994af"
      },
      "execution_count": 31,
      "outputs": [
        {
          "output_type": "execute_result",
          "data": {
            "text/plain": [
              "   car_prices_in_rupee  kms_driven  ownership  manufacture  engine  Seats  \\\n",
              "0            1003000.0       86226          1         2017    1956      5   \n",
              "1            1283000.0       13248          1         2021    1330      5   \n",
              "2            1640000.0       60343          1         2016    2494      5   \n",
              "3             777000.0       26696          1         2018    1199      5   \n",
              "4             515000.0       69414          1         2016    1199      5   \n",
              "\n",
              "   car_name_Audi A3 35 TDI Premium Plus  car_name_Audi A4 1.8 TFSI  \\\n",
              "0                                     0                          0   \n",
              "1                                     0                          0   \n",
              "2                                     0                          0   \n",
              "3                                     0                          0   \n",
              "4                                     0                          0   \n",
              "\n",
              "   car_name_Audi A4 2.0 TDI  car_name_Audi A4 2.0 TDI Multitronic  ...  \\\n",
              "0                         0                                     0  ...   \n",
              "1                         0                                     0  ...   \n",
              "2                         0                                     0  ...   \n",
              "3                         0                                     0  ...   \n",
              "4                         0                                     0  ...   \n",
              "\n",
              "   car_name_Volvo XC60 D4 Summum  car_name_Volvo XC60 D5 Inscription  \\\n",
              "0                              0                                   0   \n",
              "1                              0                                   0   \n",
              "2                              0                                   0   \n",
              "3                              0                                   0   \n",
              "4                              0                                   0   \n",
              "\n",
              "   car_name_Volvo XC60 D5 Summum  car_name_Volvo XC60 Inscription D5  \\\n",
              "0                              0                                   0   \n",
              "1                              0                                   0   \n",
              "2                              0                                   0   \n",
              "3                              0                                   0   \n",
              "4                              0                                   0   \n",
              "\n",
              "   car_name_Volvo XC60 Inscription D5 BSIV  fuel_type_Diesel  \\\n",
              "0                                        0                 1   \n",
              "1                                        0                 0   \n",
              "2                                        0                 0   \n",
              "3                                        0                 0   \n",
              "4                                        0                 0   \n",
              "\n",
              "   fuel_type_Electric  fuel_type_Lpg  fuel_type_Petrol  transmission_Manual  \n",
              "0                   0              0                 0                    1  \n",
              "1                   0              0                 1                    0  \n",
              "2                   0              0                 1                    0  \n",
              "3                   0              0                 1                    0  \n",
              "4                   0              0                 1                    1  \n",
              "\n",
              "[5 rows x 1906 columns]"
            ],
            "text/html": [
              "\n",
              "  <div id=\"df-24b5e832-a983-4a60-8b9d-4002a05d7531\">\n",
              "    <div class=\"colab-df-container\">\n",
              "      <div>\n",
              "<style scoped>\n",
              "    .dataframe tbody tr th:only-of-type {\n",
              "        vertical-align: middle;\n",
              "    }\n",
              "\n",
              "    .dataframe tbody tr th {\n",
              "        vertical-align: top;\n",
              "    }\n",
              "\n",
              "    .dataframe thead th {\n",
              "        text-align: right;\n",
              "    }\n",
              "</style>\n",
              "<table border=\"1\" class=\"dataframe\">\n",
              "  <thead>\n",
              "    <tr style=\"text-align: right;\">\n",
              "      <th></th>\n",
              "      <th>car_prices_in_rupee</th>\n",
              "      <th>kms_driven</th>\n",
              "      <th>ownership</th>\n",
              "      <th>manufacture</th>\n",
              "      <th>engine</th>\n",
              "      <th>Seats</th>\n",
              "      <th>car_name_Audi A3 35 TDI Premium Plus</th>\n",
              "      <th>car_name_Audi A4 1.8 TFSI</th>\n",
              "      <th>car_name_Audi A4 2.0 TDI</th>\n",
              "      <th>car_name_Audi A4 2.0 TDI Multitronic</th>\n",
              "      <th>...</th>\n",
              "      <th>car_name_Volvo XC60 D4 Summum</th>\n",
              "      <th>car_name_Volvo XC60 D5 Inscription</th>\n",
              "      <th>car_name_Volvo XC60 D5 Summum</th>\n",
              "      <th>car_name_Volvo XC60 Inscription D5</th>\n",
              "      <th>car_name_Volvo XC60 Inscription D5 BSIV</th>\n",
              "      <th>fuel_type_Diesel</th>\n",
              "      <th>fuel_type_Electric</th>\n",
              "      <th>fuel_type_Lpg</th>\n",
              "      <th>fuel_type_Petrol</th>\n",
              "      <th>transmission_Manual</th>\n",
              "    </tr>\n",
              "  </thead>\n",
              "  <tbody>\n",
              "    <tr>\n",
              "      <th>0</th>\n",
              "      <td>1003000.0</td>\n",
              "      <td>86226</td>\n",
              "      <td>1</td>\n",
              "      <td>2017</td>\n",
              "      <td>1956</td>\n",
              "      <td>5</td>\n",
              "      <td>0</td>\n",
              "      <td>0</td>\n",
              "      <td>0</td>\n",
              "      <td>0</td>\n",
              "      <td>...</td>\n",
              "      <td>0</td>\n",
              "      <td>0</td>\n",
              "      <td>0</td>\n",
              "      <td>0</td>\n",
              "      <td>0</td>\n",
              "      <td>1</td>\n",
              "      <td>0</td>\n",
              "      <td>0</td>\n",
              "      <td>0</td>\n",
              "      <td>1</td>\n",
              "    </tr>\n",
              "    <tr>\n",
              "      <th>1</th>\n",
              "      <td>1283000.0</td>\n",
              "      <td>13248</td>\n",
              "      <td>1</td>\n",
              "      <td>2021</td>\n",
              "      <td>1330</td>\n",
              "      <td>5</td>\n",
              "      <td>0</td>\n",
              "      <td>0</td>\n",
              "      <td>0</td>\n",
              "      <td>0</td>\n",
              "      <td>...</td>\n",
              "      <td>0</td>\n",
              "      <td>0</td>\n",
              "      <td>0</td>\n",
              "      <td>0</td>\n",
              "      <td>0</td>\n",
              "      <td>0</td>\n",
              "      <td>0</td>\n",
              "      <td>0</td>\n",
              "      <td>1</td>\n",
              "      <td>0</td>\n",
              "    </tr>\n",
              "    <tr>\n",
              "      <th>2</th>\n",
              "      <td>1640000.0</td>\n",
              "      <td>60343</td>\n",
              "      <td>1</td>\n",
              "      <td>2016</td>\n",
              "      <td>2494</td>\n",
              "      <td>5</td>\n",
              "      <td>0</td>\n",
              "      <td>0</td>\n",
              "      <td>0</td>\n",
              "      <td>0</td>\n",
              "      <td>...</td>\n",
              "      <td>0</td>\n",
              "      <td>0</td>\n",
              "      <td>0</td>\n",
              "      <td>0</td>\n",
              "      <td>0</td>\n",
              "      <td>0</td>\n",
              "      <td>0</td>\n",
              "      <td>0</td>\n",
              "      <td>1</td>\n",
              "      <td>0</td>\n",
              "    </tr>\n",
              "    <tr>\n",
              "      <th>3</th>\n",
              "      <td>777000.0</td>\n",
              "      <td>26696</td>\n",
              "      <td>1</td>\n",
              "      <td>2018</td>\n",
              "      <td>1199</td>\n",
              "      <td>5</td>\n",
              "      <td>0</td>\n",
              "      <td>0</td>\n",
              "      <td>0</td>\n",
              "      <td>0</td>\n",
              "      <td>...</td>\n",
              "      <td>0</td>\n",
              "      <td>0</td>\n",
              "      <td>0</td>\n",
              "      <td>0</td>\n",
              "      <td>0</td>\n",
              "      <td>0</td>\n",
              "      <td>0</td>\n",
              "      <td>0</td>\n",
              "      <td>1</td>\n",
              "      <td>0</td>\n",
              "    </tr>\n",
              "    <tr>\n",
              "      <th>4</th>\n",
              "      <td>515000.0</td>\n",
              "      <td>69414</td>\n",
              "      <td>1</td>\n",
              "      <td>2016</td>\n",
              "      <td>1199</td>\n",
              "      <td>5</td>\n",
              "      <td>0</td>\n",
              "      <td>0</td>\n",
              "      <td>0</td>\n",
              "      <td>0</td>\n",
              "      <td>...</td>\n",
              "      <td>0</td>\n",
              "      <td>0</td>\n",
              "      <td>0</td>\n",
              "      <td>0</td>\n",
              "      <td>0</td>\n",
              "      <td>0</td>\n",
              "      <td>0</td>\n",
              "      <td>0</td>\n",
              "      <td>1</td>\n",
              "      <td>1</td>\n",
              "    </tr>\n",
              "  </tbody>\n",
              "</table>\n",
              "<p>5 rows × 1906 columns</p>\n",
              "</div>\n",
              "      <button class=\"colab-df-convert\" onclick=\"convertToInteractive('df-24b5e832-a983-4a60-8b9d-4002a05d7531')\"\n",
              "              title=\"Convert this dataframe to an interactive table.\"\n",
              "              style=\"display:none;\">\n",
              "        \n",
              "  <svg xmlns=\"http://www.w3.org/2000/svg\" height=\"24px\"viewBox=\"0 0 24 24\"\n",
              "       width=\"24px\">\n",
              "    <path d=\"M0 0h24v24H0V0z\" fill=\"none\"/>\n",
              "    <path d=\"M18.56 5.44l.94 2.06.94-2.06 2.06-.94-2.06-.94-.94-2.06-.94 2.06-2.06.94zm-11 1L8.5 8.5l.94-2.06 2.06-.94-2.06-.94L8.5 2.5l-.94 2.06-2.06.94zm10 10l.94 2.06.94-2.06 2.06-.94-2.06-.94-.94-2.06-.94 2.06-2.06.94z\"/><path d=\"M17.41 7.96l-1.37-1.37c-.4-.4-.92-.59-1.43-.59-.52 0-1.04.2-1.43.59L10.3 9.45l-7.72 7.72c-.78.78-.78 2.05 0 2.83L4 21.41c.39.39.9.59 1.41.59.51 0 1.02-.2 1.41-.59l7.78-7.78 2.81-2.81c.8-.78.8-2.07 0-2.86zM5.41 20L4 18.59l7.72-7.72 1.47 1.35L5.41 20z\"/>\n",
              "  </svg>\n",
              "      </button>\n",
              "      \n",
              "  <style>\n",
              "    .colab-df-container {\n",
              "      display:flex;\n",
              "      flex-wrap:wrap;\n",
              "      gap: 12px;\n",
              "    }\n",
              "\n",
              "    .colab-df-convert {\n",
              "      background-color: #E8F0FE;\n",
              "      border: none;\n",
              "      border-radius: 50%;\n",
              "      cursor: pointer;\n",
              "      display: none;\n",
              "      fill: #1967D2;\n",
              "      height: 32px;\n",
              "      padding: 0 0 0 0;\n",
              "      width: 32px;\n",
              "    }\n",
              "\n",
              "    .colab-df-convert:hover {\n",
              "      background-color: #E2EBFA;\n",
              "      box-shadow: 0px 1px 2px rgba(60, 64, 67, 0.3), 0px 1px 3px 1px rgba(60, 64, 67, 0.15);\n",
              "      fill: #174EA6;\n",
              "    }\n",
              "\n",
              "    [theme=dark] .colab-df-convert {\n",
              "      background-color: #3B4455;\n",
              "      fill: #D2E3FC;\n",
              "    }\n",
              "\n",
              "    [theme=dark] .colab-df-convert:hover {\n",
              "      background-color: #434B5C;\n",
              "      box-shadow: 0px 1px 3px 1px rgba(0, 0, 0, 0.15);\n",
              "      filter: drop-shadow(0px 1px 2px rgba(0, 0, 0, 0.3));\n",
              "      fill: #FFFFFF;\n",
              "    }\n",
              "  </style>\n",
              "\n",
              "      <script>\n",
              "        const buttonEl =\n",
              "          document.querySelector('#df-24b5e832-a983-4a60-8b9d-4002a05d7531 button.colab-df-convert');\n",
              "        buttonEl.style.display =\n",
              "          google.colab.kernel.accessAllowed ? 'block' : 'none';\n",
              "\n",
              "        async function convertToInteractive(key) {\n",
              "          const element = document.querySelector('#df-24b5e832-a983-4a60-8b9d-4002a05d7531');\n",
              "          const dataTable =\n",
              "            await google.colab.kernel.invokeFunction('convertToInteractive',\n",
              "                                                     [key], {});\n",
              "          if (!dataTable) return;\n",
              "\n",
              "          const docLinkHtml = 'Like what you see? Visit the ' +\n",
              "            '<a target=\"_blank\" href=https://colab.research.google.com/notebooks/data_table.ipynb>data table notebook</a>'\n",
              "            + ' to learn more about interactive tables.';\n",
              "          element.innerHTML = '';\n",
              "          dataTable['output_type'] = 'display_data';\n",
              "          await google.colab.output.renderOutput(dataTable, element);\n",
              "          const docLink = document.createElement('div');\n",
              "          docLink.innerHTML = docLinkHtml;\n",
              "          element.appendChild(docLink);\n",
              "        }\n",
              "      </script>\n",
              "    </div>\n",
              "  </div>\n",
              "  "
            ]
          },
          "metadata": {},
          "execution_count": 31
        }
      ]
    },
    {
      "cell_type": "markdown",
      "source": [
        "# **Modelamiento de datos**"
      ],
      "metadata": {
        "id": "Do0l2XSP0EiS"
      }
    },
    {
      "cell_type": "markdown",
      "source": [
        "Para evaluar el redimiento del modelos se va a incluir en un dataframe denominado 'frame' con todos los resultados para un mejor análisis. "
      ],
      "metadata": {
        "id": "6dSVnuib5zTU"
      }
    },
    {
      "cell_type": "code",
      "source": [
        "# Dataframe de comparación de las métricas de todos los modelos\n",
        "frames = []"
      ],
      "metadata": {
        "id": "5J4DwH4s5zJ1"
      },
      "execution_count": 77,
      "outputs": []
    },
    {
      "cell_type": "code",
      "source": [
        "df_clean.info()"
      ],
      "metadata": {
        "id": "BmvK8OBpbCMj",
        "colab": {
          "base_uri": "https://localhost:8080/"
        },
        "outputId": "5035468b-54fe-44a3-9c97-941df92a1b97"
      },
      "execution_count": 33,
      "outputs": [
        {
          "output_type": "stream",
          "name": "stdout",
          "text": [
            "<class 'pandas.core.frame.DataFrame'>\n",
            "Int64Index: 5436 entries, 0 to 5511\n",
            "Columns: 1906 entries, car_prices_in_rupee to transmission_Manual\n",
            "dtypes: float64(1), int64(5), uint8(1900)\n",
            "memory usage: 10.1 MB\n"
          ]
        }
      ]
    },
    {
      "cell_type": "markdown",
      "source": [
        "## Regresión Lineal"
      ],
      "metadata": {
        "id": "rLv3v23V13zg"
      }
    },
    {
      "cell_type": "markdown",
      "source": [
        "### Modelamos"
      ],
      "metadata": {
        "id": "i0dmxw9W7NLt"
      }
    },
    {
      "cell_type": "code",
      "source": [
        "# Asignar el objetivo (y) y las características (X)\n",
        "y = df_clean['car_prices_in_rupee']\n",
        "X =df_clean.drop(columns = 'car_prices_in_rupee')\n",
        "\n",
        "# Realizar un train test split a los datos\n",
        "X_train, X_test, y_train, y_test = train_test_split(X, y, test_size=0.3, random_state = 42)\n",
        "\n",
        "# Instanciar el modelo\n",
        "reglineal = LinearRegression()\n",
        "\n",
        "# Entrenar el modelo con los datos de entrenamiento\n",
        "reglineal.fit(X_train,y_train)"
      ],
      "metadata": {
        "id": "DrhkxNqR12wo"
      },
      "execution_count": 34,
      "outputs": []
    },
    {
      "cell_type": "markdown",
      "source": [
        "### Predicción del modelo"
      ],
      "metadata": {
        "id": "UA0jKqvV6fOW"
      }
    },
    {
      "cell_type": "code",
      "source": [
        "# Obtengan las predicciones del conjunto de entrenamiento\n",
        "reglineal_train_preds = reglineal.predict(X_train)\n",
        "\n",
        "# Obtengan las predicciones del conjunto de prueba\n",
        "reglineal_test_preds = reglineal.predict(X_test)"
      ],
      "metadata": {
        "id": "Ghi4xbWO6lEI"
      },
      "execution_count": 45,
      "outputs": []
    },
    {
      "cell_type": "markdown",
      "source": [
        "### Rendimiento del modelo"
      ],
      "metadata": {
        "id": "sCq-h8Nc6L56"
      }
    },
    {
      "cell_type": "markdown",
      "source": [
        "La métrica por defecto para evaluar el modelo de regresión es R^2, el coeficiente de determinación."
      ],
      "metadata": {
        "id": "T9hUxTFO9Wt8"
      }
    },
    {
      "cell_type": "code",
      "source": [
        "print('Model LinearRegression')\n",
        "\n",
        "# Coeficiente de determinación (R^2)\n",
        "reglineal_r2_train = r2_score(y_train, reglineal_train_preds)\n",
        "reglineal_r2_test = r2_score(y_test, reglineal_test_preds)\n",
        "print('Train R^2:', reglineal_r2_train)\n",
        "print('Test R^2:', reglineal_r2_test)"
      ],
      "metadata": {
        "colab": {
          "base_uri": "https://localhost:8080/"
        },
        "id": "EFgwNJXh5RhE",
        "outputId": "d94a6ccd-b02b-432d-9355-60cc29387cdf"
      },
      "execution_count": 56,
      "outputs": [
        {
          "output_type": "stream",
          "name": "stdout",
          "text": [
            "Model LinearRegression\n",
            "Train R^2: 0.9864932207636903\n",
            "Test R^2: 0.9251928963104905\n"
          ]
        }
      ]
    },
    {
      "cell_type": "code",
      "source": [
        "# Colocamos los resultados del modelo LinearRegression en un df \n",
        "df_metricas_reglineal = pd.DataFrame({\n",
        "                        'r2 train'  : [reglineal_r2_train],\n",
        "                        'r2 test'    : [reglineal_r2_test],\n",
        "                        'model'     : ['LinearRegression']\n",
        "                     })\n",
        "\n",
        "# Agregar el df del modelo al frame de comparación\n",
        "frames.append(df_metricas_reglineal)\n",
        "\n",
        "# Revisar el Dataframe de comparación\n",
        "pd.concat(frames)"
      ],
      "metadata": {
        "colab": {
          "base_uri": "https://localhost:8080/",
          "height": 81
        },
        "id": "jxRHsLdX8w3r",
        "outputId": "b21490af-616b-41cd-80a9-074003089edc"
      },
      "execution_count": 78,
      "outputs": [
        {
          "output_type": "execute_result",
          "data": {
            "text/plain": [
              "   r2 train   r2 test             model\n",
              "0  0.986493  0.925193  LinearRegression"
            ],
            "text/html": [
              "\n",
              "  <div id=\"df-2a1e6e18-39db-4e23-9e48-4850644e0586\">\n",
              "    <div class=\"colab-df-container\">\n",
              "      <div>\n",
              "<style scoped>\n",
              "    .dataframe tbody tr th:only-of-type {\n",
              "        vertical-align: middle;\n",
              "    }\n",
              "\n",
              "    .dataframe tbody tr th {\n",
              "        vertical-align: top;\n",
              "    }\n",
              "\n",
              "    .dataframe thead th {\n",
              "        text-align: right;\n",
              "    }\n",
              "</style>\n",
              "<table border=\"1\" class=\"dataframe\">\n",
              "  <thead>\n",
              "    <tr style=\"text-align: right;\">\n",
              "      <th></th>\n",
              "      <th>r2 train</th>\n",
              "      <th>r2 test</th>\n",
              "      <th>model</th>\n",
              "    </tr>\n",
              "  </thead>\n",
              "  <tbody>\n",
              "    <tr>\n",
              "      <th>0</th>\n",
              "      <td>0.986493</td>\n",
              "      <td>0.925193</td>\n",
              "      <td>LinearRegression</td>\n",
              "    </tr>\n",
              "  </tbody>\n",
              "</table>\n",
              "</div>\n",
              "      <button class=\"colab-df-convert\" onclick=\"convertToInteractive('df-2a1e6e18-39db-4e23-9e48-4850644e0586')\"\n",
              "              title=\"Convert this dataframe to an interactive table.\"\n",
              "              style=\"display:none;\">\n",
              "        \n",
              "  <svg xmlns=\"http://www.w3.org/2000/svg\" height=\"24px\"viewBox=\"0 0 24 24\"\n",
              "       width=\"24px\">\n",
              "    <path d=\"M0 0h24v24H0V0z\" fill=\"none\"/>\n",
              "    <path d=\"M18.56 5.44l.94 2.06.94-2.06 2.06-.94-2.06-.94-.94-2.06-.94 2.06-2.06.94zm-11 1L8.5 8.5l.94-2.06 2.06-.94-2.06-.94L8.5 2.5l-.94 2.06-2.06.94zm10 10l.94 2.06.94-2.06 2.06-.94-2.06-.94-.94-2.06-.94 2.06-2.06.94z\"/><path d=\"M17.41 7.96l-1.37-1.37c-.4-.4-.92-.59-1.43-.59-.52 0-1.04.2-1.43.59L10.3 9.45l-7.72 7.72c-.78.78-.78 2.05 0 2.83L4 21.41c.39.39.9.59 1.41.59.51 0 1.02-.2 1.41-.59l7.78-7.78 2.81-2.81c.8-.78.8-2.07 0-2.86zM5.41 20L4 18.59l7.72-7.72 1.47 1.35L5.41 20z\"/>\n",
              "  </svg>\n",
              "      </button>\n",
              "      \n",
              "  <style>\n",
              "    .colab-df-container {\n",
              "      display:flex;\n",
              "      flex-wrap:wrap;\n",
              "      gap: 12px;\n",
              "    }\n",
              "\n",
              "    .colab-df-convert {\n",
              "      background-color: #E8F0FE;\n",
              "      border: none;\n",
              "      border-radius: 50%;\n",
              "      cursor: pointer;\n",
              "      display: none;\n",
              "      fill: #1967D2;\n",
              "      height: 32px;\n",
              "      padding: 0 0 0 0;\n",
              "      width: 32px;\n",
              "    }\n",
              "\n",
              "    .colab-df-convert:hover {\n",
              "      background-color: #E2EBFA;\n",
              "      box-shadow: 0px 1px 2px rgba(60, 64, 67, 0.3), 0px 1px 3px 1px rgba(60, 64, 67, 0.15);\n",
              "      fill: #174EA6;\n",
              "    }\n",
              "\n",
              "    [theme=dark] .colab-df-convert {\n",
              "      background-color: #3B4455;\n",
              "      fill: #D2E3FC;\n",
              "    }\n",
              "\n",
              "    [theme=dark] .colab-df-convert:hover {\n",
              "      background-color: #434B5C;\n",
              "      box-shadow: 0px 1px 3px 1px rgba(0, 0, 0, 0.15);\n",
              "      filter: drop-shadow(0px 1px 2px rgba(0, 0, 0, 0.3));\n",
              "      fill: #FFFFFF;\n",
              "    }\n",
              "  </style>\n",
              "\n",
              "      <script>\n",
              "        const buttonEl =\n",
              "          document.querySelector('#df-2a1e6e18-39db-4e23-9e48-4850644e0586 button.colab-df-convert');\n",
              "        buttonEl.style.display =\n",
              "          google.colab.kernel.accessAllowed ? 'block' : 'none';\n",
              "\n",
              "        async function convertToInteractive(key) {\n",
              "          const element = document.querySelector('#df-2a1e6e18-39db-4e23-9e48-4850644e0586');\n",
              "          const dataTable =\n",
              "            await google.colab.kernel.invokeFunction('convertToInteractive',\n",
              "                                                     [key], {});\n",
              "          if (!dataTable) return;\n",
              "\n",
              "          const docLinkHtml = 'Like what you see? Visit the ' +\n",
              "            '<a target=\"_blank\" href=https://colab.research.google.com/notebooks/data_table.ipynb>data table notebook</a>'\n",
              "            + ' to learn more about interactive tables.';\n",
              "          element.innerHTML = '';\n",
              "          dataTable['output_type'] = 'display_data';\n",
              "          await google.colab.output.renderOutput(dataTable, element);\n",
              "          const docLink = document.createElement('div');\n",
              "          docLink.innerHTML = docLinkHtml;\n",
              "          element.appendChild(docLink);\n",
              "        }\n",
              "      </script>\n",
              "    </div>\n",
              "  </div>\n",
              "  "
            ]
          },
          "metadata": {},
          "execution_count": 78
        }
      ]
    },
    {
      "cell_type": "markdown",
      "source": [
        "## Árbol de decisión"
      ],
      "metadata": {
        "id": "9_pSLLkX-Qt6"
      }
    },
    {
      "cell_type": "markdown",
      "source": [
        "### Modelamos"
      ],
      "metadata": {
        "id": "WLoJP84g-VR0"
      }
    },
    {
      "cell_type": "code",
      "source": [
        "# Asignar el objetivo (y) y las características (X)\n",
        "y = df_clean['car_prices_in_rupee']\n",
        "X =df_clean.drop(columns = 'car_prices_in_rupee')\n",
        "\n",
        "# Realizar un train test split a los datos\n",
        "X_train, X_test, y_train, y_test = train_test_split(X, y, test_size=0.3, random_state = 42)\n",
        "\n",
        "# Instanciar el modelo\n",
        "dec_tree = DecisionTreeRegressor(random_state = 42)\n",
        "\n",
        "# Entrenar el modelo con los datos de entrenamiento\n",
        "dec_tree.fit(X_train, y_train)"
      ],
      "metadata": {
        "colab": {
          "base_uri": "https://localhost:8080/"
        },
        "id": "_JWc5wBI-OqE",
        "outputId": "996f3589-bfbb-40ee-81d7-1e390532cacb"
      },
      "execution_count": 52,
      "outputs": [
        {
          "output_type": "execute_result",
          "data": {
            "text/plain": [
              "DecisionTreeRegressor(random_state=42)"
            ]
          },
          "metadata": {},
          "execution_count": 52
        }
      ]
    },
    {
      "cell_type": "markdown",
      "source": [
        "### Predicción del modelo"
      ],
      "metadata": {
        "id": "-Rm6-TKa-iRB"
      }
    },
    {
      "cell_type": "code",
      "source": [
        "# Obtengan las predicciones del conjunto de entrenamiento\n",
        "tree_train_preds = dec_tree.predict(X_train)\n",
        "\n",
        "# Obtengan las predicciones del conjunto de prueba\n",
        "tree_test_preds = dec_tree.predict(X_test)"
      ],
      "metadata": {
        "id": "mSteJbKX-h2S"
      },
      "execution_count": 53,
      "outputs": []
    },
    {
      "cell_type": "markdown",
      "source": [
        "### Rendimiento del modelo"
      ],
      "metadata": {
        "id": "mLDeeW2b-wiP"
      }
    },
    {
      "cell_type": "code",
      "source": [
        "print('Model DecisionTreeRegressor')\n",
        "\n",
        "# Coeficiente de determinación (R^2)\n",
        "dec_tree_r2_train = r2_score(y_train, tree_train_preds)\n",
        "dec_tree_r2_test = r2_score(y_test, tree_test_preds)\n",
        "print('Train R^2:', dec_tree_r2_train)\n",
        "print('Test R^2:', dec_tree_r2_test)"
      ],
      "metadata": {
        "colab": {
          "base_uri": "https://localhost:8080/"
        },
        "id": "9_MLgjq3-tUk",
        "outputId": "819cd9af-e41a-4136-f019-9209a82c1334"
      },
      "execution_count": 55,
      "outputs": [
        {
          "output_type": "stream",
          "name": "stdout",
          "text": [
            "Model DecisionTreeRegressor\n",
            "Train R^2: 0.9999999819720891\n",
            "Test R^2: 0.7385080993293014\n"
          ]
        }
      ]
    },
    {
      "cell_type": "markdown",
      "source": [
        "### Ajustar el modelo"
      ],
      "metadata": {
        "id": "-LCm6ywQ_Ilm"
      }
    },
    {
      "cell_type": "code",
      "source": [
        "# ¿Cuál era la profundidad de nuestro árbol por defecto?\n",
        "dec_tree.get_depth()"
      ],
      "metadata": {
        "colab": {
          "base_uri": "https://localhost:8080/"
        },
        "id": "hcbdaj-8-6cy",
        "outputId": "fe23b6cf-d19c-49d8-a445-4d4bca18b2ef"
      },
      "execution_count": 57,
      "outputs": [
        {
          "output_type": "execute_result",
          "data": {
            "text/plain": [
              "93"
            ]
          },
          "metadata": {},
          "execution_count": 57
        }
      ]
    },
    {
      "cell_type": "code",
      "source": [
        "# Lista de valores a probar para max_depth:\n",
        "max_depth_range = list(range(2, 93))\n",
        "\n",
        "# Lista para almacenar la puntuación para cada valor de max_depth:\n",
        "r2 = []\n",
        "for depth in max_depth_range:\n",
        "    dec_tree = DecisionTreeRegressor(max_depth = depth, \n",
        "                             random_state = 42)\n",
        "    dec_tree.fit(X_train, y_train)\n",
        "    score = dec_tree.score(X_test, y_test)\n",
        "    r2.append(score)\n",
        "\n",
        "# Visualizamos qué max_depth lleva a una puntuación R2 más alta\n",
        "import matplotlib.pyplot as plt\n",
        "plt.plot(max_depth_range, r2)\n",
        "plt.xlabel('max_depth')\n",
        "plt.ylabel('R2');"
      ],
      "metadata": {
        "colab": {
          "base_uri": "https://localhost:8080/",
          "height": 364
        },
        "id": "qKp7RcFf_Nqe",
        "outputId": "174c8223-f8a2-487c-82a3-b369e8469287"
      },
      "execution_count": 59,
      "outputs": [
        {
          "output_type": "display_data",
          "data": {
            "text/plain": [
              "<Figure size 576x396 with 1 Axes>"
            ],
            "image/png": "[encoded data removed]"
          },
          "metadata": {}
        }
      ]
    },
    {
      "cell_type": "code",
      "source": [
        "# Ejecutemos el modelo con nuestro valor optimizado para max_depth\n",
        "dec_tree_39 = DecisionTreeRegressor(max_depth = 39, random_state = 42)\n",
        "dec_tree_39.fit(X_train, y_train)\n",
        "\n",
        "# Predicciones\n",
        "tree_train_preds_39 = dec_tree_39.predict(X_train)\n",
        "tree_test_preds_39 = dec_tree_39.predict(X_test)\n",
        "\n",
        "tree_r2_train_39 = r2_score(y_train, tree_train_preds_39)\n",
        "tree_r2_test_39 = r2_score(y_test, tree_test_preds_39)\n",
        "print(tree_r2_train_39)\n",
        "print(tree_r2_test_39)"
      ],
      "metadata": {
        "colab": {
          "base_uri": "https://localhost:8080/"
        },
        "id": "rsVeyuJzANas",
        "outputId": "2da1e54a-490c-4b1e-b1c4-2e8eb08912ce"
      },
      "execution_count": 67,
      "outputs": [
        {
          "output_type": "stream",
          "name": "stdout",
          "text": [
            "0.997273241237812\n",
            "0.7784781472986684\n"
          ]
        }
      ]
    },
    {
      "cell_type": "code",
      "source": [
        "# Colocamos los resultados del modelo DecisionTreeRegressor en un df \n",
        "df_metricas_dectree =   pd.DataFrame({\n",
        "                        'r2 train'  : [tree_r2_train_39],\n",
        "                        'r2 test'    : [tree_r2_test_39],\n",
        "                        'model'     : ['DecisionTreeRegressor']\n",
        "                     })\n",
        "\n",
        "# Agregar el df del modelo al frame de comparación\n",
        "frames.append(df_metricas_dectree)\n",
        "\n",
        "# Revisar el Dataframe de comparación\n",
        "pd.concat(frames)"
      ],
      "metadata": {
        "colab": {
          "base_uri": "https://localhost:8080/",
          "height": 112
        },
        "id": "nEM9yGNfApRh",
        "outputId": "282455db-db22-4edd-e337-4d237af55ce1"
      },
      "execution_count": 79,
      "outputs": [
        {
          "output_type": "execute_result",
          "data": {
            "text/plain": [
              "   r2 train   r2 test                  model\n",
              "0  0.986493  0.925193       LinearRegression\n",
              "0  0.997273  0.778478  DecisionTreeRegressor"
            ],
            "text/html": [
              "\n",
              "  <div id=\"df-6e30db8d-1926-4aa4-96d5-7248ad350a1c\">\n",
              "    <div class=\"colab-df-container\">\n",
              "      <div>\n",
              "<style scoped>\n",
              "    .dataframe tbody tr th:only-of-type {\n",
              "        vertical-align: middle;\n",
              "    }\n",
              "\n",
              "    .dataframe tbody tr th {\n",
              "        vertical-align: top;\n",
              "    }\n",
              "\n",
              "    .dataframe thead th {\n",
              "        text-align: right;\n",
              "    }\n",
              "</style>\n",
              "<table border=\"1\" class=\"dataframe\">\n",
              "  <thead>\n",
              "    <tr style=\"text-align: right;\">\n",
              "      <th></th>\n",
              "      <th>r2 train</th>\n",
              "      <th>r2 test</th>\n",
              "      <th>model</th>\n",
              "    </tr>\n",
              "  </thead>\n",
              "  <tbody>\n",
              "    <tr>\n",
              "      <th>0</th>\n",
              "      <td>0.986493</td>\n",
              "      <td>0.925193</td>\n",
              "      <td>LinearRegression</td>\n",
              "    </tr>\n",
              "    <tr>\n",
              "      <th>0</th>\n",
              "      <td>0.997273</td>\n",
              "      <td>0.778478</td>\n",
              "      <td>DecisionTreeRegressor</td>\n",
              "    </tr>\n",
              "  </tbody>\n",
              "</table>\n",
              "</div>\n",
              "      <button class=\"colab-df-convert\" onclick=\"convertToInteractive('df-6e30db8d-1926-4aa4-96d5-7248ad350a1c')\"\n",
              "              title=\"Convert this dataframe to an interactive table.\"\n",
              "              style=\"display:none;\">\n",
              "        \n",
              "  <svg xmlns=\"http://www.w3.org/2000/svg\" height=\"24px\"viewBox=\"0 0 24 24\"\n",
              "       width=\"24px\">\n",
              "    <path d=\"M0 0h24v24H0V0z\" fill=\"none\"/>\n",
              "    <path d=\"M18.56 5.44l.94 2.06.94-2.06 2.06-.94-2.06-.94-.94-2.06-.94 2.06-2.06.94zm-11 1L8.5 8.5l.94-2.06 2.06-.94-2.06-.94L8.5 2.5l-.94 2.06-2.06.94zm10 10l.94 2.06.94-2.06 2.06-.94-2.06-.94-.94-2.06-.94 2.06-2.06.94z\"/><path d=\"M17.41 7.96l-1.37-1.37c-.4-.4-.92-.59-1.43-.59-.52 0-1.04.2-1.43.59L10.3 9.45l-7.72 7.72c-.78.78-.78 2.05 0 2.83L4 21.41c.39.39.9.59 1.41.59.51 0 1.02-.2 1.41-.59l7.78-7.78 2.81-2.81c.8-.78.8-2.07 0-2.86zM5.41 20L4 18.59l7.72-7.72 1.47 1.35L5.41 20z\"/>\n",
              "  </svg>\n",
              "      </button>\n",
              "      \n",
              "  <style>\n",
              "    .colab-df-container {\n",
              "      display:flex;\n",
              "      flex-wrap:wrap;\n",
              "      gap: 12px;\n",
              "    }\n",
              "\n",
              "    .colab-df-convert {\n",
              "      background-color: #E8F0FE;\n",
              "      border: none;\n",
              "      border-radius: 50%;\n",
              "      cursor: pointer;\n",
              "      display: none;\n",
              "      fill: #1967D2;\n",
              "      height: 32px;\n",
              "      padding: 0 0 0 0;\n",
              "      width: 32px;\n",
              "    }\n",
              "\n",
              "    .colab-df-convert:hover {\n",
              "      background-color: #E2EBFA;\n",
              "      box-shadow: 0px 1px 2px rgba(60, 64, 67, 0.3), 0px 1px 3px 1px rgba(60, 64, 67, 0.15);\n",
              "      fill: #174EA6;\n",
              "    }\n",
              "\n",
              "    [theme=dark] .colab-df-convert {\n",
              "      background-color: #3B4455;\n",
              "      fill: #D2E3FC;\n",
              "    }\n",
              "\n",
              "    [theme=dark] .colab-df-convert:hover {\n",
              "      background-color: #434B5C;\n",
              "      box-shadow: 0px 1px 3px 1px rgba(0, 0, 0, 0.15);\n",
              "      filter: drop-shadow(0px 1px 2px rgba(0, 0, 0, 0.3));\n",
              "      fill: #FFFFFF;\n",
              "    }\n",
              "  </style>\n",
              "\n",
              "      <script>\n",
              "        const buttonEl =\n",
              "          document.querySelector('#df-6e30db8d-1926-4aa4-96d5-7248ad350a1c button.colab-df-convert');\n",
              "        buttonEl.style.display =\n",
              "          google.colab.kernel.accessAllowed ? 'block' : 'none';\n",
              "\n",
              "        async function convertToInteractive(key) {\n",
              "          const element = document.querySelector('#df-6e30db8d-1926-4aa4-96d5-7248ad350a1c');\n",
              "          const dataTable =\n",
              "            await google.colab.kernel.invokeFunction('convertToInteractive',\n",
              "                                                     [key], {});\n",
              "          if (!dataTable) return;\n",
              "\n",
              "          const docLinkHtml = 'Like what you see? Visit the ' +\n",
              "            '<a target=\"_blank\" href=https://colab.research.google.com/notebooks/data_table.ipynb>data table notebook</a>'\n",
              "            + ' to learn more about interactive tables.';\n",
              "          element.innerHTML = '';\n",
              "          dataTable['output_type'] = 'display_data';\n",
              "          await google.colab.output.renderOutput(dataTable, element);\n",
              "          const docLink = document.createElement('div');\n",
              "          docLink.innerHTML = docLinkHtml;\n",
              "          element.appendChild(docLink);\n",
              "        }\n",
              "      </script>\n",
              "    </div>\n",
              "  </div>\n",
              "  "
            ]
          },
          "metadata": {},
          "execution_count": 79
        }
      ]
    },
    {
      "cell_type": "markdown",
      "source": [
        "## Bagged Trees"
      ],
      "metadata": {
        "id": "meWFjS1xBoD2"
      }
    },
    {
      "cell_type": "markdown",
      "source": [
        "### Modelamos"
      ],
      "metadata": {
        "id": "hua_Wmw_Bq-n"
      }
    },
    {
      "cell_type": "code",
      "source": [
        "# Asignar el objetivo (y) y las características (X)\n",
        "y = df_clean['car_prices_in_rupee']\n",
        "X =df_clean.drop(columns = 'car_prices_in_rupee')\n",
        "\n",
        "# Realizar un train test split a los datos\n",
        "X_train, X_test, y_train, y_test = train_test_split(X, y, test_size=0.3, random_state = 42)\n",
        "\n",
        "# Instanciar el modelo\n",
        "bagreg = BaggingRegressor(random_state = 42)\n",
        "\n",
        "# Entrenar el modelo con los datos de entrenamiento\n",
        "bagreg.fit(X_train,y_train)"
      ],
      "metadata": {
        "colab": {
          "base_uri": "https://localhost:8080/"
        },
        "id": "ins81CWwB2BZ",
        "outputId": "fc9f198e-f79c-420f-893b-42f5d2e8acb0"
      },
      "execution_count": 70,
      "outputs": [
        {
          "output_type": "execute_result",
          "data": {
            "text/plain": [
              "BaggingRegressor(random_state=42)"
            ]
          },
          "metadata": {},
          "execution_count": 70
        }
      ]
    },
    {
      "cell_type": "markdown",
      "source": [
        "### Predicción del modelo"
      ],
      "metadata": {
        "id": "xdFsv9-qBttk"
      }
    },
    {
      "cell_type": "code",
      "source": [
        "# Obtengan las predicciones del conjunto de entrenamiento\n",
        "bagreg_train_preds = bagreg.predict(X_train)\n",
        "\n",
        "# Obtengan las predicciones del conjunto de prueba\n",
        "bagreg_test_preds = bagreg.predict(X_test)"
      ],
      "metadata": {
        "id": "NOnbyCSRB8FI"
      },
      "execution_count": 71,
      "outputs": []
    },
    {
      "cell_type": "markdown",
      "source": [
        "### Rendimiento del modelo"
      ],
      "metadata": {
        "id": "_7cmjJS8BwFW"
      }
    },
    {
      "cell_type": "code",
      "source": [
        "print('Model BaggingRegressor')\n",
        "\n",
        "# Coeficiente de determinación (R^2)\n",
        "bagreg_r2_train = r2_score(y_train, bagreg_train_preds)\n",
        "bagreg_r2_test = r2_score(y_test, bagreg_test_preds)\n",
        "print('Train R^2:', bagreg_r2_train)\n",
        "print('Test R^2:', bagreg_r2_test)"
      ],
      "metadata": {
        "colab": {
          "base_uri": "https://localhost:8080/"
        },
        "id": "58JJOcuCBZ_7",
        "outputId": "f0836979-01c6-46e8-824a-559366848dc4"
      },
      "execution_count": 72,
      "outputs": [
        {
          "output_type": "stream",
          "name": "stdout",
          "text": [
            "Model BaggingRegressor\n",
            "Train R^2: 0.9508688654429566\n",
            "Test R^2: 0.7690762818897139\n"
          ]
        }
      ]
    },
    {
      "cell_type": "code",
      "source": [
        "# Miren a los hiperparámetros\n",
        "bagreg.get_params()"
      ],
      "metadata": {
        "colab": {
          "base_uri": "https://localhost:8080/"
        },
        "id": "154QzrHTCVSP",
        "outputId": "188c19e8-7dac-4cfd-d9f2-4d60c5618404"
      },
      "execution_count": 73,
      "outputs": [
        {
          "output_type": "execute_result",
          "data": {
            "text/plain": [
              "{'base_estimator': None,\n",
              " 'bootstrap': True,\n",
              " 'bootstrap_features': False,\n",
              " 'max_features': 1.0,\n",
              " 'max_samples': 1.0,\n",
              " 'n_estimators': 10,\n",
              " 'n_jobs': None,\n",
              " 'oob_score': False,\n",
              " 'random_state': 42,\n",
              " 'verbose': 0,\n",
              " 'warm_start': False}"
            ]
          },
          "metadata": {},
          "execution_count": 73
        }
      ]
    },
    {
      "cell_type": "code",
      "source": [
        "# Intenten 100  estimadores\n",
        "bagreg_100 = BaggingRegressor(n_estimators = 100, random_state = 42)\n",
        "\n",
        "# Ajusten el modelo\n",
        "bagreg_100.fit(X_train, y_train)\n",
        "\n",
        "# Obtengan las puntuaciones\n",
        "bagreg_100_train_score = bagreg_100.score(X_train, y_train)\n",
        "bagreg_100_test_score = bagreg_100.score(X_test, y_test)\n",
        "print(bagreg_100_train_score)\n",
        "print(bagreg_100_test_score)"
      ],
      "metadata": {
        "colab": {
          "base_uri": "https://localhost:8080/"
        },
        "id": "Sl5kIs0FCggC",
        "outputId": "a308b632-79b0-4f1f-8ee4-8b0e239e4fc0"
      },
      "execution_count": 75,
      "outputs": [
        {
          "output_type": "stream",
          "name": "stdout",
          "text": [
            "0.9696955434233115\n",
            "0.8403451466856966\n"
          ]
        }
      ]
    },
    {
      "cell_type": "markdown",
      "source": [
        "Al probar con 100 estimadores para el modelo de Bagged Trees tenemos que ha mejorado el modelo para ambas fuentes, la de entrenamiento y la de prueba, asi que vamos a usar esa nueva configuración"
      ],
      "metadata": {
        "id": "xwfr-YH8DAyU"
      }
    },
    {
      "cell_type": "code",
      "source": [
        "# Colocamos los resultados del modelo DecisionTreeRegressor en un df \n",
        "df_metricas_bagreg =   pd.DataFrame({\n",
        "                        'r2 train'  : [bagreg_100_train_score],\n",
        "                        'r2 test'    : [bagreg_100_test_score],\n",
        "                        'model'     : ['BaggingRegressor']\n",
        "                     })\n",
        "\n",
        "# Agregar el df del modelo al frame de comparación\n",
        "frames.append(df_metricas_bagreg)\n",
        "\n",
        "# Revisar el Dataframe de comparación\n",
        "pd.concat(frames)"
      ],
      "metadata": {
        "colab": {
          "base_uri": "https://localhost:8080/",
          "height": 143
        },
        "id": "i6VM75yRC0kN",
        "outputId": "2b736d88-1380-49b7-81eb-2c30bd8479c8"
      },
      "execution_count": 80,
      "outputs": [
        {
          "output_type": "execute_result",
          "data": {
            "text/plain": [
              "   r2 train   r2 test                  model\n",
              "0  0.986493  0.925193       LinearRegression\n",
              "0  0.997273  0.778478  DecisionTreeRegressor\n",
              "0  0.969696  0.840345       BaggingRegressor"
            ],
            "text/html": [
              "\n",
              "  <div id=\"df-776e5f4c-f5a6-4e33-b8e8-affb299bc3ca\">\n",
              "    <div class=\"colab-df-container\">\n",
              "      <div>\n",
              "<style scoped>\n",
              "    .dataframe tbody tr th:only-of-type {\n",
              "        vertical-align: middle;\n",
              "    }\n",
              "\n",
              "    .dataframe tbody tr th {\n",
              "        vertical-align: top;\n",
              "    }\n",
              "\n",
              "    .dataframe thead th {\n",
              "        text-align: right;\n",
              "    }\n",
              "</style>\n",
              "<table border=\"1\" class=\"dataframe\">\n",
              "  <thead>\n",
              "    <tr style=\"text-align: right;\">\n",
              "      <th></th>\n",
              "      <th>r2 train</th>\n",
              "      <th>r2 test</th>\n",
              "      <th>model</th>\n",
              "    </tr>\n",
              "  </thead>\n",
              "  <tbody>\n",
              "    <tr>\n",
              "      <th>0</th>\n",
              "      <td>0.986493</td>\n",
              "      <td>0.925193</td>\n",
              "      <td>LinearRegression</td>\n",
              "    </tr>\n",
              "    <tr>\n",
              "      <th>0</th>\n",
              "      <td>0.997273</td>\n",
              "      <td>0.778478</td>\n",
              "      <td>DecisionTreeRegressor</td>\n",
              "    </tr>\n",
              "    <tr>\n",
              "      <th>0</th>\n",
              "      <td>0.969696</td>\n",
              "      <td>0.840345</td>\n",
              "      <td>BaggingRegressor</td>\n",
              "    </tr>\n",
              "  </tbody>\n",
              "</table>\n",
              "</div>\n",
              "      <button class=\"colab-df-convert\" onclick=\"convertToInteractive('df-776e5f4c-f5a6-4e33-b8e8-affb299bc3ca')\"\n",
              "              title=\"Convert this dataframe to an interactive table.\"\n",
              "              style=\"display:none;\">\n",
              "        \n",
              "  <svg xmlns=\"http://www.w3.org/2000/svg\" height=\"24px\"viewBox=\"0 0 24 24\"\n",
              "       width=\"24px\">\n",
              "    <path d=\"M0 0h24v24H0V0z\" fill=\"none\"/>\n",
              "    <path d=\"M18.56 5.44l.94 2.06.94-2.06 2.06-.94-2.06-.94-.94-2.06-.94 2.06-2.06.94zm-11 1L8.5 8.5l.94-2.06 2.06-.94-2.06-.94L8.5 2.5l-.94 2.06-2.06.94zm10 10l.94 2.06.94-2.06 2.06-.94-2.06-.94-.94-2.06-.94 2.06-2.06.94z\"/><path d=\"M17.41 7.96l-1.37-1.37c-.4-.4-.92-.59-1.43-.59-.52 0-1.04.2-1.43.59L10.3 9.45l-7.72 7.72c-.78.78-.78 2.05 0 2.83L4 21.41c.39.39.9.59 1.41.59.51 0 1.02-.2 1.41-.59l7.78-7.78 2.81-2.81c.8-.78.8-2.07 0-2.86zM5.41 20L4 18.59l7.72-7.72 1.47 1.35L5.41 20z\"/>\n",
              "  </svg>\n",
              "      </button>\n",
              "      \n",
              "  <style>\n",
              "    .colab-df-container {\n",
              "      display:flex;\n",
              "      flex-wrap:wrap;\n",
              "      gap: 12px;\n",
              "    }\n",
              "\n",
              "    .colab-df-convert {\n",
              "      background-color: #E8F0FE;\n",
              "      border: none;\n",
              "      border-radius: 50%;\n",
              "      cursor: pointer;\n",
              "      display: none;\n",
              "      fill: #1967D2;\n",
              "      height: 32px;\n",
              "      padding: 0 0 0 0;\n",
              "      width: 32px;\n",
              "    }\n",
              "\n",
              "    .colab-df-convert:hover {\n",
              "      background-color: #E2EBFA;\n",
              "      box-shadow: 0px 1px 2px rgba(60, 64, 67, 0.3), 0px 1px 3px 1px rgba(60, 64, 67, 0.15);\n",
              "      fill: #174EA6;\n",
              "    }\n",
              "\n",
              "    [theme=dark] .colab-df-convert {\n",
              "      background-color: #3B4455;\n",
              "      fill: #D2E3FC;\n",
              "    }\n",
              "\n",
              "    [theme=dark] .colab-df-convert:hover {\n",
              "      background-color: #434B5C;\n",
              "      box-shadow: 0px 1px 3px 1px rgba(0, 0, 0, 0.15);\n",
              "      filter: drop-shadow(0px 1px 2px rgba(0, 0, 0, 0.3));\n",
              "      fill: #FFFFFF;\n",
              "    }\n",
              "  </style>\n",
              "\n",
              "      <script>\n",
              "        const buttonEl =\n",
              "          document.querySelector('#df-776e5f4c-f5a6-4e33-b8e8-affb299bc3ca button.colab-df-convert');\n",
              "        buttonEl.style.display =\n",
              "          google.colab.kernel.accessAllowed ? 'block' : 'none';\n",
              "\n",
              "        async function convertToInteractive(key) {\n",
              "          const element = document.querySelector('#df-776e5f4c-f5a6-4e33-b8e8-affb299bc3ca');\n",
              "          const dataTable =\n",
              "            await google.colab.kernel.invokeFunction('convertToInteractive',\n",
              "                                                     [key], {});\n",
              "          if (!dataTable) return;\n",
              "\n",
              "          const docLinkHtml = 'Like what you see? Visit the ' +\n",
              "            '<a target=\"_blank\" href=https://colab.research.google.com/notebooks/data_table.ipynb>data table notebook</a>'\n",
              "            + ' to learn more about interactive tables.';\n",
              "          element.innerHTML = '';\n",
              "          dataTable['output_type'] = 'display_data';\n",
              "          await google.colab.output.renderOutput(dataTable, element);\n",
              "          const docLink = document.createElement('div');\n",
              "          docLink.innerHTML = docLinkHtml;\n",
              "          element.appendChild(docLink);\n",
              "        }\n",
              "      </script>\n",
              "    </div>\n",
              "  </div>\n",
              "  "
            ]
          },
          "metadata": {},
          "execution_count": 80
        }
      ]
    },
    {
      "cell_type": "markdown",
      "source": [
        "## Bosques Aleatorios"
      ],
      "metadata": {
        "id": "HVBzBdYODyg8"
      }
    },
    {
      "cell_type": "markdown",
      "source": [
        "### Modelamos"
      ],
      "metadata": {
        "id": "pxE2zPWpDzwZ"
      }
    },
    {
      "cell_type": "code",
      "source": [
        "# Asignar el objetivo (y) y las características (X)\n",
        "y = df_clean['car_prices_in_rupee']\n",
        "X =df_clean.drop(columns = 'car_prices_in_rupee')\n",
        "\n",
        "# Realizar un train test split a los datos\n",
        "X_train, X_test, y_train, y_test = train_test_split(X, y, test_size=0.3, random_state = 42)\n",
        "\n",
        "# Instanciar el modelo\n",
        "rf = RandomForestRegressor(random_state = 42)\n",
        "\n",
        "# Entrenar el modelo con los datos de entrenamiento\n",
        "rf.fit(X_train,y_train)"
      ],
      "metadata": {
        "colab": {
          "base_uri": "https://localhost:8080/"
        },
        "id": "o0uAH5-qDf-I",
        "outputId": "843d66e7-a20a-402b-e9dc-310753443860"
      },
      "execution_count": 81,
      "outputs": [
        {
          "output_type": "execute_result",
          "data": {
            "text/plain": [
              "RandomForestRegressor(random_state=42)"
            ]
          },
          "metadata": {},
          "execution_count": 81
        }
      ]
    },
    {
      "cell_type": "markdown",
      "source": [
        "### Rendimiento del modelo"
      ],
      "metadata": {
        "id": "01ZpA1eiD-bs"
      }
    },
    {
      "cell_type": "code",
      "source": [
        "rf_train_score = rf.score(X_train, y_train)\n",
        "rf_test_score = rf.score(X_test, y_test)\n",
        "print(rf_train_score)\n",
        "print(rf_test_score)"
      ],
      "metadata": {
        "colab": {
          "base_uri": "https://localhost:8080/"
        },
        "id": "Co08LMFWD5b_",
        "outputId": "8d718273-163f-4d67-ec50-01120332cc43"
      },
      "execution_count": 82,
      "outputs": [
        {
          "output_type": "stream",
          "name": "stdout",
          "text": [
            "0.9696079067731918\n",
            "0.8366017189029269\n"
          ]
        }
      ]
    },
    {
      "cell_type": "markdown",
      "source": [
        "### Ajustar el modelo"
      ],
      "metadata": {
        "id": "uDsVL4PQEIlz"
      }
    },
    {
      "cell_type": "code",
      "source": [
        "# Revisando algunos hiperparámetros que parecen ajustables\n",
        "rf.get_params()"
      ],
      "metadata": {
        "colab": {
          "base_uri": "https://localhost:8080/"
        },
        "id": "8XWSlrmdELyf",
        "outputId": "59b04953-f775-4858-e2f3-83246df585de"
      },
      "execution_count": 83,
      "outputs": [
        {
          "output_type": "execute_result",
          "data": {
            "text/plain": [
              "{'bootstrap': True,\n",
              " 'ccp_alpha': 0.0,\n",
              " 'criterion': 'squared_error',\n",
              " 'max_depth': None,\n",
              " 'max_features': 'auto',\n",
              " 'max_leaf_nodes': None,\n",
              " 'max_samples': None,\n",
              " 'min_impurity_decrease': 0.0,\n",
              " 'min_samples_leaf': 1,\n",
              " 'min_samples_split': 2,\n",
              " 'min_weight_fraction_leaf': 0.0,\n",
              " 'n_estimators': 100,\n",
              " 'n_jobs': None,\n",
              " 'oob_score': False,\n",
              " 'random_state': 42,\n",
              " 'verbose': 0,\n",
              " 'warm_start': False}"
            ]
          },
          "metadata": {},
          "execution_count": 83
        }
      ]
    },
    {
      "cell_type": "code",
      "source": [
        "# Intenten 200 árboles\n",
        "rf_200 = RandomForestRegressor(n_estimators = 300, random_state = 42)\n",
        "\n",
        "# Ajusten el modelo\n",
        "rf_200.fit(X_train, y_train)\n",
        "\n",
        "# Obtengan las puntuaciones\n",
        "rf_200_train_score = rf_200.score(X_train, y_train)\n",
        "rf_200_test_score = rf_200.score(X_test, y_test)\n",
        "print(rf_200_train_score)\n",
        "print(rf_200_test_score)"
      ],
      "metadata": {
        "colab": {
          "base_uri": "https://localhost:8080/"
        },
        "id": "H2RlD2ePECq0",
        "outputId": "be53ae4a-0cf6-411e-f196-a77506e7b922"
      },
      "execution_count": 85,
      "outputs": [
        {
          "output_type": "stream",
          "name": "stdout",
          "text": [
            "0.9713114926750711\n",
            "0.8324986601726623\n"
          ]
        }
      ]
    },
    {
      "cell_type": "markdown",
      "source": [
        "Al ejecutar con 300 estimadores incrementa el score de la data de entrentamiento, pero el score de la data de prueba baja, por ende nos quedaremos con la hiperparámetros predeterminados"
      ],
      "metadata": {
        "id": "KDIZU_hJE6vx"
      }
    },
    {
      "cell_type": "code",
      "source": [
        "# Colocamos los resultados del modelo RandomForestRegressor en un df \n",
        "df_metricas_rf =   pd.DataFrame({\n",
        "                        'r2 train'  : [rf_train_score],\n",
        "                        'r2 test'    : [rf_test_score],\n",
        "                        'model'     : ['RandomForestRegressor']\n",
        "                     })\n",
        "\n",
        "# Agregar el df del modelo al frame de comparación\n",
        "frames.append(df_metricas_rf)\n",
        "\n",
        "# Revisar el Dataframe de comparación\n",
        "pd.concat(frames)"
      ],
      "metadata": {
        "colab": {
          "base_uri": "https://localhost:8080/",
          "height": 175
        },
        "id": "zO9a7Ng4EY36",
        "outputId": "33013cda-766b-46be-e3b2-5032ebf79f85"
      },
      "execution_count": 86,
      "outputs": [
        {
          "output_type": "execute_result",
          "data": {
            "text/plain": [
              "   r2 train   r2 test                  model\n",
              "0  0.986493  0.925193       LinearRegression\n",
              "0  0.997273  0.778478  DecisionTreeRegressor\n",
              "0  0.969696  0.840345       BaggingRegressor\n",
              "0  0.969608  0.836602  RandomForestRegressor"
            ],
            "text/html": [
              "\n",
              "  <div id=\"df-64987f8e-4da6-4ef7-baee-c425b79d895a\">\n",
              "    <div class=\"colab-df-container\">\n",
              "      <div>\n",
              "<style scoped>\n",
              "    .dataframe tbody tr th:only-of-type {\n",
              "        vertical-align: middle;\n",
              "    }\n",
              "\n",
              "    .dataframe tbody tr th {\n",
              "        vertical-align: top;\n",
              "    }\n",
              "\n",
              "    .dataframe thead th {\n",
              "        text-align: right;\n",
              "    }\n",
              "</style>\n",
              "<table border=\"1\" class=\"dataframe\">\n",
              "  <thead>\n",
              "    <tr style=\"text-align: right;\">\n",
              "      <th></th>\n",
              "      <th>r2 train</th>\n",
              "      <th>r2 test</th>\n",
              "      <th>model</th>\n",
              "    </tr>\n",
              "  </thead>\n",
              "  <tbody>\n",
              "    <tr>\n",
              "      <th>0</th>\n",
              "      <td>0.986493</td>\n",
              "      <td>0.925193</td>\n",
              "      <td>LinearRegression</td>\n",
              "    </tr>\n",
              "    <tr>\n",
              "      <th>0</th>\n",
              "      <td>0.997273</td>\n",
              "      <td>0.778478</td>\n",
              "      <td>DecisionTreeRegressor</td>\n",
              "    </tr>\n",
              "    <tr>\n",
              "      <th>0</th>\n",
              "      <td>0.969696</td>\n",
              "      <td>0.840345</td>\n",
              "      <td>BaggingRegressor</td>\n",
              "    </tr>\n",
              "    <tr>\n",
              "      <th>0</th>\n",
              "      <td>0.969608</td>\n",
              "      <td>0.836602</td>\n",
              "      <td>RandomForestRegressor</td>\n",
              "    </tr>\n",
              "  </tbody>\n",
              "</table>\n",
              "</div>\n",
              "      <button class=\"colab-df-convert\" onclick=\"convertToInteractive('df-64987f8e-4da6-4ef7-baee-c425b79d895a')\"\n",
              "              title=\"Convert this dataframe to an interactive table.\"\n",
              "              style=\"display:none;\">\n",
              "        \n",
              "  <svg xmlns=\"http://www.w3.org/2000/svg\" height=\"24px\"viewBox=\"0 0 24 24\"\n",
              "       width=\"24px\">\n",
              "    <path d=\"M0 0h24v24H0V0z\" fill=\"none\"/>\n",
              "    <path d=\"M18.56 5.44l.94 2.06.94-2.06 2.06-.94-2.06-.94-.94-2.06-.94 2.06-2.06.94zm-11 1L8.5 8.5l.94-2.06 2.06-.94-2.06-.94L8.5 2.5l-.94 2.06-2.06.94zm10 10l.94 2.06.94-2.06 2.06-.94-2.06-.94-.94-2.06-.94 2.06-2.06.94z\"/><path d=\"M17.41 7.96l-1.37-1.37c-.4-.4-.92-.59-1.43-.59-.52 0-1.04.2-1.43.59L10.3 9.45l-7.72 7.72c-.78.78-.78 2.05 0 2.83L4 21.41c.39.39.9.59 1.41.59.51 0 1.02-.2 1.41-.59l7.78-7.78 2.81-2.81c.8-.78.8-2.07 0-2.86zM5.41 20L4 18.59l7.72-7.72 1.47 1.35L5.41 20z\"/>\n",
              "  </svg>\n",
              "      </button>\n",
              "      \n",
              "  <style>\n",
              "    .colab-df-container {\n",
              "      display:flex;\n",
              "      flex-wrap:wrap;\n",
              "      gap: 12px;\n",
              "    }\n",
              "\n",
              "    .colab-df-convert {\n",
              "      background-color: #E8F0FE;\n",
              "      border: none;\n",
              "      border-radius: 50%;\n",
              "      cursor: pointer;\n",
              "      display: none;\n",
              "      fill: #1967D2;\n",
              "      height: 32px;\n",
              "      padding: 0 0 0 0;\n",
              "      width: 32px;\n",
              "    }\n",
              "\n",
              "    .colab-df-convert:hover {\n",
              "      background-color: #E2EBFA;\n",
              "      box-shadow: 0px 1px 2px rgba(60, 64, 67, 0.3), 0px 1px 3px 1px rgba(60, 64, 67, 0.15);\n",
              "      fill: #174EA6;\n",
              "    }\n",
              "\n",
              "    [theme=dark] .colab-df-convert {\n",
              "      background-color: #3B4455;\n",
              "      fill: #D2E3FC;\n",
              "    }\n",
              "\n",
              "    [theme=dark] .colab-df-convert:hover {\n",
              "      background-color: #434B5C;\n",
              "      box-shadow: 0px 1px 3px 1px rgba(0, 0, 0, 0.15);\n",
              "      filter: drop-shadow(0px 1px 2px rgba(0, 0, 0, 0.3));\n",
              "      fill: #FFFFFF;\n",
              "    }\n",
              "  </style>\n",
              "\n",
              "      <script>\n",
              "        const buttonEl =\n",
              "          document.querySelector('#df-64987f8e-4da6-4ef7-baee-c425b79d895a button.colab-df-convert');\n",
              "        buttonEl.style.display =\n",
              "          google.colab.kernel.accessAllowed ? 'block' : 'none';\n",
              "\n",
              "        async function convertToInteractive(key) {\n",
              "          const element = document.querySelector('#df-64987f8e-4da6-4ef7-baee-c425b79d895a');\n",
              "          const dataTable =\n",
              "            await google.colab.kernel.invokeFunction('convertToInteractive',\n",
              "                                                     [key], {});\n",
              "          if (!dataTable) return;\n",
              "\n",
              "          const docLinkHtml = 'Like what you see? Visit the ' +\n",
              "            '<a target=\"_blank\" href=https://colab.research.google.com/notebooks/data_table.ipynb>data table notebook</a>'\n",
              "            + ' to learn more about interactive tables.';\n",
              "          element.innerHTML = '';\n",
              "          dataTable['output_type'] = 'display_data';\n",
              "          await google.colab.output.renderOutput(dataTable, element);\n",
              "          const docLink = document.createElement('div');\n",
              "          docLink.innerHTML = docLinkHtml;\n",
              "          element.appendChild(docLink);\n",
              "        }\n",
              "      </script>\n",
              "    </div>\n",
              "  </div>\n",
              "  "
            ]
          },
          "metadata": {},
          "execution_count": 86
        }
      ]
    },
    {
      "cell_type": "markdown",
      "source": [
        "# **Modelo Seleccionado**\n",
        "\n",
        "Después de haber realizado un análisis y un desarrollo de los modelos se puede deducir que el modelo con mejor rendimiento para la predicción de los precios es la Regresión lineal, ya que manejan scores parecidos tanto en la data de entrenamiento y de prueba, y ambos están más cercanos al 1, es decir, son modelos que están bien ajustados."
      ],
      "metadata": {
        "id": "ZyKkN0WiF-6_"
      }
    },
    {
      "cell_type": "code",
      "source": [],
      "metadata": {
        "id": "_Gy5vUF4FKs_"
      },
      "execution_count": null,
      "outputs": []
    }
  ]
}